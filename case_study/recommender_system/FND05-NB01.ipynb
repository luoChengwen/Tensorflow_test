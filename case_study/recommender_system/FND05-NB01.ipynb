{
 "cells": [
  {
   "cell_type": "markdown",
   "metadata": {},
   "source": [
    "# Build a song recommender system"
   ]
  },
  {
   "cell_type": "code",
   "execution_count": 2,
   "metadata": {},
   "outputs": [],
   "source": [
    "import turicreate"
   ]
  },
  {
   "cell_type": "markdown",
   "metadata": {},
   "source": [
    "# Load some music data"
   ]
  },
  {
   "cell_type": "code",
   "execution_count": 3,
   "metadata": {},
   "outputs": [],
   "source": [
    "song_data = turicreate.SFrame('song_data.sframe/')"
   ]
  },
  {
   "cell_type": "markdown",
   "metadata": {},
   "source": [
    "# Explore our data"
   ]
  },
  {
   "cell_type": "code",
   "execution_count": 4,
   "metadata": {},
   "outputs": [
    {
     "data": {
      "text/html": [
       "<div style=\"max-height:1000px;max-width:1500px;overflow:auto;\"><table frame=\"box\" rules=\"cols\">\n",
       "    <tr>\n",
       "        <th style=\"padding-left: 1em; padding-right: 1em; text-align: center\">user_id</th>\n",
       "        <th style=\"padding-left: 1em; padding-right: 1em; text-align: center\">song_id</th>\n",
       "        <th style=\"padding-left: 1em; padding-right: 1em; text-align: center\">listen_count</th>\n",
       "        <th style=\"padding-left: 1em; padding-right: 1em; text-align: center\">title</th>\n",
       "        <th style=\"padding-left: 1em; padding-right: 1em; text-align: center\">artist</th>\n",
       "    </tr>\n",
       "    <tr>\n",
       "        <td style=\"padding-left: 1em; padding-right: 1em; text-align: center; vertical-align: top\">b80344d063b5ccb3212f76538<br>f3d9e43d87dca9e ...</td>\n",
       "        <td style=\"padding-left: 1em; padding-right: 1em; text-align: center; vertical-align: top\">SOAKIMP12A8C130995</td>\n",
       "        <td style=\"padding-left: 1em; padding-right: 1em; text-align: center; vertical-align: top\">1</td>\n",
       "        <td style=\"padding-left: 1em; padding-right: 1em; text-align: center; vertical-align: top\">The Cove</td>\n",
       "        <td style=\"padding-left: 1em; padding-right: 1em; text-align: center; vertical-align: top\">Jack Johnson</td>\n",
       "    </tr>\n",
       "    <tr>\n",
       "        <td style=\"padding-left: 1em; padding-right: 1em; text-align: center; vertical-align: top\">b80344d063b5ccb3212f76538<br>f3d9e43d87dca9e ...</td>\n",
       "        <td style=\"padding-left: 1em; padding-right: 1em; text-align: center; vertical-align: top\">SOBBMDR12A8C13253B</td>\n",
       "        <td style=\"padding-left: 1em; padding-right: 1em; text-align: center; vertical-align: top\">2</td>\n",
       "        <td style=\"padding-left: 1em; padding-right: 1em; text-align: center; vertical-align: top\">Entre Dos Aguas</td>\n",
       "        <td style=\"padding-left: 1em; padding-right: 1em; text-align: center; vertical-align: top\">Paco De Lucia</td>\n",
       "    </tr>\n",
       "    <tr>\n",
       "        <td style=\"padding-left: 1em; padding-right: 1em; text-align: center; vertical-align: top\">b80344d063b5ccb3212f76538<br>f3d9e43d87dca9e ...</td>\n",
       "        <td style=\"padding-left: 1em; padding-right: 1em; text-align: center; vertical-align: top\">SOBXHDL12A81C204C0</td>\n",
       "        <td style=\"padding-left: 1em; padding-right: 1em; text-align: center; vertical-align: top\">1</td>\n",
       "        <td style=\"padding-left: 1em; padding-right: 1em; text-align: center; vertical-align: top\">Stronger</td>\n",
       "        <td style=\"padding-left: 1em; padding-right: 1em; text-align: center; vertical-align: top\">Kanye West</td>\n",
       "    </tr>\n",
       "    <tr>\n",
       "        <td style=\"padding-left: 1em; padding-right: 1em; text-align: center; vertical-align: top\">b80344d063b5ccb3212f76538<br>f3d9e43d87dca9e ...</td>\n",
       "        <td style=\"padding-left: 1em; padding-right: 1em; text-align: center; vertical-align: top\">SOBYHAJ12A6701BF1D</td>\n",
       "        <td style=\"padding-left: 1em; padding-right: 1em; text-align: center; vertical-align: top\">1</td>\n",
       "        <td style=\"padding-left: 1em; padding-right: 1em; text-align: center; vertical-align: top\">Constellations</td>\n",
       "        <td style=\"padding-left: 1em; padding-right: 1em; text-align: center; vertical-align: top\">Jack Johnson</td>\n",
       "    </tr>\n",
       "    <tr>\n",
       "        <td style=\"padding-left: 1em; padding-right: 1em; text-align: center; vertical-align: top\">b80344d063b5ccb3212f76538<br>f3d9e43d87dca9e ...</td>\n",
       "        <td style=\"padding-left: 1em; padding-right: 1em; text-align: center; vertical-align: top\">SODACBL12A8C13C273</td>\n",
       "        <td style=\"padding-left: 1em; padding-right: 1em; text-align: center; vertical-align: top\">1</td>\n",
       "        <td style=\"padding-left: 1em; padding-right: 1em; text-align: center; vertical-align: top\">Learn To Fly</td>\n",
       "        <td style=\"padding-left: 1em; padding-right: 1em; text-align: center; vertical-align: top\">Foo Fighters</td>\n",
       "    </tr>\n",
       "    <tr>\n",
       "        <td style=\"padding-left: 1em; padding-right: 1em; text-align: center; vertical-align: top\">b80344d063b5ccb3212f76538<br>f3d9e43d87dca9e ...</td>\n",
       "        <td style=\"padding-left: 1em; padding-right: 1em; text-align: center; vertical-align: top\">SODDNQT12A6D4F5F7E</td>\n",
       "        <td style=\"padding-left: 1em; padding-right: 1em; text-align: center; vertical-align: top\">5</td>\n",
       "        <td style=\"padding-left: 1em; padding-right: 1em; text-align: center; vertical-align: top\">Apuesta Por El Rock &#x27;N&#x27;<br>Roll ...</td>\n",
       "        <td style=\"padding-left: 1em; padding-right: 1em; text-align: center; vertical-align: top\">Héroes del Silencio</td>\n",
       "    </tr>\n",
       "    <tr>\n",
       "        <td style=\"padding-left: 1em; padding-right: 1em; text-align: center; vertical-align: top\">b80344d063b5ccb3212f76538<br>f3d9e43d87dca9e ...</td>\n",
       "        <td style=\"padding-left: 1em; padding-right: 1em; text-align: center; vertical-align: top\">SODXRTY12AB0180F3B</td>\n",
       "        <td style=\"padding-left: 1em; padding-right: 1em; text-align: center; vertical-align: top\">1</td>\n",
       "        <td style=\"padding-left: 1em; padding-right: 1em; text-align: center; vertical-align: top\">Paper Gangsta</td>\n",
       "        <td style=\"padding-left: 1em; padding-right: 1em; text-align: center; vertical-align: top\">Lady GaGa</td>\n",
       "    </tr>\n",
       "    <tr>\n",
       "        <td style=\"padding-left: 1em; padding-right: 1em; text-align: center; vertical-align: top\">b80344d063b5ccb3212f76538<br>f3d9e43d87dca9e ...</td>\n",
       "        <td style=\"padding-left: 1em; padding-right: 1em; text-align: center; vertical-align: top\">SOFGUAY12AB017B0A8</td>\n",
       "        <td style=\"padding-left: 1em; padding-right: 1em; text-align: center; vertical-align: top\">1</td>\n",
       "        <td style=\"padding-left: 1em; padding-right: 1em; text-align: center; vertical-align: top\">Stacked Actors</td>\n",
       "        <td style=\"padding-left: 1em; padding-right: 1em; text-align: center; vertical-align: top\">Foo Fighters</td>\n",
       "    </tr>\n",
       "    <tr>\n",
       "        <td style=\"padding-left: 1em; padding-right: 1em; text-align: center; vertical-align: top\">b80344d063b5ccb3212f76538<br>f3d9e43d87dca9e ...</td>\n",
       "        <td style=\"padding-left: 1em; padding-right: 1em; text-align: center; vertical-align: top\">SOFRQTD12A81C233C0</td>\n",
       "        <td style=\"padding-left: 1em; padding-right: 1em; text-align: center; vertical-align: top\">1</td>\n",
       "        <td style=\"padding-left: 1em; padding-right: 1em; text-align: center; vertical-align: top\">Sehr kosmisch</td>\n",
       "        <td style=\"padding-left: 1em; padding-right: 1em; text-align: center; vertical-align: top\">Harmonia</td>\n",
       "    </tr>\n",
       "    <tr>\n",
       "        <td style=\"padding-left: 1em; padding-right: 1em; text-align: center; vertical-align: top\">b80344d063b5ccb3212f76538<br>f3d9e43d87dca9e ...</td>\n",
       "        <td style=\"padding-left: 1em; padding-right: 1em; text-align: center; vertical-align: top\">SOHQWYZ12A6D4FA701</td>\n",
       "        <td style=\"padding-left: 1em; padding-right: 1em; text-align: center; vertical-align: top\">1</td>\n",
       "        <td style=\"padding-left: 1em; padding-right: 1em; text-align: center; vertical-align: top\">Heaven&#x27;s gonna burn your<br>eyes ...</td>\n",
       "        <td style=\"padding-left: 1em; padding-right: 1em; text-align: center; vertical-align: top\">Thievery Corporation<br>feat. Emiliana Torrini ...</td>\n",
       "    </tr>\n",
       "</table>\n",
       "<table frame=\"box\" rules=\"cols\">\n",
       "    <tr>\n",
       "        <th style=\"padding-left: 1em; padding-right: 1em; text-align: center\">song</th>\n",
       "    </tr>\n",
       "    <tr>\n",
       "        <td style=\"padding-left: 1em; padding-right: 1em; text-align: center; vertical-align: top\">The Cove - Jack Johnson</td>\n",
       "    </tr>\n",
       "    <tr>\n",
       "        <td style=\"padding-left: 1em; padding-right: 1em; text-align: center; vertical-align: top\">Entre Dos Aguas - Paco De<br>Lucia ...</td>\n",
       "    </tr>\n",
       "    <tr>\n",
       "        <td style=\"padding-left: 1em; padding-right: 1em; text-align: center; vertical-align: top\">Stronger - Kanye West</td>\n",
       "    </tr>\n",
       "    <tr>\n",
       "        <td style=\"padding-left: 1em; padding-right: 1em; text-align: center; vertical-align: top\">Constellations - Jack<br>Johnson ...</td>\n",
       "    </tr>\n",
       "    <tr>\n",
       "        <td style=\"padding-left: 1em; padding-right: 1em; text-align: center; vertical-align: top\">Learn To Fly - Foo<br>Fighters ...</td>\n",
       "    </tr>\n",
       "    <tr>\n",
       "        <td style=\"padding-left: 1em; padding-right: 1em; text-align: center; vertical-align: top\">Apuesta Por El Rock &#x27;N&#x27;<br>Roll - Héroes del ...</td>\n",
       "    </tr>\n",
       "    <tr>\n",
       "        <td style=\"padding-left: 1em; padding-right: 1em; text-align: center; vertical-align: top\">Paper Gangsta - Lady GaGa</td>\n",
       "    </tr>\n",
       "    <tr>\n",
       "        <td style=\"padding-left: 1em; padding-right: 1em; text-align: center; vertical-align: top\">Stacked Actors - Foo<br>Fighters ...</td>\n",
       "    </tr>\n",
       "    <tr>\n",
       "        <td style=\"padding-left: 1em; padding-right: 1em; text-align: center; vertical-align: top\">Sehr kosmisch - Harmonia</td>\n",
       "    </tr>\n",
       "    <tr>\n",
       "        <td style=\"padding-left: 1em; padding-right: 1em; text-align: center; vertical-align: top\">Heaven&#x27;s gonna burn your<br>eyes - Thievery ...</td>\n",
       "    </tr>\n",
       "</table>\n",
       "[1116609 rows x 6 columns]<br/>Note: Only the head of the SFrame is printed.<br/>You can use print_rows(num_rows=m, num_columns=n) to print more rows and columns.\n",
       "</div>"
      ],
      "text/plain": [
       "Columns:\n",
       "\tuser_id\tstr\n",
       "\tsong_id\tstr\n",
       "\tlisten_count\tint\n",
       "\ttitle\tstr\n",
       "\tartist\tstr\n",
       "\tsong\tstr\n",
       "\n",
       "Rows: 1116609\n",
       "\n",
       "Data:\n",
       "+-------------------------------+--------------------+--------------+\n",
       "|            user_id            |      song_id       | listen_count |\n",
       "+-------------------------------+--------------------+--------------+\n",
       "| b80344d063b5ccb3212f76538f... | SOAKIMP12A8C130995 |      1       |\n",
       "| b80344d063b5ccb3212f76538f... | SOBBMDR12A8C13253B |      2       |\n",
       "| b80344d063b5ccb3212f76538f... | SOBXHDL12A81C204C0 |      1       |\n",
       "| b80344d063b5ccb3212f76538f... | SOBYHAJ12A6701BF1D |      1       |\n",
       "| b80344d063b5ccb3212f76538f... | SODACBL12A8C13C273 |      1       |\n",
       "| b80344d063b5ccb3212f76538f... | SODDNQT12A6D4F5F7E |      5       |\n",
       "| b80344d063b5ccb3212f76538f... | SODXRTY12AB0180F3B |      1       |\n",
       "| b80344d063b5ccb3212f76538f... | SOFGUAY12AB017B0A8 |      1       |\n",
       "| b80344d063b5ccb3212f76538f... | SOFRQTD12A81C233C0 |      1       |\n",
       "| b80344d063b5ccb3212f76538f... | SOHQWYZ12A6D4FA701 |      1       |\n",
       "+-------------------------------+--------------------+--------------+\n",
       "+-------------------------------+-------------------------------+\n",
       "|             title             |             artist            |\n",
       "+-------------------------------+-------------------------------+\n",
       "|            The Cove           |          Jack Johnson         |\n",
       "|        Entre Dos Aguas        |         Paco De Lucia         |\n",
       "|            Stronger           |           Kanye West          |\n",
       "|         Constellations        |          Jack Johnson         |\n",
       "|          Learn To Fly         |          Foo Fighters         |\n",
       "|  Apuesta Por El Rock 'N' Roll |      Héroes del Silencio      |\n",
       "|         Paper Gangsta         |           Lady GaGa           |\n",
       "|         Stacked Actors        |          Foo Fighters         |\n",
       "|         Sehr kosmisch         |            Harmonia           |\n",
       "| Heaven's gonna burn your eyes | Thievery Corporation feat.... |\n",
       "+-------------------------------+-------------------------------+\n",
       "+-------------------------------+\n",
       "|              song             |\n",
       "+-------------------------------+\n",
       "|    The Cove - Jack Johnson    |\n",
       "| Entre Dos Aguas - Paco De ... |\n",
       "|     Stronger - Kanye West     |\n",
       "| Constellations - Jack Johnson |\n",
       "|  Learn To Fly - Foo Fighters  |\n",
       "| Apuesta Por El Rock 'N' Ro... |\n",
       "|   Paper Gangsta - Lady GaGa   |\n",
       "| Stacked Actors - Foo Fighters |\n",
       "|    Sehr kosmisch - Harmonia   |\n",
       "| Heaven's gonna burn your e... |\n",
       "+-------------------------------+\n",
       "[1116609 rows x 6 columns]\n",
       "Note: Only the head of the SFrame is printed.\n",
       "You can use print_rows(num_rows=m, num_columns=n) to print more rows and columns."
      ]
     },
     "execution_count": 4,
     "metadata": {},
     "output_type": "execute_result"
    }
   ],
   "source": [
    "song_data"
   ]
  },
  {
   "cell_type": "code",
   "execution_count": 5,
   "metadata": {},
   "outputs": [
    {
     "data": {
      "text/html": [
       "<div style=\"max-height:1000px;max-width:1500px;overflow:auto;\"><table frame=\"box\" rules=\"cols\">\n",
       "    <tr>\n",
       "        <th style=\"padding-left: 1em; padding-right: 1em; text-align: center\">user_id</th>\n",
       "        <th style=\"padding-left: 1em; padding-right: 1em; text-align: center\">song_id</th>\n",
       "        <th style=\"padding-left: 1em; padding-right: 1em; text-align: center\">listen_count</th>\n",
       "        <th style=\"padding-left: 1em; padding-right: 1em; text-align: center\">title</th>\n",
       "        <th style=\"padding-left: 1em; padding-right: 1em; text-align: center\">artist</th>\n",
       "    </tr>\n",
       "    <tr>\n",
       "        <td style=\"padding-left: 1em; padding-right: 1em; text-align: center; vertical-align: top\">b80344d063b5ccb3212f76538<br>f3d9e43d87dca9e ...</td>\n",
       "        <td style=\"padding-left: 1em; padding-right: 1em; text-align: center; vertical-align: top\">SOAKIMP12A8C130995</td>\n",
       "        <td style=\"padding-left: 1em; padding-right: 1em; text-align: center; vertical-align: top\">1</td>\n",
       "        <td style=\"padding-left: 1em; padding-right: 1em; text-align: center; vertical-align: top\">The Cove</td>\n",
       "        <td style=\"padding-left: 1em; padding-right: 1em; text-align: center; vertical-align: top\">Jack Johnson</td>\n",
       "    </tr>\n",
       "    <tr>\n",
       "        <td style=\"padding-left: 1em; padding-right: 1em; text-align: center; vertical-align: top\">b80344d063b5ccb3212f76538<br>f3d9e43d87dca9e ...</td>\n",
       "        <td style=\"padding-left: 1em; padding-right: 1em; text-align: center; vertical-align: top\">SOBYHAJ12A6701BF1D</td>\n",
       "        <td style=\"padding-left: 1em; padding-right: 1em; text-align: center; vertical-align: top\">1</td>\n",
       "        <td style=\"padding-left: 1em; padding-right: 1em; text-align: center; vertical-align: top\">Constellations</td>\n",
       "        <td style=\"padding-left: 1em; padding-right: 1em; text-align: center; vertical-align: top\">Jack Johnson</td>\n",
       "    </tr>\n",
       "    <tr>\n",
       "        <td style=\"padding-left: 1em; padding-right: 1em; text-align: center; vertical-align: top\">b80344d063b5ccb3212f76538<br>f3d9e43d87dca9e ...</td>\n",
       "        <td style=\"padding-left: 1em; padding-right: 1em; text-align: center; vertical-align: top\">SOYHEPA12A8C13097F</td>\n",
       "        <td style=\"padding-left: 1em; padding-right: 1em; text-align: center; vertical-align: top\">8</td>\n",
       "        <td style=\"padding-left: 1em; padding-right: 1em; text-align: center; vertical-align: top\">Moonshine</td>\n",
       "        <td style=\"padding-left: 1em; padding-right: 1em; text-align: center; vertical-align: top\">Jack Johnson</td>\n",
       "    </tr>\n",
       "    <tr>\n",
       "        <td style=\"padding-left: 1em; padding-right: 1em; text-align: center; vertical-align: top\">b80344d063b5ccb3212f76538<br>f3d9e43d87dca9e ...</td>\n",
       "        <td style=\"padding-left: 1em; padding-right: 1em; text-align: center; vertical-align: top\">SOZOBWN12A8C130999</td>\n",
       "        <td style=\"padding-left: 1em; padding-right: 1em; text-align: center; vertical-align: top\">1</td>\n",
       "        <td style=\"padding-left: 1em; padding-right: 1em; text-align: center; vertical-align: top\">Holes To Heaven</td>\n",
       "        <td style=\"padding-left: 1em; padding-right: 1em; text-align: center; vertical-align: top\">Jack Johnson</td>\n",
       "    </tr>\n",
       "    <tr>\n",
       "        <td style=\"padding-left: 1em; padding-right: 1em; text-align: center; vertical-align: top\">bd4c6e843f00bd476847fb75c<br>47b4fb430a06856 ...</td>\n",
       "        <td style=\"padding-left: 1em; padding-right: 1em; text-align: center; vertical-align: top\">SOCZTMT12AF72A078E</td>\n",
       "        <td style=\"padding-left: 1em; padding-right: 1em; text-align: center; vertical-align: top\">1</td>\n",
       "        <td style=\"padding-left: 1em; padding-right: 1em; text-align: center; vertical-align: top\">Belle</td>\n",
       "        <td style=\"padding-left: 1em; padding-right: 1em; text-align: center; vertical-align: top\">Jack Johnson</td>\n",
       "    </tr>\n",
       "    <tr>\n",
       "        <td style=\"padding-left: 1em; padding-right: 1em; text-align: center; vertical-align: top\">169f9f4c68b62d1887c7c0ac9<br>9d10a79cfca5daf ...</td>\n",
       "        <td style=\"padding-left: 1em; padding-right: 1em; text-align: center; vertical-align: top\">SOERYLG12A6701F07F</td>\n",
       "        <td style=\"padding-left: 1em; padding-right: 1em; text-align: center; vertical-align: top\">1</td>\n",
       "        <td style=\"padding-left: 1em; padding-right: 1em; text-align: center; vertical-align: top\">Times Like These</td>\n",
       "        <td style=\"padding-left: 1em; padding-right: 1em; text-align: center; vertical-align: top\">Jack Johnson</td>\n",
       "    </tr>\n",
       "    <tr>\n",
       "        <td style=\"padding-left: 1em; padding-right: 1em; text-align: center; vertical-align: top\">169f9f4c68b62d1887c7c0ac9<br>9d10a79cfca5daf ...</td>\n",
       "        <td style=\"padding-left: 1em; padding-right: 1em; text-align: center; vertical-align: top\">SOKUTUM12A6701D9CD</td>\n",
       "        <td style=\"padding-left: 1em; padding-right: 1em; text-align: center; vertical-align: top\">1</td>\n",
       "        <td style=\"padding-left: 1em; padding-right: 1em; text-align: center; vertical-align: top\">Do You Remember</td>\n",
       "        <td style=\"padding-left: 1em; padding-right: 1em; text-align: center; vertical-align: top\">Jack Johnson</td>\n",
       "    </tr>\n",
       "    <tr>\n",
       "        <td style=\"padding-left: 1em; padding-right: 1em; text-align: center; vertical-align: top\">405d396ea64d75b5eaefaaf8a<br>c836f45fa56af4d ...</td>\n",
       "        <td style=\"padding-left: 1em; padding-right: 1em; text-align: center; vertical-align: top\">SOOABBO12A6701DFDA</td>\n",
       "        <td style=\"padding-left: 1em; padding-right: 1em; text-align: center; vertical-align: top\">1</td>\n",
       "        <td style=\"padding-left: 1em; padding-right: 1em; text-align: center; vertical-align: top\">Flake</td>\n",
       "        <td style=\"padding-left: 1em; padding-right: 1em; text-align: center; vertical-align: top\">Jack Johnson</td>\n",
       "    </tr>\n",
       "    <tr>\n",
       "        <td style=\"padding-left: 1em; padding-right: 1em; text-align: center; vertical-align: top\">77cac5c3389010b64d01b30f7<br>25c24de4a5bb626 ...</td>\n",
       "        <td style=\"padding-left: 1em; padding-right: 1em; text-align: center; vertical-align: top\">SOJJDYI12A6701FC23</td>\n",
       "        <td style=\"padding-left: 1em; padding-right: 1em; text-align: center; vertical-align: top\">1</td>\n",
       "        <td style=\"padding-left: 1em; padding-right: 1em; text-align: center; vertical-align: top\">Holes To Heaven</td>\n",
       "        <td style=\"padding-left: 1em; padding-right: 1em; text-align: center; vertical-align: top\">Jack Johnson</td>\n",
       "    </tr>\n",
       "    <tr>\n",
       "        <td style=\"padding-left: 1em; padding-right: 1em; text-align: center; vertical-align: top\">3f9ed694a79835c921ef6d94a<br>cd28f876c1d901e ...</td>\n",
       "        <td style=\"padding-left: 1em; padding-right: 1em; text-align: center; vertical-align: top\">SOGCDYR12AC961854A</td>\n",
       "        <td style=\"padding-left: 1em; padding-right: 1em; text-align: center; vertical-align: top\">5</td>\n",
       "        <td style=\"padding-left: 1em; padding-right: 1em; text-align: center; vertical-align: top\">You And Your Heart</td>\n",
       "        <td style=\"padding-left: 1em; padding-right: 1em; text-align: center; vertical-align: top\">Jack Johnson</td>\n",
       "    </tr>\n",
       "</table>\n",
       "<table frame=\"box\" rules=\"cols\">\n",
       "    <tr>\n",
       "        <th style=\"padding-left: 1em; padding-right: 1em; text-align: center\">song</th>\n",
       "    </tr>\n",
       "    <tr>\n",
       "        <td style=\"padding-left: 1em; padding-right: 1em; text-align: center; vertical-align: top\">The Cove - Jack Johnson</td>\n",
       "    </tr>\n",
       "    <tr>\n",
       "        <td style=\"padding-left: 1em; padding-right: 1em; text-align: center; vertical-align: top\">Constellations - Jack<br>Johnson ...</td>\n",
       "    </tr>\n",
       "    <tr>\n",
       "        <td style=\"padding-left: 1em; padding-right: 1em; text-align: center; vertical-align: top\">Moonshine - Jack Johnson</td>\n",
       "    </tr>\n",
       "    <tr>\n",
       "        <td style=\"padding-left: 1em; padding-right: 1em; text-align: center; vertical-align: top\">Holes To Heaven - Jack<br>Johnson ...</td>\n",
       "    </tr>\n",
       "    <tr>\n",
       "        <td style=\"padding-left: 1em; padding-right: 1em; text-align: center; vertical-align: top\">Belle - Jack Johnson</td>\n",
       "    </tr>\n",
       "    <tr>\n",
       "        <td style=\"padding-left: 1em; padding-right: 1em; text-align: center; vertical-align: top\">Times Like These - Jack<br>Johnson ...</td>\n",
       "    </tr>\n",
       "    <tr>\n",
       "        <td style=\"padding-left: 1em; padding-right: 1em; text-align: center; vertical-align: top\">Do You Remember - Jack<br>Johnson ...</td>\n",
       "    </tr>\n",
       "    <tr>\n",
       "        <td style=\"padding-left: 1em; padding-right: 1em; text-align: center; vertical-align: top\">Flake - Jack Johnson</td>\n",
       "    </tr>\n",
       "    <tr>\n",
       "        <td style=\"padding-left: 1em; padding-right: 1em; text-align: center; vertical-align: top\">Holes To Heaven - Jack<br>Johnson ...</td>\n",
       "    </tr>\n",
       "    <tr>\n",
       "        <td style=\"padding-left: 1em; padding-right: 1em; text-align: center; vertical-align: top\">You And Your Heart - Jack<br>Johnson ...</td>\n",
       "    </tr>\n",
       "</table>\n",
       "[? rows x 6 columns]<br/>Note: Only the head of the SFrame is printed. This SFrame is lazily evaluated.<br/>You can use sf.materialize() to force materialization.\n",
       "</div>"
      ],
      "text/plain": [
       "Columns:\n",
       "\tuser_id\tstr\n",
       "\tsong_id\tstr\n",
       "\tlisten_count\tint\n",
       "\ttitle\tstr\n",
       "\tartist\tstr\n",
       "\tsong\tstr\n",
       "\n",
       "Rows: Unknown\n",
       "\n",
       "Data:\n",
       "+-------------------------------+--------------------+--------------+\n",
       "|            user_id            |      song_id       | listen_count |\n",
       "+-------------------------------+--------------------+--------------+\n",
       "| b80344d063b5ccb3212f76538f... | SOAKIMP12A8C130995 |      1       |\n",
       "| b80344d063b5ccb3212f76538f... | SOBYHAJ12A6701BF1D |      1       |\n",
       "| b80344d063b5ccb3212f76538f... | SOYHEPA12A8C13097F |      8       |\n",
       "| b80344d063b5ccb3212f76538f... | SOZOBWN12A8C130999 |      1       |\n",
       "| bd4c6e843f00bd476847fb75c4... | SOCZTMT12AF72A078E |      1       |\n",
       "| 169f9f4c68b62d1887c7c0ac99... | SOERYLG12A6701F07F |      1       |\n",
       "| 169f9f4c68b62d1887c7c0ac99... | SOKUTUM12A6701D9CD |      1       |\n",
       "| 405d396ea64d75b5eaefaaf8ac... | SOOABBO12A6701DFDA |      1       |\n",
       "| 77cac5c3389010b64d01b30f72... | SOJJDYI12A6701FC23 |      1       |\n",
       "| 3f9ed694a79835c921ef6d94ac... | SOGCDYR12AC961854A |      5       |\n",
       "+-------------------------------+--------------------+--------------+\n",
       "+--------------------+--------------+--------------------------------+\n",
       "|       title        |    artist    |              song              |\n",
       "+--------------------+--------------+--------------------------------+\n",
       "|      The Cove      | Jack Johnson |    The Cove - Jack Johnson     |\n",
       "|   Constellations   | Jack Johnson | Constellations - Jack Johnson  |\n",
       "|     Moonshine      | Jack Johnson |    Moonshine - Jack Johnson    |\n",
       "|  Holes To Heaven   | Jack Johnson | Holes To Heaven - Jack Johnson |\n",
       "|       Belle        | Jack Johnson |      Belle - Jack Johnson      |\n",
       "|  Times Like These  | Jack Johnson | Times Like These - Jack Jo...  |\n",
       "|  Do You Remember   | Jack Johnson | Do You Remember - Jack Johnson |\n",
       "|       Flake        | Jack Johnson |      Flake - Jack Johnson      |\n",
       "|  Holes To Heaven   | Jack Johnson | Holes To Heaven - Jack Johnson |\n",
       "| You And Your Heart | Jack Johnson | You And Your Heart - Jack ...  |\n",
       "+--------------------+--------------+--------------------------------+\n",
       "[? rows x 6 columns]\n",
       "Note: Only the head of the SFrame is printed. This SFrame is lazily evaluated.\n",
       "You can use sf.materialize() to force materialization."
      ]
     },
     "execution_count": 5,
     "metadata": {},
     "output_type": "execute_result"
    }
   ],
   "source": [
    "song_data[song_data['artist'] == 'Jack Johnson']"
   ]
  },
  {
   "cell_type": "code",
   "execution_count": 6,
   "metadata": {},
   "outputs": [
    {
     "data": {
      "text/plain": [
       "10000"
      ]
     },
     "execution_count": 6,
     "metadata": {},
     "output_type": "execute_result"
    }
   ],
   "source": [
    "len(set(song_data['song_id']))"
   ]
  },
  {
   "cell_type": "code",
   "execution_count": 7,
   "metadata": {},
   "outputs": [
    {
     "data": {
      "text/plain": [
       "66346"
      ]
     },
     "execution_count": 7,
     "metadata": {},
     "output_type": "execute_result"
    }
   ],
   "source": [
    "len(set(song_data['user_id']))"
   ]
  },
  {
   "cell_type": "code",
   "execution_count": 8,
   "metadata": {},
   "outputs": [
    {
     "data": {
      "text/plain": [
       "1116609"
      ]
     },
     "execution_count": 8,
     "metadata": {},
     "output_type": "execute_result"
    }
   ],
   "source": [
    "len(song_data['user_id'])"
   ]
  },
  {
   "cell_type": "code",
   "execution_count": 9,
   "metadata": {},
   "outputs": [
    {
     "data": {
      "text/plain": [
       "1116609"
      ]
     },
     "execution_count": 9,
     "metadata": {},
     "output_type": "execute_result"
    }
   ],
   "source": [
    "len(song_data['song_id'])"
   ]
  },
  {
   "cell_type": "code",
   "execution_count": 10,
   "metadata": {},
   "outputs": [],
   "source": [
    "from collections import Counter"
   ]
  },
  {
   "cell_type": "code",
   "execution_count": 11,
   "metadata": {},
   "outputs": [],
   "source": [
    "dups = [k for k,v in Counter(song_data['song_id']).items() if v>1]"
   ]
  },
  {
   "cell_type": "code",
   "execution_count": 12,
   "metadata": {},
   "outputs": [
    {
     "data": {
      "text/plain": [
       "['SOAKIMP12A8C130995',\n",
       " 'SOBBMDR12A8C13253B',\n",
       " 'SOBXHDL12A81C204C0',\n",
       " 'SOBYHAJ12A6701BF1D',\n",
       " 'SODACBL12A8C13C273',\n",
       " 'SODDNQT12A6D4F5F7E',\n",
       " 'SODXRTY12AB0180F3B',\n",
       " 'SOFGUAY12AB017B0A8',\n",
       " 'SOFRQTD12A81C233C0',\n",
       " 'SOHQWYZ12A6D4FA701']"
      ]
     },
     "execution_count": 12,
     "metadata": {},
     "output_type": "execute_result"
    }
   ],
   "source": [
    "dups[:10]"
   ]
  },
  {
   "cell_type": "code",
   "execution_count": 13,
   "metadata": {},
   "outputs": [
    {
     "data": {
      "text/html": [
       "<div style=\"max-height:1000px;max-width:1500px;overflow:auto;\"><table frame=\"box\" rules=\"cols\">\n",
       "    <tr>\n",
       "        <th style=\"padding-left: 1em; padding-right: 1em; text-align: center\">user_id</th>\n",
       "        <th style=\"padding-left: 1em; padding-right: 1em; text-align: center\">song_id</th>\n",
       "        <th style=\"padding-left: 1em; padding-right: 1em; text-align: center\">listen_count</th>\n",
       "        <th style=\"padding-left: 1em; padding-right: 1em; text-align: center\">title</th>\n",
       "        <th style=\"padding-left: 1em; padding-right: 1em; text-align: center\">artist</th>\n",
       "        <th style=\"padding-left: 1em; padding-right: 1em; text-align: center\">song</th>\n",
       "    </tr>\n",
       "    <tr>\n",
       "        <td style=\"padding-left: 1em; padding-right: 1em; text-align: center; vertical-align: top\">b80344d063b5ccb3212f76538<br>f3d9e43d87dca9e ...</td>\n",
       "        <td style=\"padding-left: 1em; padding-right: 1em; text-align: center; vertical-align: top\">SOAKIMP12A8C130995</td>\n",
       "        <td style=\"padding-left: 1em; padding-right: 1em; text-align: center; vertical-align: top\">1</td>\n",
       "        <td style=\"padding-left: 1em; padding-right: 1em; text-align: center; vertical-align: top\">The Cove</td>\n",
       "        <td style=\"padding-left: 1em; padding-right: 1em; text-align: center; vertical-align: top\">Jack Johnson</td>\n",
       "        <td style=\"padding-left: 1em; padding-right: 1em; text-align: center; vertical-align: top\">The Cove - Jack Johnson</td>\n",
       "    </tr>\n",
       "    <tr>\n",
       "        <td style=\"padding-left: 1em; padding-right: 1em; text-align: center; vertical-align: top\">7a4b8e7d2905d13422418b4f4<br>8cc85100892e013 ...</td>\n",
       "        <td style=\"padding-left: 1em; padding-right: 1em; text-align: center; vertical-align: top\">SOAKIMP12A8C130995</td>\n",
       "        <td style=\"padding-left: 1em; padding-right: 1em; text-align: center; vertical-align: top\">6</td>\n",
       "        <td style=\"padding-left: 1em; padding-right: 1em; text-align: center; vertical-align: top\">The Cove</td>\n",
       "        <td style=\"padding-left: 1em; padding-right: 1em; text-align: center; vertical-align: top\">Jack Johnson</td>\n",
       "        <td style=\"padding-left: 1em; padding-right: 1em; text-align: center; vertical-align: top\">The Cove - Jack Johnson</td>\n",
       "    </tr>\n",
       "    <tr>\n",
       "        <td style=\"padding-left: 1em; padding-right: 1em; text-align: center; vertical-align: top\">33280fc74b168e2667a2da5c6<br>ab4df4cc6edfb23 ...</td>\n",
       "        <td style=\"padding-left: 1em; padding-right: 1em; text-align: center; vertical-align: top\">SOAKIMP12A8C130995</td>\n",
       "        <td style=\"padding-left: 1em; padding-right: 1em; text-align: center; vertical-align: top\">1</td>\n",
       "        <td style=\"padding-left: 1em; padding-right: 1em; text-align: center; vertical-align: top\">The Cove</td>\n",
       "        <td style=\"padding-left: 1em; padding-right: 1em; text-align: center; vertical-align: top\">Jack Johnson</td>\n",
       "        <td style=\"padding-left: 1em; padding-right: 1em; text-align: center; vertical-align: top\">The Cove - Jack Johnson</td>\n",
       "    </tr>\n",
       "    <tr>\n",
       "        <td style=\"padding-left: 1em; padding-right: 1em; text-align: center; vertical-align: top\">71cf32f8871060079133fb152<br>38ec8a38937e676 ...</td>\n",
       "        <td style=\"padding-left: 1em; padding-right: 1em; text-align: center; vertical-align: top\">SOAKIMP12A8C130995</td>\n",
       "        <td style=\"padding-left: 1em; padding-right: 1em; text-align: center; vertical-align: top\">1</td>\n",
       "        <td style=\"padding-left: 1em; padding-right: 1em; text-align: center; vertical-align: top\">The Cove</td>\n",
       "        <td style=\"padding-left: 1em; padding-right: 1em; text-align: center; vertical-align: top\">Jack Johnson</td>\n",
       "        <td style=\"padding-left: 1em; padding-right: 1em; text-align: center; vertical-align: top\">The Cove - Jack Johnson</td>\n",
       "    </tr>\n",
       "    <tr>\n",
       "        <td style=\"padding-left: 1em; padding-right: 1em; text-align: center; vertical-align: top\">a079310e7d04390d2f9e74a5d<br>9aa6d84935d5a3c ...</td>\n",
       "        <td style=\"padding-left: 1em; padding-right: 1em; text-align: center; vertical-align: top\">SOAKIMP12A8C130995</td>\n",
       "        <td style=\"padding-left: 1em; padding-right: 1em; text-align: center; vertical-align: top\">2</td>\n",
       "        <td style=\"padding-left: 1em; padding-right: 1em; text-align: center; vertical-align: top\">The Cove</td>\n",
       "        <td style=\"padding-left: 1em; padding-right: 1em; text-align: center; vertical-align: top\">Jack Johnson</td>\n",
       "        <td style=\"padding-left: 1em; padding-right: 1em; text-align: center; vertical-align: top\">The Cove - Jack Johnson</td>\n",
       "    </tr>\n",
       "    <tr>\n",
       "        <td style=\"padding-left: 1em; padding-right: 1em; text-align: center; vertical-align: top\">fc514c0b52aa9494e2a0e0fa4<br>2f054a3c37bbe01 ...</td>\n",
       "        <td style=\"padding-left: 1em; padding-right: 1em; text-align: center; vertical-align: top\">SOAKIMP12A8C130995</td>\n",
       "        <td style=\"padding-left: 1em; padding-right: 1em; text-align: center; vertical-align: top\">1</td>\n",
       "        <td style=\"padding-left: 1em; padding-right: 1em; text-align: center; vertical-align: top\">The Cove</td>\n",
       "        <td style=\"padding-left: 1em; padding-right: 1em; text-align: center; vertical-align: top\">Jack Johnson</td>\n",
       "        <td style=\"padding-left: 1em; padding-right: 1em; text-align: center; vertical-align: top\">The Cove - Jack Johnson</td>\n",
       "    </tr>\n",
       "    <tr>\n",
       "        <td style=\"padding-left: 1em; padding-right: 1em; text-align: center; vertical-align: top\">b1f0aaff60c3b4bb5330c5ae0<br>d0d7441602463d1 ...</td>\n",
       "        <td style=\"padding-left: 1em; padding-right: 1em; text-align: center; vertical-align: top\">SOAKIMP12A8C130995</td>\n",
       "        <td style=\"padding-left: 1em; padding-right: 1em; text-align: center; vertical-align: top\">1</td>\n",
       "        <td style=\"padding-left: 1em; padding-right: 1em; text-align: center; vertical-align: top\">The Cove</td>\n",
       "        <td style=\"padding-left: 1em; padding-right: 1em; text-align: center; vertical-align: top\">Jack Johnson</td>\n",
       "        <td style=\"padding-left: 1em; padding-right: 1em; text-align: center; vertical-align: top\">The Cove - Jack Johnson</td>\n",
       "    </tr>\n",
       "    <tr>\n",
       "        <td style=\"padding-left: 1em; padding-right: 1em; text-align: center; vertical-align: top\">aa11634a378907e8c18780926<br>48aaba2d69b7862 ...</td>\n",
       "        <td style=\"padding-left: 1em; padding-right: 1em; text-align: center; vertical-align: top\">SOAKIMP12A8C130995</td>\n",
       "        <td style=\"padding-left: 1em; padding-right: 1em; text-align: center; vertical-align: top\">1</td>\n",
       "        <td style=\"padding-left: 1em; padding-right: 1em; text-align: center; vertical-align: top\">The Cove</td>\n",
       "        <td style=\"padding-left: 1em; padding-right: 1em; text-align: center; vertical-align: top\">Jack Johnson</td>\n",
       "        <td style=\"padding-left: 1em; padding-right: 1em; text-align: center; vertical-align: top\">The Cove - Jack Johnson</td>\n",
       "    </tr>\n",
       "    <tr>\n",
       "        <td style=\"padding-left: 1em; padding-right: 1em; text-align: center; vertical-align: top\">48c17b7e5dcbfeb389423bbfd<br>6be7a4a7acac787 ...</td>\n",
       "        <td style=\"padding-left: 1em; padding-right: 1em; text-align: center; vertical-align: top\">SOAKIMP12A8C130995</td>\n",
       "        <td style=\"padding-left: 1em; padding-right: 1em; text-align: center; vertical-align: top\">1</td>\n",
       "        <td style=\"padding-left: 1em; padding-right: 1em; text-align: center; vertical-align: top\">The Cove</td>\n",
       "        <td style=\"padding-left: 1em; padding-right: 1em; text-align: center; vertical-align: top\">Jack Johnson</td>\n",
       "        <td style=\"padding-left: 1em; padding-right: 1em; text-align: center; vertical-align: top\">The Cove - Jack Johnson</td>\n",
       "    </tr>\n",
       "    <tr>\n",
       "        <td style=\"padding-left: 1em; padding-right: 1em; text-align: center; vertical-align: top\">a63ffb2ce5cd6f03a59430e51<br>51e6ae5440b7ddf ...</td>\n",
       "        <td style=\"padding-left: 1em; padding-right: 1em; text-align: center; vertical-align: top\">SOAKIMP12A8C130995</td>\n",
       "        <td style=\"padding-left: 1em; padding-right: 1em; text-align: center; vertical-align: top\">1</td>\n",
       "        <td style=\"padding-left: 1em; padding-right: 1em; text-align: center; vertical-align: top\">The Cove</td>\n",
       "        <td style=\"padding-left: 1em; padding-right: 1em; text-align: center; vertical-align: top\">Jack Johnson</td>\n",
       "        <td style=\"padding-left: 1em; padding-right: 1em; text-align: center; vertical-align: top\">The Cove - Jack Johnson</td>\n",
       "    </tr>\n",
       "</table>\n",
       "[? rows x 6 columns]<br/>Note: Only the head of the SFrame is printed. This SFrame is lazily evaluated.<br/>You can use sf.materialize() to force materialization.\n",
       "</div>"
      ],
      "text/plain": [
       "Columns:\n",
       "\tuser_id\tstr\n",
       "\tsong_id\tstr\n",
       "\tlisten_count\tint\n",
       "\ttitle\tstr\n",
       "\tartist\tstr\n",
       "\tsong\tstr\n",
       "\n",
       "Rows: Unknown\n",
       "\n",
       "Data:\n",
       "+-------------------------------+--------------------+--------------+----------+\n",
       "|            user_id            |      song_id       | listen_count |  title   |\n",
       "+-------------------------------+--------------------+--------------+----------+\n",
       "| b80344d063b5ccb3212f76538f... | SOAKIMP12A8C130995 |      1       | The Cove |\n",
       "| 7a4b8e7d2905d13422418b4f48... | SOAKIMP12A8C130995 |      6       | The Cove |\n",
       "| 33280fc74b168e2667a2da5c6a... | SOAKIMP12A8C130995 |      1       | The Cove |\n",
       "| 71cf32f8871060079133fb1523... | SOAKIMP12A8C130995 |      1       | The Cove |\n",
       "| a079310e7d04390d2f9e74a5d9... | SOAKIMP12A8C130995 |      2       | The Cove |\n",
       "| fc514c0b52aa9494e2a0e0fa42... | SOAKIMP12A8C130995 |      1       | The Cove |\n",
       "| b1f0aaff60c3b4bb5330c5ae0d... | SOAKIMP12A8C130995 |      1       | The Cove |\n",
       "| aa11634a378907e8c187809264... | SOAKIMP12A8C130995 |      1       | The Cove |\n",
       "| 48c17b7e5dcbfeb389423bbfd6... | SOAKIMP12A8C130995 |      1       | The Cove |\n",
       "| a63ffb2ce5cd6f03a59430e515... | SOAKIMP12A8C130995 |      1       | The Cove |\n",
       "+-------------------------------+--------------------+--------------+----------+\n",
       "+--------------+-------------------------+\n",
       "|    artist    |           song          |\n",
       "+--------------+-------------------------+\n",
       "| Jack Johnson | The Cove - Jack Johnson |\n",
       "| Jack Johnson | The Cove - Jack Johnson |\n",
       "| Jack Johnson | The Cove - Jack Johnson |\n",
       "| Jack Johnson | The Cove - Jack Johnson |\n",
       "| Jack Johnson | The Cove - Jack Johnson |\n",
       "| Jack Johnson | The Cove - Jack Johnson |\n",
       "| Jack Johnson | The Cove - Jack Johnson |\n",
       "| Jack Johnson | The Cove - Jack Johnson |\n",
       "| Jack Johnson | The Cove - Jack Johnson |\n",
       "| Jack Johnson | The Cove - Jack Johnson |\n",
       "+--------------+-------------------------+\n",
       "[? rows x 6 columns]\n",
       "Note: Only the head of the SFrame is printed. This SFrame is lazily evaluated.\n",
       "You can use sf.materialize() to force materialization."
      ]
     },
     "execution_count": 13,
     "metadata": {},
     "output_type": "execute_result"
    }
   ],
   "source": [
    "song_data[song_data['song_id'] == 'SOAKIMP12A8C130995'] # multiple users listen to the same song"
   ]
  },
  {
   "cell_type": "code",
   "execution_count": 14,
   "metadata": {},
   "outputs": [],
   "source": [
    "dups_u = [k for k,v in Counter(song_data['user_id']).items() if v>1]"
   ]
  },
  {
   "cell_type": "code",
   "execution_count": 15,
   "metadata": {},
   "outputs": [
    {
     "data": {
      "text/plain": [
       "['b80344d063b5ccb3212f76538f3d9e43d87dca9e',\n",
       " 'bd4c6e843f00bd476847fb75c47b4fb430a06856',\n",
       " '8937134734f869debcab8f23d77465b4caaa85df',\n",
       " '969cc6fb74e076a68e36a04409cb9d3765757508',\n",
       " '4bd88bfb25263a75bbdd467e74018f4ae570e5df',\n",
       " 'e006b1a48f466bf59feefed32bec6494495a4436',\n",
       " '9d6f0ead607ac2a6c2460e4d14fb439a146b7dec',\n",
       " '9bb911319fbc04f01755814cb5edb21df3d1a336',\n",
       " 'c737ec8c1b16ce8e39115f4432c9a7fc21ec47a1',\n",
       " '45544491ccfcdc0b0803c34f201a6287ed4e30f8']"
      ]
     },
     "execution_count": 15,
     "metadata": {},
     "output_type": "execute_result"
    }
   ],
   "source": [
    "dups_u[:10]"
   ]
  },
  {
   "cell_type": "code",
   "execution_count": 16,
   "metadata": {},
   "outputs": [
    {
     "data": {
      "text/html": [
       "<div style=\"max-height:1000px;max-width:1500px;overflow:auto;\"><table frame=\"box\" rules=\"cols\">\n",
       "    <tr>\n",
       "        <th style=\"padding-left: 1em; padding-right: 1em; text-align: center\">user_id</th>\n",
       "        <th style=\"padding-left: 1em; padding-right: 1em; text-align: center\">song_id</th>\n",
       "        <th style=\"padding-left: 1em; padding-right: 1em; text-align: center\">listen_count</th>\n",
       "        <th style=\"padding-left: 1em; padding-right: 1em; text-align: center\">title</th>\n",
       "        <th style=\"padding-left: 1em; padding-right: 1em; text-align: center\">artist</th>\n",
       "    </tr>\n",
       "    <tr>\n",
       "        <td style=\"padding-left: 1em; padding-right: 1em; text-align: center; vertical-align: top\">b80344d063b5ccb3212f76538<br>f3d9e43d87dca9e ...</td>\n",
       "        <td style=\"padding-left: 1em; padding-right: 1em; text-align: center; vertical-align: top\">SOAKIMP12A8C130995</td>\n",
       "        <td style=\"padding-left: 1em; padding-right: 1em; text-align: center; vertical-align: top\">1</td>\n",
       "        <td style=\"padding-left: 1em; padding-right: 1em; text-align: center; vertical-align: top\">The Cove</td>\n",
       "        <td style=\"padding-left: 1em; padding-right: 1em; text-align: center; vertical-align: top\">Jack Johnson</td>\n",
       "    </tr>\n",
       "    <tr>\n",
       "        <td style=\"padding-left: 1em; padding-right: 1em; text-align: center; vertical-align: top\">b80344d063b5ccb3212f76538<br>f3d9e43d87dca9e ...</td>\n",
       "        <td style=\"padding-left: 1em; padding-right: 1em; text-align: center; vertical-align: top\">SOBBMDR12A8C13253B</td>\n",
       "        <td style=\"padding-left: 1em; padding-right: 1em; text-align: center; vertical-align: top\">2</td>\n",
       "        <td style=\"padding-left: 1em; padding-right: 1em; text-align: center; vertical-align: top\">Entre Dos Aguas</td>\n",
       "        <td style=\"padding-left: 1em; padding-right: 1em; text-align: center; vertical-align: top\">Paco De Lucia</td>\n",
       "    </tr>\n",
       "    <tr>\n",
       "        <td style=\"padding-left: 1em; padding-right: 1em; text-align: center; vertical-align: top\">b80344d063b5ccb3212f76538<br>f3d9e43d87dca9e ...</td>\n",
       "        <td style=\"padding-left: 1em; padding-right: 1em; text-align: center; vertical-align: top\">SOBXHDL12A81C204C0</td>\n",
       "        <td style=\"padding-left: 1em; padding-right: 1em; text-align: center; vertical-align: top\">1</td>\n",
       "        <td style=\"padding-left: 1em; padding-right: 1em; text-align: center; vertical-align: top\">Stronger</td>\n",
       "        <td style=\"padding-left: 1em; padding-right: 1em; text-align: center; vertical-align: top\">Kanye West</td>\n",
       "    </tr>\n",
       "    <tr>\n",
       "        <td style=\"padding-left: 1em; padding-right: 1em; text-align: center; vertical-align: top\">b80344d063b5ccb3212f76538<br>f3d9e43d87dca9e ...</td>\n",
       "        <td style=\"padding-left: 1em; padding-right: 1em; text-align: center; vertical-align: top\">SOBYHAJ12A6701BF1D</td>\n",
       "        <td style=\"padding-left: 1em; padding-right: 1em; text-align: center; vertical-align: top\">1</td>\n",
       "        <td style=\"padding-left: 1em; padding-right: 1em; text-align: center; vertical-align: top\">Constellations</td>\n",
       "        <td style=\"padding-left: 1em; padding-right: 1em; text-align: center; vertical-align: top\">Jack Johnson</td>\n",
       "    </tr>\n",
       "    <tr>\n",
       "        <td style=\"padding-left: 1em; padding-right: 1em; text-align: center; vertical-align: top\">b80344d063b5ccb3212f76538<br>f3d9e43d87dca9e ...</td>\n",
       "        <td style=\"padding-left: 1em; padding-right: 1em; text-align: center; vertical-align: top\">SODACBL12A8C13C273</td>\n",
       "        <td style=\"padding-left: 1em; padding-right: 1em; text-align: center; vertical-align: top\">1</td>\n",
       "        <td style=\"padding-left: 1em; padding-right: 1em; text-align: center; vertical-align: top\">Learn To Fly</td>\n",
       "        <td style=\"padding-left: 1em; padding-right: 1em; text-align: center; vertical-align: top\">Foo Fighters</td>\n",
       "    </tr>\n",
       "    <tr>\n",
       "        <td style=\"padding-left: 1em; padding-right: 1em; text-align: center; vertical-align: top\">b80344d063b5ccb3212f76538<br>f3d9e43d87dca9e ...</td>\n",
       "        <td style=\"padding-left: 1em; padding-right: 1em; text-align: center; vertical-align: top\">SODDNQT12A6D4F5F7E</td>\n",
       "        <td style=\"padding-left: 1em; padding-right: 1em; text-align: center; vertical-align: top\">5</td>\n",
       "        <td style=\"padding-left: 1em; padding-right: 1em; text-align: center; vertical-align: top\">Apuesta Por El Rock &#x27;N&#x27;<br>Roll ...</td>\n",
       "        <td style=\"padding-left: 1em; padding-right: 1em; text-align: center; vertical-align: top\">Héroes del Silencio</td>\n",
       "    </tr>\n",
       "    <tr>\n",
       "        <td style=\"padding-left: 1em; padding-right: 1em; text-align: center; vertical-align: top\">b80344d063b5ccb3212f76538<br>f3d9e43d87dca9e ...</td>\n",
       "        <td style=\"padding-left: 1em; padding-right: 1em; text-align: center; vertical-align: top\">SODXRTY12AB0180F3B</td>\n",
       "        <td style=\"padding-left: 1em; padding-right: 1em; text-align: center; vertical-align: top\">1</td>\n",
       "        <td style=\"padding-left: 1em; padding-right: 1em; text-align: center; vertical-align: top\">Paper Gangsta</td>\n",
       "        <td style=\"padding-left: 1em; padding-right: 1em; text-align: center; vertical-align: top\">Lady GaGa</td>\n",
       "    </tr>\n",
       "    <tr>\n",
       "        <td style=\"padding-left: 1em; padding-right: 1em; text-align: center; vertical-align: top\">b80344d063b5ccb3212f76538<br>f3d9e43d87dca9e ...</td>\n",
       "        <td style=\"padding-left: 1em; padding-right: 1em; text-align: center; vertical-align: top\">SOFGUAY12AB017B0A8</td>\n",
       "        <td style=\"padding-left: 1em; padding-right: 1em; text-align: center; vertical-align: top\">1</td>\n",
       "        <td style=\"padding-left: 1em; padding-right: 1em; text-align: center; vertical-align: top\">Stacked Actors</td>\n",
       "        <td style=\"padding-left: 1em; padding-right: 1em; text-align: center; vertical-align: top\">Foo Fighters</td>\n",
       "    </tr>\n",
       "    <tr>\n",
       "        <td style=\"padding-left: 1em; padding-right: 1em; text-align: center; vertical-align: top\">b80344d063b5ccb3212f76538<br>f3d9e43d87dca9e ...</td>\n",
       "        <td style=\"padding-left: 1em; padding-right: 1em; text-align: center; vertical-align: top\">SOFRQTD12A81C233C0</td>\n",
       "        <td style=\"padding-left: 1em; padding-right: 1em; text-align: center; vertical-align: top\">1</td>\n",
       "        <td style=\"padding-left: 1em; padding-right: 1em; text-align: center; vertical-align: top\">Sehr kosmisch</td>\n",
       "        <td style=\"padding-left: 1em; padding-right: 1em; text-align: center; vertical-align: top\">Harmonia</td>\n",
       "    </tr>\n",
       "    <tr>\n",
       "        <td style=\"padding-left: 1em; padding-right: 1em; text-align: center; vertical-align: top\">b80344d063b5ccb3212f76538<br>f3d9e43d87dca9e ...</td>\n",
       "        <td style=\"padding-left: 1em; padding-right: 1em; text-align: center; vertical-align: top\">SOHQWYZ12A6D4FA701</td>\n",
       "        <td style=\"padding-left: 1em; padding-right: 1em; text-align: center; vertical-align: top\">1</td>\n",
       "        <td style=\"padding-left: 1em; padding-right: 1em; text-align: center; vertical-align: top\">Heaven&#x27;s gonna burn your<br>eyes ...</td>\n",
       "        <td style=\"padding-left: 1em; padding-right: 1em; text-align: center; vertical-align: top\">Thievery Corporation<br>feat. Emiliana Torrini ...</td>\n",
       "    </tr>\n",
       "</table>\n",
       "<table frame=\"box\" rules=\"cols\">\n",
       "    <tr>\n",
       "        <th style=\"padding-left: 1em; padding-right: 1em; text-align: center\">song</th>\n",
       "    </tr>\n",
       "    <tr>\n",
       "        <td style=\"padding-left: 1em; padding-right: 1em; text-align: center; vertical-align: top\">The Cove - Jack Johnson</td>\n",
       "    </tr>\n",
       "    <tr>\n",
       "        <td style=\"padding-left: 1em; padding-right: 1em; text-align: center; vertical-align: top\">Entre Dos Aguas - Paco De<br>Lucia ...</td>\n",
       "    </tr>\n",
       "    <tr>\n",
       "        <td style=\"padding-left: 1em; padding-right: 1em; text-align: center; vertical-align: top\">Stronger - Kanye West</td>\n",
       "    </tr>\n",
       "    <tr>\n",
       "        <td style=\"padding-left: 1em; padding-right: 1em; text-align: center; vertical-align: top\">Constellations - Jack<br>Johnson ...</td>\n",
       "    </tr>\n",
       "    <tr>\n",
       "        <td style=\"padding-left: 1em; padding-right: 1em; text-align: center; vertical-align: top\">Learn To Fly - Foo<br>Fighters ...</td>\n",
       "    </tr>\n",
       "    <tr>\n",
       "        <td style=\"padding-left: 1em; padding-right: 1em; text-align: center; vertical-align: top\">Apuesta Por El Rock &#x27;N&#x27;<br>Roll - Héroes del ...</td>\n",
       "    </tr>\n",
       "    <tr>\n",
       "        <td style=\"padding-left: 1em; padding-right: 1em; text-align: center; vertical-align: top\">Paper Gangsta - Lady GaGa</td>\n",
       "    </tr>\n",
       "    <tr>\n",
       "        <td style=\"padding-left: 1em; padding-right: 1em; text-align: center; vertical-align: top\">Stacked Actors - Foo<br>Fighters ...</td>\n",
       "    </tr>\n",
       "    <tr>\n",
       "        <td style=\"padding-left: 1em; padding-right: 1em; text-align: center; vertical-align: top\">Sehr kosmisch - Harmonia</td>\n",
       "    </tr>\n",
       "    <tr>\n",
       "        <td style=\"padding-left: 1em; padding-right: 1em; text-align: center; vertical-align: top\">Heaven&#x27;s gonna burn your<br>eyes - Thievery ...</td>\n",
       "    </tr>\n",
       "</table>\n",
       "[? rows x 6 columns]<br/>Note: Only the head of the SFrame is printed. This SFrame is lazily evaluated.<br/>You can use sf.materialize() to force materialization.\n",
       "</div>"
      ],
      "text/plain": [
       "Columns:\n",
       "\tuser_id\tstr\n",
       "\tsong_id\tstr\n",
       "\tlisten_count\tint\n",
       "\ttitle\tstr\n",
       "\tartist\tstr\n",
       "\tsong\tstr\n",
       "\n",
       "Rows: Unknown\n",
       "\n",
       "Data:\n",
       "+-------------------------------+--------------------+--------------+\n",
       "|            user_id            |      song_id       | listen_count |\n",
       "+-------------------------------+--------------------+--------------+\n",
       "| b80344d063b5ccb3212f76538f... | SOAKIMP12A8C130995 |      1       |\n",
       "| b80344d063b5ccb3212f76538f... | SOBBMDR12A8C13253B |      2       |\n",
       "| b80344d063b5ccb3212f76538f... | SOBXHDL12A81C204C0 |      1       |\n",
       "| b80344d063b5ccb3212f76538f... | SOBYHAJ12A6701BF1D |      1       |\n",
       "| b80344d063b5ccb3212f76538f... | SODACBL12A8C13C273 |      1       |\n",
       "| b80344d063b5ccb3212f76538f... | SODDNQT12A6D4F5F7E |      5       |\n",
       "| b80344d063b5ccb3212f76538f... | SODXRTY12AB0180F3B |      1       |\n",
       "| b80344d063b5ccb3212f76538f... | SOFGUAY12AB017B0A8 |      1       |\n",
       "| b80344d063b5ccb3212f76538f... | SOFRQTD12A81C233C0 |      1       |\n",
       "| b80344d063b5ccb3212f76538f... | SOHQWYZ12A6D4FA701 |      1       |\n",
       "+-------------------------------+--------------------+--------------+\n",
       "+-------------------------------+-------------------------------+\n",
       "|             title             |             artist            |\n",
       "+-------------------------------+-------------------------------+\n",
       "|            The Cove           |          Jack Johnson         |\n",
       "|        Entre Dos Aguas        |         Paco De Lucia         |\n",
       "|            Stronger           |           Kanye West          |\n",
       "|         Constellations        |          Jack Johnson         |\n",
       "|          Learn To Fly         |          Foo Fighters         |\n",
       "|  Apuesta Por El Rock 'N' Roll |      Héroes del Silencio      |\n",
       "|         Paper Gangsta         |           Lady GaGa           |\n",
       "|         Stacked Actors        |          Foo Fighters         |\n",
       "|         Sehr kosmisch         |            Harmonia           |\n",
       "| Heaven's gonna burn your eyes | Thievery Corporation feat.... |\n",
       "+-------------------------------+-------------------------------+\n",
       "+-------------------------------+\n",
       "|              song             |\n",
       "+-------------------------------+\n",
       "|    The Cove - Jack Johnson    |\n",
       "| Entre Dos Aguas - Paco De ... |\n",
       "|     Stronger - Kanye West     |\n",
       "| Constellations - Jack Johnson |\n",
       "|  Learn To Fly - Foo Fighters  |\n",
       "| Apuesta Por El Rock 'N' Ro... |\n",
       "|   Paper Gangsta - Lady GaGa   |\n",
       "| Stacked Actors - Foo Fighters |\n",
       "|    Sehr kosmisch - Harmonia   |\n",
       "| Heaven's gonna burn your e... |\n",
       "+-------------------------------+\n",
       "[? rows x 6 columns]\n",
       "Note: Only the head of the SFrame is printed. This SFrame is lazily evaluated.\n",
       "You can use sf.materialize() to force materialization."
      ]
     },
     "execution_count": 16,
     "metadata": {},
     "output_type": "execute_result"
    }
   ],
   "source": [
    "song_data[song_data['user_id'] == 'b80344d063b5ccb3212f76538f3d9e43d87dca9e'] # a user has listenned to multiple songs"
   ]
  },
  {
   "cell_type": "markdown",
   "metadata": {},
   "source": [
    "## Show the most popular songs in the dataset"
   ]
  },
  {
   "cell_type": "code",
   "execution_count": 17,
   "metadata": {},
   "outputs": [
    {
     "data": {
      "text/html": [
       "<pre>Materializing SArray</pre>"
      ],
      "text/plain": [
       "Materializing SArray"
      ]
     },
     "metadata": {},
     "output_type": "display_data"
    },
    {
     "data": {
      "text/html": [
       "<html>                 <body>                     <iframe style=\"border:0;margin:0\" width=\"920\" height=\"770\" srcdoc='<html lang=\"en\">                         <head>                             <script src=\"https://cdnjs.cloudflare.com/ajax/libs/vega/5.4.0/vega.js\"></script>                             <script src=\"https://cdnjs.cloudflare.com/ajax/libs/vega-embed/4.0.0/vega-embed.js\"></script>                             <script src=\"https://cdnjs.cloudflare.com/ajax/libs/vega-tooltip/0.5.1/vega-tooltip.min.js\"></script>                             <link rel=\"stylesheet\" type=\"text/css\" href=\"https://cdnjs.cloudflare.com/ajax/libs/vega-tooltip/0.5.1/vega-tooltip.min.css\">                             <style>                             .vega-actions > a{                                 color:white;                                 text-decoration: none;                                 font-family: \"Arial\";                                 cursor:pointer;                                 padding:5px;                                 background:#AAAAAA;                                 border-radius:4px;                                 padding-left:10px;                                 padding-right:10px;                                 margin-right:5px;                             }                             .vega-actions{                                 margin-top:20px;                                 text-align:center                             }                            .vega-actions > a{                                 background:#999999;                            }                             </style>                         </head>                         <body>                             <div id=\"vis\">                             </div>                             <script>                                 var vega_json = \"{\\\"$schema\\\": \\\"https://vega.github.io/schema/vega/v4.json\\\", \\\"autosize\\\": {\\\"type\\\": \\\"fit\\\", \\\"resize\\\": false, \\\"contains\\\": \\\"padding\\\"}, \\\"padding\\\": 8, \\\"metadata\\\": {\\\"bubbleOpts\\\": {\\\"showAllFields\\\": false, \\\"fields\\\": [{\\\"field\\\": \\\"count\\\"}, {\\\"field\\\": \\\"label\\\"}, {\\\"field\\\": \\\"percentage\\\"}]}}, \\\"width\\\": 720, \\\"height\\\": 550, \\\"title\\\": \\\"Distribution of Values [string]\\\", \\\"style\\\": \\\"cell\\\", \\\"data\\\": [{\\\"name\\\": \\\"pts_store_store\\\"}, {\\\"name\\\": \\\"source_2\\\", \\\"values\\\": [{\\\"label\\\": \\\"Sehr kosmisch - Harmonia\\\", \\\"label_idx\\\": 0, \\\"count\\\": 5970, \\\"percentage\\\": \\\"0.534654%\\\"}, {\\\"label\\\": \\\"Undo - Bj\\\\u00f6rk\\\", \\\"label_idx\\\": 1, \\\"count\\\": 5281, \\\"percentage\\\": \\\"0.47295%\\\"}, {\\\"label\\\": \\\"You&apos;re The One - Dwight Yoakam\\\", \\\"label_idx\\\": 2, \\\"count\\\": 4806, \\\"percentage\\\": \\\"0.43041%\\\"}, {\\\"label\\\": \\\"Dog Days Are Over (Radio Edit) - Florence + The Machine\\\", \\\"label_idx\\\": 3, \\\"count\\\": 4536, \\\"percentage\\\": \\\"0.40623%\\\"}, {\\\"label\\\": \\\"Revelry - Kings Of Leon\\\", \\\"label_idx\\\": 4, \\\"count\\\": 4339, \\\"percentage\\\": \\\"0.388587%\\\"}, {\\\"label\\\": \\\"Horn Concerto No. 4 in E flat K495: II. Romance (Andante cantabile) - Barry Tuckwell/Academy of St Martin-in-the-Fields/Sir Neville Marriner\\\", \\\"label_idx\\\": 5, \\\"count\\\": 3949, \\\"percentage\\\": \\\"0.35366%\\\"}, {\\\"label\\\": \\\"Secrets - OneRepublic\\\", \\\"label_idx\\\": 6, \\\"count\\\": 3916, \\\"percentage\\\": \\\"0.350705%\\\"}, {\\\"label\\\": \\\"Tive Sim - Cartola\\\", \\\"label_idx\\\": 7, \\\"count\\\": 3185, \\\"percentage\\\": \\\"0.285239%\\\"}, {\\\"label\\\": \\\"Fireflies - Charttraxx Karaoke\\\", \\\"label_idx\\\": 8, \\\"count\\\": 3171, \\\"percentage\\\": \\\"0.283985%\\\"}, {\\\"label\\\": \\\"Hey_ Soul Sister - Train\\\", \\\"label_idx\\\": 9, \\\"count\\\": 3132, \\\"percentage\\\": \\\"0.280492%\\\"}, {\\\"label\\\": \\\"Drop The World - Lil Wayne / Eminem\\\", \\\"label_idx\\\": 10, \\\"count\\\": 2570, \\\"percentage\\\": \\\"0.230161%\\\"}, {\\\"label\\\": \\\"OMG - Usher featuring will.i.am\\\", \\\"label_idx\\\": 11, \\\"count\\\": 2533, \\\"percentage\\\": \\\"0.226848%\\\"}, {\\\"label\\\": \\\"Other (9940 labels)\\\", \\\"label_idx\\\": 12, \\\"count\\\": 1069221, \\\"percentage\\\": \\\"95.7561%\\\"}]}, {\\\"name\\\": \\\"data_0\\\", \\\"source\\\": \\\"source_2\\\", \\\"transform\\\": [{\\\"type\\\": \\\"formula\\\", \\\"expr\\\": \\\"toNumber(datum[\\\\\\\"count\\\\\\\"])\\\", \\\"as\\\": \\\"count\\\"}, {\\\"type\\\": \\\"filter\\\", \\\"expr\\\": \\\"datum[\\\\\\\"count\\\\\\\"] !== null &amp;&amp; !isNaN(datum[\\\\\\\"count\\\\\\\"])\\\"}]}], \\\"signals\\\": [{\\\"name\\\": \\\"unit\\\", \\\"value\\\": {}, \\\"on\\\": [{\\\"events\\\": \\\"mousemove\\\", \\\"update\\\": \\\"isTuple(group()) ? group() : unit\\\"}]}, {\\\"name\\\": \\\"pts_store\\\", \\\"update\\\": \\\"data(\\\\\\\"pts_store_store\\\\\\\").length &amp;&amp; {count: data(\\\\\\\"pts_store_store\\\\\\\")[0].values[0]}\\\"}, {\\\"name\\\": \\\"pts_store_tuple\\\", \\\"value\\\": {}, \\\"on\\\": [{\\\"events\\\": [{\\\"source\\\": \\\"scope\\\", \\\"type\\\": \\\"click\\\"}], \\\"update\\\": \\\"datum &amp;&amp; item().mark.marktype !== &apos;group&apos; ? {unit: \\\\\\\"\\\\\\\", encodings: [\\\\\\\"x\\\\\\\"], fields: [\\\\\\\"count\\\\\\\"], values: [datum[\\\\\\\"count\\\\\\\"]]} : null\\\", \\\"force\\\": true}]}, {\\\"name\\\": \\\"pts_store_modify\\\", \\\"on\\\": [{\\\"events\\\": {\\\"signal\\\": \\\"pts_store_tuple\\\"}, \\\"update\\\": \\\"modify(\\\\\\\"pts_store_store\\\\\\\", pts_store_tuple, true)\\\"}]}], \\\"marks\\\": [{\\\"name\\\": \\\"marks\\\", \\\"type\\\": \\\"rect\\\", \\\"style\\\": [\\\"bar\\\"], \\\"from\\\": {\\\"data\\\": \\\"data_0\\\"}, \\\"encode\\\": {\\\"hover\\\": {\\\"fill\\\": {\\\"value\\\": \\\"#7EC2F3\\\"}}, \\\"update\\\": {\\\"x\\\": {\\\"scale\\\": \\\"x\\\", \\\"field\\\": \\\"count\\\"}, \\\"x2\\\": {\\\"scale\\\": \\\"x\\\", \\\"value\\\": 0}, \\\"y\\\": {\\\"scale\\\": \\\"y\\\", \\\"field\\\": \\\"label\\\"}, \\\"height\\\": {\\\"scale\\\": \\\"y\\\", \\\"band\\\": true}, \\\"fill\\\": {\\\"value\\\": \\\"#108EE9\\\"}}}}], \\\"scales\\\": [{\\\"name\\\": \\\"x\\\", \\\"type\\\": \\\"linear\\\", \\\"domain\\\": {\\\"data\\\": \\\"data_0\\\", \\\"field\\\": \\\"count\\\"}, \\\"range\\\": [0, {\\\"signal\\\": \\\"width\\\"}], \\\"nice\\\": true, \\\"zero\\\": true}, {\\\"name\\\": \\\"y\\\", \\\"type\\\": \\\"band\\\", \\\"domain\\\": {\\\"data\\\": \\\"data_0\\\", \\\"field\\\": \\\"label\\\", \\\"sort\\\": {\\\"op\\\": \\\"mean\\\", \\\"field\\\": \\\"label_idx\\\", \\\"order\\\": \\\"descending\\\"}}, \\\"range\\\": [{\\\"signal\\\": \\\"height\\\"}, 0], \\\"paddingInner\\\": 0.1, \\\"paddingOuter\\\": 0.05}], \\\"axes\\\": [{\\\"orient\\\": \\\"top\\\", \\\"scale\\\": \\\"x\\\", \\\"labelOverlap\\\": true, \\\"tickCount\\\": {\\\"signal\\\": \\\"ceil(width/40)\\\"}, \\\"title\\\": \\\"Count\\\", \\\"zindex\\\": 1}, {\\\"orient\\\": \\\"top\\\", \\\"scale\\\": \\\"x\\\", \\\"domain\\\": false, \\\"grid\\\": true, \\\"labels\\\": false, \\\"maxExtent\\\": 0, \\\"minExtent\\\": 0, \\\"tickCount\\\": {\\\"signal\\\": \\\"ceil(width/40)\\\"}, \\\"ticks\\\": false, \\\"zindex\\\": 0, \\\"gridScale\\\": \\\"y\\\"}, {\\\"scale\\\": \\\"y\\\", \\\"labelOverlap\\\": true, \\\"orient\\\": \\\"left\\\", \\\"title\\\": \\\"Values\\\", \\\"zindex\\\": 1}], \\\"config\\\": {\\\"axis\\\": {\\\"gridColor\\\": \\\"rgba(204,204,204,1.0)\\\", \\\"labelFont\\\": \\\"\\\\\\\"San Francisco\\\\\\\", HelveticaNeue, Arial\\\", \\\"labelFontSize\\\": 12, \\\"labelPadding\\\": 10, \\\"labelColor\\\": \\\"rgba(0,0,0,0.847)\\\", \\\"tickColor\\\": \\\"rgb(136,136,136)\\\", \\\"titleFont\\\": \\\"\\\\\\\"San Francisco\\\\\\\", HelveticaNeue, Arial\\\", \\\"titleFontWeight\\\": \\\"normal\\\", \\\"titlePadding\\\": 20, \\\"titleFontSize\\\": 14, \\\"titleColor\\\": \\\"rgba(0,0,0,0.847)\\\"}, \\\"axisY\\\": {\\\"minExtent\\\": 30}, \\\"legend\\\": {\\\"labelFont\\\": \\\"\\\\\\\"San Francisco\\\\\\\", HelveticaNeue, Arial\\\", \\\"labelColor\\\": \\\"rgba(0,0,0,0.847)\\\", \\\"titleFont\\\": \\\"\\\\\\\"San Francisco\\\\\\\", HelveticaNeue, Arial\\\", \\\"cornerRadius\\\": 30, \\\"gradientLength\\\": 608, \\\"titleColor\\\": \\\"rgba(0,0,0,0.847)\\\"}, \\\"range\\\": {\\\"heatmap\\\": {\\\"scheme\\\": \\\"greenblue\\\"}}, \\\"style\\\": {\\\"rect\\\": {\\\"stroke\\\": \\\"rgba(200, 200, 200, 0.5)\\\"}, \\\"cell\\\": {\\\"stroke\\\": \\\"transparent\\\"}, \\\"group-title\\\": {\\\"fontSize\\\": 29, \\\"font\\\": \\\"HelveticaNeue, Arial\\\", \\\"fontWeight\\\": \\\"normal\\\", \\\"fill\\\": \\\"rgba(0,0,0,0.65)\\\"}}, \\\"title\\\": {\\\"color\\\": \\\"rgba(0,0,0,0.847)\\\", \\\"font\\\": \\\"\\\\\\\"San Francisco\\\\\\\", HelveticaNeue, Arial\\\", \\\"fontSize\\\": 18, \\\"fontWeight\\\": \\\"normal\\\", \\\"offset\\\": 30}}}\";                                 var vega_json_parsed = JSON.parse(vega_json);                                 var toolTipOpts = {                                     showAllFields: true                                 };                                 if(vega_json_parsed[\"metadata\"] != null){                                     if(vega_json_parsed[\"metadata\"][\"bubbleOpts\"] != null){                                         toolTipOpts = vega_json_parsed[\"metadata\"][\"bubbleOpts\"];                                     };                                 };                                 vegaEmbed(\"#vis\", vega_json_parsed).then(function (result) {                                     vegaTooltip.vega(result.view, toolTipOpts);                                  });                             </script>                         </body>                     </html>' src=\"demo_iframe_srcdoc.htm\">                         <p>Your browser does not support iframes.</p>                     </iframe>                 </body>             </html>"
      ],
      "text/plain": [
       "<IPython.core.display.HTML object>"
      ]
     },
     "metadata": {},
     "output_type": "display_data"
    }
   ],
   "source": [
    "song_data['song'].show()"
   ]
  },
  {
   "cell_type": "code",
   "execution_count": 18,
   "metadata": {},
   "outputs": [],
   "source": [
    "import matplotlib.pyplot as plt"
   ]
  },
  {
   "cell_type": "markdown",
   "metadata": {},
   "source": [
    "# Count the number of unique users in the data"
   ]
  },
  {
   "cell_type": "code",
   "execution_count": 19,
   "metadata": {},
   "outputs": [],
   "source": [
    "users = song_data['user_id'].unique()"
   ]
  },
  {
   "cell_type": "code",
   "execution_count": 20,
   "metadata": {},
   "outputs": [
    {
     "name": "stdout",
     "output_type": "stream",
     "text": [
      "66346\n",
      "<class 'turicreate.data_structures.sarray.SArray'>\n"
     ]
    }
   ],
   "source": [
    "print(len(users))\n",
    "print(type(users))"
   ]
  },
  {
   "cell_type": "markdown",
   "metadata": {},
   "source": [
    "# Create a song recommender"
   ]
  },
  {
   "cell_type": "code",
   "execution_count": 21,
   "metadata": {},
   "outputs": [],
   "source": [
    "train_data,test_data = song_data.random_split(.8,seed=0)"
   ]
  },
  {
   "cell_type": "code",
   "execution_count": 22,
   "metadata": {},
   "outputs": [],
   "source": [
    "song_count = Counter(song_data['song_id'])"
   ]
  },
  {
   "cell_type": "code",
   "execution_count": 23,
   "metadata": {},
   "outputs": [
    {
     "data": {
      "text/plain": [
       "[('SOAAAGQ12A8C1420C8', 34),\n",
       " ('SOAACPJ12A81C21360', 54),\n",
       " ('SOAACSG12AB018DC80', 49),\n",
       " ('SOAAEJI12AB0188AB5', 31),\n",
       " ('SOAAFAC12A67ADF7EB', 98),\n",
       " ('SOAAFYH12A8C13717A', 60),\n",
       " ('SOAAJMQ12A6D4F7D17', 56),\n",
       " ('SOAAKPM12A58A77210', 80),\n",
       " ('SOAALWN12A6D4F7FDA', 47),\n",
       " ('SOAAMOW12AB018149B', 23),\n",
       " ('SOAAOYI12AB01831CE', 38),\n",
       " ('SOAAROC12A6D4FA420', 153),\n",
       " ('SOAARXR12A8C133D15', 19),\n",
       " ('SOAATHE12A8C13ADD6', 41),\n",
       " ('SOAATLI12A8C13E319', 88),\n",
       " ('SOAAUKC12AB017F868', 95),\n",
       " ('SOAAVUV12AB0186646', 436),\n",
       " ('SOAAWEE12A6D4FBEC8', 215),\n",
       " ('SOABGOB12A6701D1FA', 56),\n",
       " ('SOABHNP12A8AE46E82', 49),\n",
       " ('SOABHYV12A6D4F6D0F', 173),\n",
       " ('SOABJBU12A8C13F63F', 411),\n",
       " ('SOABJTC12A58A7DE0E', 101),\n",
       " ('SOABNLP12A6D4F87F4', 77),\n",
       " ('SOABNPW12A6D4FC9B5', 45),\n",
       " ('SOABOHM12AB018509C', 55),\n",
       " ('SOABOXV12AC3DF82F7', 38),\n",
       " ('SOABPQU12A58A78441', 45),\n",
       " ('SOABQTG12A6701F3DB', 60),\n",
       " ('SOABRAB12A6D4F7AAF', 59),\n",
       " ('SOABTTR12A6D4FC2EB', 164),\n",
       " ('SOABXNE12A8C13B818', 56),\n",
       " ('SOACBLB12AB01871C7', 112),\n",
       " ('SOACDMD12A67AD8332', 84),\n",
       " ('SOACERJ12A67AD865E', 35),\n",
       " ('SOACGVR12A8C13B60A', 37),\n",
       " ('SOACIPG12A8AE47E1C', 305),\n",
       " ('SOACKIA12A6D4F73D7', 65),\n",
       " ('SOACMJJ12A6D4FC66A', 38),\n",
       " ('SOACNQJ12A8C13B09E', 72),\n",
       " ('SOACPBY12A8C13FEF9', 74),\n",
       " ('SOACPSU12A81C231EF', 75),\n",
       " ('SOACRBY12AB017C757', 142),\n",
       " ('SOACWQZ12A67ADE5EC', 48),\n",
       " ('SOACXET12AB01852E3', 21),\n",
       " ('SOACYKU12A5891CC64', 45),\n",
       " ('SOACYUL12A6D4F9C79', 34),\n",
       " ('SOADCFY12A6310E353', 59),\n",
       " ('SOADELR12AB0181A6D', 95),\n",
       " ('SOADFMR12A6701FB5F', 44),\n",
       " ('SOADISH12AB018DFAC', 228),\n",
       " ('SOADJGO12AB0185D5B', 108),\n",
       " ('SOADJQJ12A8C141D38', 1332),\n",
       " ('SOADKJJ12A67ADB371', 70),\n",
       " ('SOADKOB12AB017DB36', 55),\n",
       " ('SOADMBB12AB017C0F1', 40),\n",
       " ('SOADMKP12A8C13BAA4', 65),\n",
       " ('SOADMTV12A6701FA3F', 91),\n",
       " ('SOADOQJ12A8AE45C7E', 179),\n",
       " ('SOADOVQ12AB01797EB', 27),\n",
       " ('SOADOWZ12AB01887EF', 45),\n",
       " ('SOADQMO12A8C136FF9', 44),\n",
       " ('SOADQPP12A67020C82', 597),\n",
       " ('SOADSKA12AB01860FA', 25),\n",
       " ('SOADVUP12AB0185246', 169),\n",
       " ('SOADZWN12A8C136C60', 59),\n",
       " ('SOAECLL12A58A7E668', 86),\n",
       " ('SOAEEMQ12A8C142D36', 65),\n",
       " ('SOAEEXF12A8C13E49F', 23),\n",
       " ('SOAEGIH12A6D4F8B51', 57),\n",
       " ('SOAEHEX12A8C13EFA4', 264),\n",
       " ('SOAEIDM12A6D4F8463', 99),\n",
       " ('SOAEIFW12A8C1391E4', 90),\n",
       " ('SOAEJAC12A58A7C609', 47),\n",
       " ('SOAEJNB12A8C13F64D', 65),\n",
       " ('SOAEJVN12A8C14346F', 43),\n",
       " ('SOAEKIE12A6701FEAD', 41),\n",
       " ('SOAEPVF12A8C13722D', 47),\n",
       " ('SOAESGK12A8C138488', 66),\n",
       " ('SOAETMP12A8C140E7F', 117),\n",
       " ('SOAEUPY12A58A79B84', 40),\n",
       " ('SOAEURY12A8C13CA33', 55),\n",
       " ('SOAEUYZ12AF72A6379', 24),\n",
       " ('SOAEYBP12AB0184573', 268),\n",
       " ('SOAEYCM12A58A7CDDE', 104),\n",
       " ('SOAFAXA12A58A7BB11', 104),\n",
       " ('SOAFBKA12A58A7ACCF', 187),\n",
       " ('SOAFELG12A8C1323D5', 74),\n",
       " ('SOAFHIF12AB0184446', 184),\n",
       " ('SOAFKAJ12AB0181B91', 45),\n",
       " ('SOAFLLJ12A8C133C8D', 33),\n",
       " ('SOAFPPR12A8AE46454', 58),\n",
       " ('SOAFPSO12AF72A4521', 59),\n",
       " ('SOAFQGA12A8C1367FA', 201),\n",
       " ('SOAFQMR12A6D4F755A', 164),\n",
       " ('SOAFRIN12A81C22087', 61),\n",
       " ('SOAFTFX12A6D4F3B78', 48),\n",
       " ('SOAFTRR12AF72A8D4D', 970),\n",
       " ('SOAFVWW12A58A7E1CB', 55),\n",
       " ('SOAGFFD12AC909761F', 32),\n",
       " ('SOAGGLN12AB018AC9B', 112),\n",
       " ('SOAGHVC12A8C13B62E', 51),\n",
       " ('SOAGIAY12AB0183D8F', 105),\n",
       " ('SOAGKBO12AB0186943', 84),\n",
       " ('SOAGLRX12A6D4F822B', 67),\n",
       " ('SOAGMLZ12A8C13B808', 58),\n",
       " ('SOAGNRU12A58A7AC5C', 248),\n",
       " ('SOAGRCT12AB017B552', 63),\n",
       " ('SOAGSYE12A58A7A5A7', 61),\n",
       " ('SOAGWPY12AB018CD74', 87),\n",
       " ('SOAHEEC12A6BD4DAA4', 49),\n",
       " ('SOAHIJF12A6D4FDB77', 39),\n",
       " ('SOAHJQY12AB018534B', 37),\n",
       " ('SOAHKNJ12AF72A54BE', 50),\n",
       " ('SOAHLGV12AF72A6DFC', 280),\n",
       " ('SOAHPVM12AB018868C', 49),\n",
       " ('SOAHVBG12A8C1439A1', 36),\n",
       " ('SOAHVLJ12A58A76DD6', 206),\n",
       " ('SOAIAAT12A8C145D49', 403),\n",
       " ('SOAICBB12A6D4F594D', 48),\n",
       " ('SOAIDAS12A6D4F6749', 83),\n",
       " ('SOAIIAR12A6D4FAC81', 74),\n",
       " ('SOAIILB12A58A776F7', 104),\n",
       " ('SOAILNW12A8C134FB7', 30),\n",
       " ('SOAIMFG12AB0189AC2', 47),\n",
       " ('SOAIOFW12A8C13FAC0', 162),\n",
       " ('SOAIQCY12A8AE4616E', 98),\n",
       " ('SOAIQYM12A6701F507', 44),\n",
       " ('SOAIRYO12AB018C2DA', 53),\n",
       " ('SOAIUPE12AB0185750', 74),\n",
       " ('SOAIVCH12AC468AAB1', 46),\n",
       " ('SOAIVZL12A8C139DFB', 100),\n",
       " ('SOAIWAB12A8C13710A', 52),\n",
       " ('SOAIWCC12AC907107C', 75),\n",
       " ('SOAJAFJ12A58A7B75A', 288),\n",
       " ('SOAJDBZ12A6D4FA3C8', 81),\n",
       " ('SOAJFTU12A6701E0A3', 93),\n",
       " ('SOAJHHJ12A6BD4E204', 91),\n",
       " ('SOAJHLR12A8C13CC11', 146),\n",
       " ('SOAJJDS12A8C13A3FB', 220),\n",
       " ('SOAJNYK12AF729F33B', 147),\n",
       " ('SOAJQCL12A58A79581', 54),\n",
       " ('SOAJTNF12A6BD5315D', 30),\n",
       " ('SOAJVOL12AAF3B25E6', 91),\n",
       " ('SOAJWRM12A8C13CF2B', 154),\n",
       " ('SOAJXWO12A8C1436D0', 377),\n",
       " ('SOAJYLI12AB01831B8', 35),\n",
       " ('SOAJYSF12A6701D300', 52),\n",
       " ('SOAKCFL12A6D4F9CC5', 78),\n",
       " ('SOAKDHD12A6310F1AE', 85),\n",
       " ('SOAKDLX12A67ADAFC5', 56),\n",
       " ('SOAKHOF12A8C13C72A', 61),\n",
       " ('SOAKILN12A8C1432C2', 61),\n",
       " ('SOAKIMP12A8C130995', 83),\n",
       " ('SOAKMDU12A8C1346A9', 671),\n",
       " ('SOAKMFY12A58A7DC21', 52),\n",
       " ('SOAKOEA12AB018848B', 52),\n",
       " ('SOAKPMX12AB018193B', 174),\n",
       " ('SOAKPQJ12A8C13D812', 172),\n",
       " ('SOAKTQP12A58A77455', 73),\n",
       " ('SOAKWFZ12A8C1389E7', 73),\n",
       " ('SOAKWHP12AB018A3F8', 40),\n",
       " ('SOAKYBR12AB0185EE8', 61),\n",
       " ('SOAKYBX12AB018281B', 69),\n",
       " ('SOAKZQA12A6D4F80C1', 42),\n",
       " ('SOALBSB12A58A814C0', 33),\n",
       " ('SOALDLA12A6D4F8657', 85),\n",
       " ('SOALEQA12A58A77839', 285),\n",
       " ('SOALERS12A6701E91F', 157),\n",
       " ('SOALFJM12A6701C40F', 37),\n",
       " ('SOALHDV12A6D4F98DD', 78),\n",
       " ('SOALHPM12AB0182241', 34),\n",
       " ('SOALISX12AB017FDE8', 77),\n",
       " ('SOALITF12A6310DFCD', 172),\n",
       " ('SOALJAA12A6702085C', 263),\n",
       " ('SOALJBV12AB017FC3A', 360),\n",
       " ('SOALJTF12A6310E8DA', 75),\n",
       " ('SOALKBV12A6D4F6EE2', 150),\n",
       " ('SOALLQK12AF72A275F', 52),\n",
       " ('SOALMAS12AC468E8A9', 67),\n",
       " ('SOALPEC12AB0185D8F', 50),\n",
       " ('SOALPQQ12A6701F302', 125),\n",
       " ('SOALRMF12A8C1436A7', 166),\n",
       " ('SOALTWW12A8C132292', 53),\n",
       " ('SOALUPO12A8C131951', 66),\n",
       " ('SOALVDS12A8C13A389', 63),\n",
       " ('SOALVJT12A8C14307D', 35),\n",
       " ('SOALVOP12A6D4F5DA1', 70),\n",
       " ('SOAMAJG12A8C134DEE', 29),\n",
       " ('SOAMDXO12A8C131E2F', 95),\n",
       " ('SOAMEVJ12A6701E393', 100),\n",
       " ('SOAMFCO12A6701F117', 177),\n",
       " ('SOAMFRD12AF72A84BD', 50),\n",
       " ('SOAMHNB12A6D4F8E9F', 96),\n",
       " ('SOAMIQK12A6701D94F', 596),\n",
       " ('SOAMKOV12A81C21C44', 104),\n",
       " ('SOAMKRU12A58A814CB', 46),\n",
       " ('SOAMNGZ12A6D4F8702', 56),\n",
       " ('SOAMPRJ12A8AE45F38', 303),\n",
       " ('SOAMQFH12AB017DB51', 45),\n",
       " ('SOAMSPW12AB017F147', 33),\n",
       " ('SOAMWDX12A58A7B898', 34),\n",
       " ('SOAMZFX12A8C131F7C', 46),\n",
       " ('SOANEFZ12A6D4F86D8', 66),\n",
       " ('SOANKGB12AB017F97D', 66),\n",
       " ('SOANKKC12A6310F346', 54),\n",
       " ('SOANMWU12A6D4F9246', 82),\n",
       " ('SOANOQW12A58A793D2', 85),\n",
       " ('SOANQFY12AB0183239', 1156),\n",
       " ('SOANRRH12AB01861EB', 59),\n",
       " ('SOANSPC12A6702154A', 170),\n",
       " ('SOANUKH12AB0182B83', 75),\n",
       " ('SOAOAFS12AAF3B5120', 34),\n",
       " ('SOAOAHZ12A8C13AAF1', 366),\n",
       " ('SOAOAWR12A58A7B7BE', 172),\n",
       " ('SOAOBEK12AF72A9021', 17),\n",
       " ('SOAOBWU12A8C146B06', 80),\n",
       " ('SOAOBZA12AF72A5914', 29),\n",
       " ('SOAODHY12A8C13C8B5', 89),\n",
       " ('SOAOERV12AF72A48FC', 40),\n",
       " ('SOAOFBI12A8C143E28', 37),\n",
       " ('SOAOGOV12A8C13ACED', 78),\n",
       " ('SOAOHEN12A6D4FCCF0', 57),\n",
       " ('SOAOHXZ12A6D4FBC78', 55),\n",
       " ('SOAOJYY12A58A7B2F9', 34),\n",
       " ('SOAONVU12A6D4F4759', 154),\n",
       " ('SOAOOJK12A8C144AA2', 32),\n",
       " ('SOAOOOS12AB017F329', 52),\n",
       " ('SOAOOWF12A8C1347EC', 62),\n",
       " ('SOAOPCG12AC468D27E', 236),\n",
       " ('SOAOPNQ12A81C21E35', 68),\n",
       " ('SOAOQAM12A67ADE250', 114),\n",
       " ('SOAOQFD12A6D4FAAA9', 92),\n",
       " ('SOAOQSY12A8C139550', 57),\n",
       " ('SOAOSDF12A58A779F1', 234),\n",
       " ('SOAOSNO12A6D4FA76F', 129),\n",
       " ('SOAOULW12AAF3B5B85', 45),\n",
       " ('SOAOUWL12A8C146558', 53),\n",
       " ('SOAOVUU12AB0186929', 59),\n",
       " ('SOAOVXC12AB0184BDE', 94),\n",
       " ('SOAOZFA12A58A805AE', 59),\n",
       " ('SOAPBKQ12A8C13ABC0', 70),\n",
       " ('SOAPBSH12A58A80492', 84),\n",
       " ('SOAPBTS12AF729BFB8', 52),\n",
       " ('SOAPDFU12A8C13778B', 51),\n",
       " ('SOAPFCA12A8C1349FB', 46),\n",
       " ('SOAPFVS12A6701F8B0', 25),\n",
       " ('SOAPHBN12AF72A60EF', 65),\n",
       " ('SOAPIHX12AB0184CB1', 102),\n",
       " ('SOAPLOI12AB018CCF4', 30),\n",
       " ('SOAPLPB12A8C1456F7', 70),\n",
       " ('SOAPLWH12A8C140D4F', 89),\n",
       " ('SOAPNSG12A8C13481A', 126),\n",
       " ('SOAPSFK12AC46890F8', 32),\n",
       " ('SOAPSLE12A8C131934', 43),\n",
       " ('SOAPUDJ12A67ADE98D', 80),\n",
       " ('SOAPXMM12A8C13B5BA', 55),\n",
       " ('SOAQAIZ12A6310F100', 106),\n",
       " ('SOAQGES12A8C133FB5', 106),\n",
       " ('SOAQJRX12A6701F999', 52),\n",
       " ('SOAQKDM12A67020E0D', 64),\n",
       " ('SOAQKGW12AB018BE11', 93),\n",
       " ('SOAQLWB12A8C13BA9D', 102),\n",
       " ('SOAQMEC12A67ADD881', 28),\n",
       " ('SOAQMNM12AB0188D7A', 519),\n",
       " ('SOAQNRN12AF72A7E50', 94),\n",
       " ('SOAQSZE12A8C145278', 70),\n",
       " ('SOAQTNT12A6701F957', 83),\n",
       " ('SOAQTQO12A6D4FCD0A', 156),\n",
       " ('SOAQUBQ12A67ADE359', 61),\n",
       " ('SOARBUV12A6310F1B2', 55),\n",
       " ('SOAREWP12A8C132F0F', 77),\n",
       " ('SOARFGZ12AB017AFCD', 140),\n",
       " ('SOARTDL12A67ADAD83', 103),\n",
       " ('SOARTRF12AB0181F4D', 170),\n",
       " ('SOARUBA12A8C138E3D', 28),\n",
       " ('SOARUPP12AB01842E0', 776),\n",
       " ('SOARXRU12A8C134ABB', 56),\n",
       " ('SOARYZA12A6D4FAB9B', 177),\n",
       " ('SOASBIM12A58A7B2DB', 94),\n",
       " ('SOASEAH12A67AD80DD', 64),\n",
       " ('SOASEMJ12A8C13C490', 99),\n",
       " ('SOASMDJ12A6D4F6CDF', 64),\n",
       " ('SOASMDL12A6D4FD8C5', 69),\n",
       " ('SOASNQV12A8AE48819', 60),\n",
       " ('SOASOOD12A8C13EE86', 124),\n",
       " ('SOASPCN12A6D4F8589', 34),\n",
       " ('SOASRCN12AB0187549', 97),\n",
       " ('SOASTPI12A58A7E0F8', 75),\n",
       " ('SOASTSF12A8C1420B5', 295),\n",
       " ('SOASVLD12AB0186887', 94),\n",
       " ('SOASWDH12A8C1325EE', 79),\n",
       " ('SOASXQD12AB018902F', 276),\n",
       " ('SOASZHJ12B0B80A18B', 70),\n",
       " ('SOATBPC12B34F265AF', 57),\n",
       " ('SOATHTW12A58A7EDB5', 119),\n",
       " ('SOATJMN12AB0184D1E', 171),\n",
       " ('SOATKQE12A8C133A97', 52),\n",
       " ('SOATLAK12A8C13F422', 62),\n",
       " ('SOATNYF12AF72A8D48', 193),\n",
       " ('SOATPFD12A8C136B88', 57),\n",
       " ('SOATQYE12A6D4F8167', 41),\n",
       " ('SOATRMX12AB0180E3B', 100),\n",
       " ('SOATSLL12AB017B862', 57),\n",
       " ('SOATVMX12AB0182308', 75),\n",
       " ('SOAUBGU12A6701C57A', 140),\n",
       " ('SOAUCNT12A8C140C2D', 30),\n",
       " ('SOAUDET12A6D4F96B7', 118),\n",
       " ('SOAUEJL12AB01867F6', 56),\n",
       " ('SOAUFID12A8C13AF6C', 116),\n",
       " ('SOAUFOF12AB0180C65', 983),\n",
       " ('SOAUIZJ12A6D4FC011', 49),\n",
       " ('SOAUJCB12AB0181B7D', 55),\n",
       " ('SOAULLM12A8C134289', 65),\n",
       " ('SOAUNAX12AB01876D0', 99),\n",
       " ('SOAUPFC12AB0184CE4', 64),\n",
       " ('SOAUWWV12AF729E642', 25),\n",
       " ('SOAUWYT12A81C206F1', 5281),\n",
       " ('SOAUXEN12A81C23960', 198),\n",
       " ('SOAUZAA12A6701F9B6', 56),\n",
       " ('SOAVAVB12AB0180687', 109),\n",
       " ('SOAVBKQ12AB01834D4', 40),\n",
       " ('SOAVCHX12A6D4FA7B6', 29),\n",
       " ('SOAVCTS12A8C13EDF2', 56),\n",
       " ('SOAVFLR12A8C138576', 308),\n",
       " ('SOAVGOD12A6D4F7783', 109),\n",
       " ('SOAVIJW12AB018269B', 79),\n",
       " ('SOAVJBU12AAF3B370C', 60),\n",
       " ('SOAVLJR12AC46883DC', 56),\n",
       " ('SOAVMUZ12A67ADE3EF', 35),\n",
       " ('SOAVPPJ12A8C13EFBC', 60),\n",
       " ('SOAVQRL12A6D4F86E4', 47),\n",
       " ('SOAVQRP12A8C13120B', 40),\n",
       " ('SOAVTFX12AB0188D87', 73),\n",
       " ('SOAVWHY12AB017C6C0', 159),\n",
       " ('SOAVYHI12A6D4F766A', 175),\n",
       " ('SOAWFKO129F06933A7', 269),\n",
       " ('SOAWIDW12A81C22AEB', 86),\n",
       " ('SOAWJSH12A8C13AE09', 165),\n",
       " ('SOAWKRV12A6D4F7EF7', 19),\n",
       " ('SOAWMKQ12A8C13C340', 44),\n",
       " ('SOAWRMA12A679AE595', 53),\n",
       " ('SOAWSML12A6310F1B7', 75),\n",
       " ('SOAWUAX12AAF3B1E58', 55),\n",
       " ('SOAWWJW12AB01814F5', 42),\n",
       " ('SOAWWSY12AB018B768', 45),\n",
       " ('SOAWXHP12AB01840AC', 53),\n",
       " ('SOAWXPY12A8C137E88', 55),\n",
       " ('SOAXAPU12A67020EF9', 56),\n",
       " ('SOAXEPS12AF729E550', 25),\n",
       " ('SOAXEYH12AF72A2E76', 41),\n",
       " ('SOAXGBS12A6310E17A', 131),\n",
       " ('SOAXGDH12A8C13F8A1', 4536),\n",
       " ('SOAXHLH12A58A7C27E', 61),\n",
       " ('SOAXHYC12A8C13D3B5', 33),\n",
       " ('SOAXJHW12A81C21E1F', 139),\n",
       " ('SOAXJIC12A6D4FBFD7', 82),\n",
       " ('SOAXJOU12A6D4F6685', 122),\n",
       " ('SOAXKNC12AF72A4BF8', 68),\n",
       " ('SOAXLDX12AC468DE36', 106),\n",
       " ('SOAXMEE12A6701E730', 137),\n",
       " ('SOAXTWB12AF72A1545', 41),\n",
       " ('SOAYATB12A6701FD50', 320),\n",
       " ('SOAYDEP12A8AE45E1E', 81),\n",
       " ('SOAYETG12A67ADA751', 279),\n",
       " ('SOAYONZ12AF72A5DE3', 206),\n",
       " ('SOAYQPQ12A58A770C4', 35),\n",
       " ('SOAYQVC12A6D4F7829', 83),\n",
       " ('SOAYQXX12A58A7C47F', 48),\n",
       " ('SOAYSJV12A58A7D20C', 70),\n",
       " ('SOAYSMC12A67020927', 90),\n",
       " ('SOAYSTU12A67ADAF03', 51),\n",
       " ('SOAYTRA12A8C136D0E', 108),\n",
       " ('SOAYUTK12AB0187D96', 26),\n",
       " ('SOAYVPL12A8C134CAE', 60),\n",
       " ('SOAYVYB12A58A7917A', 79),\n",
       " ('SOAZATE12AB0185142', 89),\n",
       " ('SOAZDYK12AB01816E5', 55),\n",
       " ('SOAZFQH12A8C13D101', 80),\n",
       " ('SOAZGBW12A6702090C', 87),\n",
       " ('SOAZHNJ12A6D4F9930', 48),\n",
       " ('SOAZIYU12A8C139B48', 66),\n",
       " ('SOAZMXH12AB0186DDE', 62),\n",
       " ('SOAZPOI12A8C133A08', 102),\n",
       " ('SOAZPPR12A6D4F89C6', 80),\n",
       " ('SOAZRJG12A6D4F8A30', 168),\n",
       " ('SOAZVLB12A6D4FCC2D', 38),\n",
       " ('SOAZXMO12A8C139F2D', 48),\n",
       " ('SOAZXRD12A6D4F75A3', 54),\n",
       " ('SOAZZRB12AF729DE68', 50),\n",
       " ('SOAZZRU12AB0182B0E', 204),\n",
       " ('SOBAAAB12A6D4F95A5', 67),\n",
       " ('SOBAARL12AF72A4201', 36),\n",
       " ('SOBABRB12A6701DF4B', 691),\n",
       " ('SOBABSR12A58A7AD93', 240),\n",
       " ('SOBACCC12A6701ED85', 76),\n",
       " ('SOBADEB12AB018275F', 1099),\n",
       " ('SOBADLL12A6D4F8FEA', 123),\n",
       " ('SOBAKDJ12A8C13E557', 62),\n",
       " ('SOBAKOT12A67021B3D', 315),\n",
       " ('SOBANHD12A58A7BB7C', 55),\n",
       " ('SOBAPJF12A670208FD', 102),\n",
       " ('SOBAQTV12A8C142277', 69),\n",
       " ('SOBATYS12A58A76C6E', 118),\n",
       " ('SOBAUXH12A67ADD86C', 201),\n",
       " ('SOBAXIM12A6D4F8C47', 42),\n",
       " ('SOBBAFQ12A8C141BF2', 54),\n",
       " ('SOBBCWG12AF72AB9CB', 31),\n",
       " ('SOBBGTM12A6D4F6199', 95),\n",
       " ('SOBBHQG12A58A7ADC6', 75),\n",
       " ('SOBBHVN12A6702162D', 44),\n",
       " ('SOBBJKR12A6D4FA788', 80),\n",
       " ('SOBBKGF12A8C1311EE', 395),\n",
       " ('SOBBMDR12A8C13253B', 98),\n",
       " ('SOBBMXL12A6D4F767B', 82),\n",
       " ('SOBBNDM12A58A78370', 47),\n",
       " ('SOBBNZX12A8C139601', 29),\n",
       " ('SOBBONW12AB0180FE6', 42),\n",
       " ('SOBBQCZ12AB018455A', 89),\n",
       " ('SOBBRFA12A6701FBC4', 22),\n",
       " ('SOBBVDC12AB01806C6', 97),\n",
       " ('SOBBXNX12AF72A4883', 37),\n",
       " ('SOBBZPM12AB017DF4B', 85),\n",
       " ('SOBCGRY12A6701DE8E', 34),\n",
       " ('SOBCKIM12A8C13936C', 94),\n",
       " ('SOBCLWO12A6D4F83AD', 87),\n",
       " ('SOBCMUG12AB017D50A', 55),\n",
       " ('SOBCNJU12A8C13F270', 176),\n",
       " ('SOBCOWD12A6701FD78', 169),\n",
       " ('SOBCOYF12A58A7B527', 52),\n",
       " ('SOBCPBL12A8C139768', 41),\n",
       " ('SOBCRSV12A6D4F3C93', 52),\n",
       " ('SOBCRUE12A81C224B5', 33),\n",
       " ('SOBCSFE12A6D4F814A', 38),\n",
       " ('SOBCVZT12AF72A4506', 50),\n",
       " ('SOBCXCW12A8C13BFDD', 78),\n",
       " ('SOBCZZG12AB01882C1', 91),\n",
       " ('SOBDASI12A8C13E814', 140),\n",
       " ('SOBDCSW12A58A78FB9', 104),\n",
       " ('SOBDGJS12A8C1411FD', 45),\n",
       " ('SOBDGQD12A58A7C5DF', 107),\n",
       " ('SOBDJMW12A8C137318', 122),\n",
       " ('SOBDJYZ12A8C132ADA', 227),\n",
       " ('SOBDKVR12A8C13E705', 53),\n",
       " ('SOBDMNP12AF72AB1E1', 36),\n",
       " ('SOBDQMB12AB0189045', 12),\n",
       " ('SOBDRND12A8C13FD08', 90),\n",
       " ('SOBDVAK12AC90759A2', 86),\n",
       " ('SOBDWET12A6701F114', 43),\n",
       " ('SOBDYYK12A81C23221', 49),\n",
       " ('SOBDZKO12A67020664', 80),\n",
       " ('SOBDZNY12A6310E1CA', 44),\n",
       " ('SOBEAHS12A6D4F97A6', 47),\n",
       " ('SOBEBRO12A8C13A69E', 52),\n",
       " ('SOBEHXG12A8C138D22', 93),\n",
       " ('SOBEITD12A6D4F8C38', 54),\n",
       " ('SOBEJBH12AC468A455', 131),\n",
       " ('SOBEMUE12A6701E076', 67),\n",
       " ('SOBEOYA12AB0186F10', 135),\n",
       " ('SOBEQEO12A6D4F6589', 79),\n",
       " ('SOBETFO12AB018668B', 50),\n",
       " ('SOBEUDN12A81C2143D', 45),\n",
       " ('SOBEVGM12A67ADBCA7', 415),\n",
       " ('SOBEZLE12A6D4F7D0A', 47),\n",
       " ('SOBFFEN12A6701C878', 54),\n",
       " ('SOBFGZA12A8AE4542A', 54),\n",
       " ('SOBFLMV12A6701E740', 51),\n",
       " ('SOBFMHC12A6D4F9401', 96),\n",
       " ('SOBFMQE12AB0184181', 62),\n",
       " ('SOBFNRW12A6D4F7BCA', 53),\n",
       " ('SOBFONC12A8C140932', 113),\n",
       " ('SOBFPJC12A58A7D1AB', 60),\n",
       " ('SOBFPNI12A81C2243B', 45),\n",
       " ('SOBFRNE12A6D4F7995', 861),\n",
       " ('SOBFSKY12AB0182C6F', 50),\n",
       " ('SOBFSQU12A8151AB7B', 53),\n",
       " ('SOBFUWO12A8C13F316', 63),\n",
       " ('SOBGBUO12AF72A3513', 39),\n",
       " ('SOBGCCI12A6D4F8411', 141),\n",
       " ('SOBGDGX12A6D4F531E', 87),\n",
       " ('SOBGDOL12A6D4F6F21', 111),\n",
       " ('SOBGDPS12A8C13C214', 38),\n",
       " ('SOBGJBA12A6D227291', 47),\n",
       " ('SOBGLBX12A8C13AE8E', 85),\n",
       " ('SOBGMYK12A6D4F6730', 109),\n",
       " ('SOBGNMG12A8C133DFD', 159),\n",
       " ('SOBGPEH12A6D4F818B', 33),\n",
       " ('SOBGPHU12A8C1424E3', 43),\n",
       " ('SOBGQHH12A8151CAC5', 132),\n",
       " ('SOBGVLX12A6310DF8F', 187),\n",
       " ('SOBGVPD12A81C217B0', 44),\n",
       " ('SOBGYNC12A6D4FBFAD', 133),\n",
       " ('SOBHBKJ12A6D4F9D00', 117),\n",
       " ('SOBHDZO12A6D4FD169', 49),\n",
       " ('SOBHHHO12A58A78B94', 81),\n",
       " ('SOBHIJM12AB018194F', 34),\n",
       " ('SOBHIJO12A6D4FA26C', 93),\n",
       " ('SOBHJYY12AF72A8A23', 62),\n",
       " ('SOBHNKR12AB0186218', 338),\n",
       " ('SOBHNWV12AB0184DEE', 149),\n",
       " ('SOBHPQB12A8C13C6A8', 20),\n",
       " ('SOBHWHZ12AF72A409D', 95),\n",
       " ('SOBHXTN12A67021129', 49),\n",
       " ('SOBHXWK12A6D4FD10E', 75),\n",
       " ('SOBIATB12A8C1349F9', 43),\n",
       " ('SOBIFBZ12AF72A2DAF', 38),\n",
       " ('SOBIIAC12A8C13F348', 61),\n",
       " ('SOBIKOJ12A8C14134B', 39),\n",
       " ('SOBIKPR12A6D4FAF1E', 51),\n",
       " ('SOBIKPX12A58A78775', 46),\n",
       " ('SOBILME12A6701EEAB', 41),\n",
       " ('SOBILMS12AB018D900', 46),\n",
       " ('SOBIMTY12A6D4F931F', 211),\n",
       " ('SOBIONB12AB0185862', 84),\n",
       " ('SOBIPDF12A8C1360A2', 56),\n",
       " ('SOBIQVE12A8C13FEFF', 120),\n",
       " ('SOBIQWH12A8C13BCDE', 188),\n",
       " ('SOBITLI12A8AE47E63', 33),\n",
       " ('SOBITYB12AB01830F5', 39),\n",
       " ('SOBIWNU12A6BD56C1E', 136),\n",
       " ('SOBIXFH12A6D4F7823', 187),\n",
       " ('SOBJBEU12AF729D526', 203),\n",
       " ('SOBJBIZ12A8C132861', 28),\n",
       " ('SOBJCFV12A8AE469EE', 60),\n",
       " ('SOBJDDA12A6BD53159', 250),\n",
       " ('SOBJDRT12A670205F8', 85),\n",
       " ('SOBJDVT12A6701E079', 66),\n",
       " ('SOBJHIC12A6D4F4A2D', 60),\n",
       " ('SOBJIZY12A6701F11A', 122),\n",
       " ('SOBJKAC12AB017E1DC', 89),\n",
       " ('SOBJMPB12A6701F785', 121),\n",
       " ('SOBJMRV12A6D4FAB28', 163),\n",
       " ('SOBJOSC12A8C137A74', 85),\n",
       " ('SOBJRIA12A8C14254C', 171),\n",
       " ('SOBJSLW12A6D4F9158', 149),\n",
       " ('SOBJSXD12A6D4F966E', 53),\n",
       " ('SOBJUIV12AF72A7997', 50),\n",
       " ('SOBJUKG12A58A7DCA8', 83),\n",
       " ('SOBJXHH12A58A7AEB9', 55),\n",
       " ('SOBJXPJ12AB0186089', 53),\n",
       " ('SOBJYFB12AB018372D', 33),\n",
       " ('SOBKCBP12A8AE48322', 74),\n",
       " ('SOBKEVK12AB0183FE8', 28),\n",
       " ('SOBKIMB12A8C136DE9', 38),\n",
       " ('SOBKKUJ12A6D4FC8AB', 31),\n",
       " ('SOBKLTU12A58A7FB77', 241),\n",
       " ('SOBKMNJ12AF729BCA3', 62),\n",
       " ('SOBKPTT12A8AE45F67', 34),\n",
       " ('SOBKQUT12A6D4F7013', 48),\n",
       " ('SOBKRVG12A8C133269', 154),\n",
       " ('SOBKTKO12AB01857FD', 82),\n",
       " ('SOBKXDF12A67ADF7EC', 45),\n",
       " ('SOBKYRR12A67020866', 49),\n",
       " ('SOBLANY12A8C14382E', 44),\n",
       " ('SOBLBER12A6D4FCAEE', 40),\n",
       " ('SOBLEMV127D978257F', 67),\n",
       " ('SOBLIPF12AF729F53E', 87),\n",
       " ('SOBLLNN12AF72A5D51', 41),\n",
       " ('SOBLLXY12A8C140136', 77),\n",
       " ('SOBLPAU12A8C140704', 36),\n",
       " ('SOBLQIH12A6D4F986F', 152),\n",
       " ('SOBLRAF12A8C13D091', 51),\n",
       " ('SOBLSTM12A8C140FC9', 61),\n",
       " ('SOBLTMH12A6D4FA44D', 46),\n",
       " ('SOBLWSM12A8C131CDD', 60),\n",
       " ('SOBLXNR12A8AE47722', 43),\n",
       " ('SOBLYCD12A6701F343', 41),\n",
       " ('SOBLYYV12AB0186439', 65),\n",
       " ('SOBLZJI12A6D4F7819', 108),\n",
       " ('SOBMARH12A8C1437CA', 37),\n",
       " ('SOBMCEI12A6D4F65BD', 69),\n",
       " ('SOBMGEE12A8C137B1D', 43),\n",
       " ('SOBMIPX12A6701C7A7', 75),\n",
       " ('SOBMKJU12A6D4F7128', 212),\n",
       " ('SOBMLKS12A6310FF60', 51),\n",
       " ('SOBMNXE12A8C140F8A', 137),\n",
       " ('SOBMQUW12AB0184E28', 60),\n",
       " ('SOBMRKB12A8AE481D0', 93),\n",
       " ('SOBMSCQ12AAF3B51B7', 106),\n",
       " ('SOBMTQD12AB01833D0', 60),\n",
       " ('SOBMVXX12A8C13D19E', 150),\n",
       " ('SOBMYTR12A8C13B2D3', 134),\n",
       " ('SOBNAMV12A8C139423', 50),\n",
       " ('SOBNBWX12A8C13E6BA', 49),\n",
       " ('SOBNCNF12A8C13F62E', 325),\n",
       " ('SOBNCYQ12AB01876B5', 41),\n",
       " ('SOBNDDJ12A67AE228C', 59),\n",
       " ('SOBNDVE12A6D4FA42A', 75),\n",
       " ('SOBNGMO12A8C131CDF', 70),\n",
       " ('SOBNJIY12A8C141E74', 142),\n",
       " ('SOBNJSO12A8C13F327', 91),\n",
       " ('SOBNJZN12A67ADE984', 193),\n",
       " ('SOBNLQK12A8C131F2E', 133),\n",
       " ('SOBNNDP12A58A78284', 60),\n",
       " ('SOBNOSD12A8C13C4E0', 42),\n",
       " ('SOBNPFN12A8C142E6F', 63),\n",
       " ('SOBNPLZ12A81C2394C', 40),\n",
       " ('SOBNPQE12A6D4F7B36', 54),\n",
       " ('SOBNSME12A6701E2FD', 210),\n",
       " ('SOBNTFK12A6701F1CF', 61),\n",
       " ('SOBNTMC12A6D4FA422', 78),\n",
       " ('SOBNUYL12AB0182BCE', 45),\n",
       " ('SOBNVRV12A6D4F7F68', 46),\n",
       " ('SOBNVYD12AB018D1E9', 56),\n",
       " ('SOBNXJY12A8C13E070', 37),\n",
       " ('SOBOAFP12A8C131F36', 1736),\n",
       " ('SOBOASZ12AB018104B', 73),\n",
       " ('SOBOGML12AB017FEEC', 27),\n",
       " ('SOBOGSC12A8C1440FC', 100),\n",
       " ('SOBOHSG12AB0183748', 45),\n",
       " ('SOBOIDQ12AB0184F7B', 46),\n",
       " ('SOBOJJB12A58A7D1AD', 49),\n",
       " ('SOBOLEI12A58A7E386', 98),\n",
       " ('SOBOMOX12AB017F9CF', 68),\n",
       " ('SOBONKR12A58A7A7E0', 4806),\n",
       " ('SOBOOXZ12A8C13AF83', 30),\n",
       " ('SOBOSGD12A6D4F75C0', 186),\n",
       " ('SOBOUPA12A6D4F81F1', 2111),\n",
       " ('SOBPAWP12A8C144CD7', 98),\n",
       " ('SOBPDZF12A8AE46DC7', 93),\n",
       " ('SOBPFAB12A8C140A2C', 135),\n",
       " ('SOBPFFZ12A58A789E9', 63),\n",
       " ('SOBPGWB12A6D4F7EF3', 38),\n",
       " ('SOBPHVB12A6D4F74DB', 72),\n",
       " ('SOBPHXV12A6D4F9FD0', 203),\n",
       " ('SOBPICV12A8151CDF1', 45),\n",
       " ('SOBPIWU12A8C140225', 98),\n",
       " ('SOBPIZR12AF72AC99D', 71),\n",
       " ('SOBPJOE12A8AE470A6', 93),\n",
       " ('SOBPJQW12A8C13B943', 36),\n",
       " ('SOBPKPW12A6701E8F9', 674),\n",
       " ('SOBPKSP12A6D4FBA0E', 84),\n",
       " ('SOBPLGR12A6D4F82BE', 44),\n",
       " ('SOBPOHI128F57D02BF', 126),\n",
       " ('SOBPQCK12AF72A2FD5', 27),\n",
       " ('SOBPQSZ12A6D4FACBB', 89),\n",
       " ('SOBPRGU12AB018DAB1', 51),\n",
       " ('SOBPRZE12A8C1313CC', 187),\n",
       " ('SOBPUVE12B0B808A06', 49),\n",
       " ('SOBPWRJ12A8C132C2D', 60),\n",
       " ('SOBPZTW12A58A773B3', 212),\n",
       " ('SOBQFSF12AAF3B451F', 51),\n",
       " ('SOBQJTZ12A58A7E619', 53),\n",
       " ('SOBQLCM12A6D4FAFCD', 102),\n",
       " ('SOBQODG12A8C13ECFF', 84),\n",
       " ('SOBQTGA12A6D4F959A', 67),\n",
       " ('SOBQTPC12AF72A24BC', 65),\n",
       " ('SOBQUNN12A6701DD71', 58),\n",
       " ('SOBQWQI12A8AE45E55', 160),\n",
       " ('SOBQXRB12AB01834D2', 69),\n",
       " ('SOBQYCF12AC909726F', 256),\n",
       " ('SOBQYWO12AB0181386', 67),\n",
       " ('SOBQZKF12A6701F50E', 79),\n",
       " ('SOBQZKH12A8AE48A02', 108),\n",
       " ('SOBRDAV12A6D4F7809', 93),\n",
       " ('SOBRFPG12A8AE4837D', 83),\n",
       " ('SOBRGZW12A8C13C541', 93),\n",
       " ('SOBRHVR12A8C133F35', 710),\n",
       " ('SOBRJNF12A8C13B63D', 127),\n",
       " ('SOBRMVI12A58A78642', 51),\n",
       " ('SOBRQUF12AF72A7728', 67),\n",
       " ('SOBRWBG12A6D4FBA2D', 84),\n",
       " ('SOBRXTB12AF729DCCC', 64),\n",
       " ('SOBRYBV12A58A7D451', 159),\n",
       " ('SOBRZCG12A6702187D', 63),\n",
       " ('SOBSAAN12A8C135B63', 79),\n",
       " ('SOBSEII12A6D4FBB1D', 70),\n",
       " ('SOBSGPF12AB018A2EC', 38),\n",
       " ('SOBSGZI12A8C13F8DF', 138),\n",
       " ('SOBSHGA12AF72AA250', 45),\n",
       " ('SOBSICO12A67020895', 47),\n",
       " ('SOBSIDS12A67ADA695', 90),\n",
       " ('SOBSIFR12A6D4F8560', 55),\n",
       " ('SOBSKOP12AF72A24AD', 52),\n",
       " ('SOBSLVH12A8C131F38', 396),\n",
       " ('SOBSNKR12A6BD4F03A', 70),\n",
       " ('SOBSOAS12A58A76FC6', 42),\n",
       " ('SOBSQDZ12AF72A50FF', 36),\n",
       " ('SOBSQYL12AB0187688', 81),\n",
       " ('SOBSRPU12A8C134E1B', 23),\n",
       " ('SOBSSGV12AB0189587', 65),\n",
       " ('SOBSTCT12A8C13DC34', 48),\n",
       " ('SOBSTEK12A8C13FFC2', 44),\n",
       " ('SOBSTHR12A67020A31', 38),\n",
       " ('SOBSYVE12A6D4F84D1', 40),\n",
       " ('SOBTCFO12A6D4FB0CA', 72),\n",
       " ('SOBTDFV12B0B80B789', 68),\n",
       " ('SOBTEDP12A6D4F970F', 43),\n",
       " ('SOBTFWO12AB01875D5', 74),\n",
       " ('SOBTGVG12AB0187543', 103),\n",
       " ('SOBTIYZ12AB0181A16', 27),\n",
       " ('SOBTKGN12AB0185912', 62),\n",
       " ('SOBTMLA12A6D4FC2EB', 35),\n",
       " ('SOBTNNG12AF72A73E8', 73),\n",
       " ('SOBTOGN12A6310F927', 80),\n",
       " ('SOBTPPJ12A8C144B53', 54),\n",
       " ('SOBTPSW12A8C142D1D', 34),\n",
       " ('SOBTRCD12A6701E976', 177),\n",
       " ('SOBTTRJ12A8C141FB4', 67),\n",
       " ('SOBTUTU12A6701F301', 221),\n",
       " ('SOBTVDE12AF72A3DE5', 202),\n",
       " ('SOBTVEI12AF72A89A2', 42),\n",
       " ('SOBTXJE12A6D4FA416', 47),\n",
       " ('SOBUBLL12A58A795A8', 563),\n",
       " ('SOBUCWN12AB018A418', 49),\n",
       " ('SOBUHQI12A6D4F7195', 74),\n",
       " ('SOBUJKP12A8C1384FB', 66),\n",
       " ('SOBUMYJ12AB01846D8', 51),\n",
       " ('SOBUOEK12A6D4F9908', 113),\n",
       " ('SOBUQUI12A58A7D307', 29),\n",
       " ('SOBUXNB12AB0182BF3', 41),\n",
       " ('SOBVDHY12A6D4F824E', 33),\n",
       " ('SOBVEQD12A8C145559', 35),\n",
       " ('SOBVFLL12AF72A4EE8', 59),\n",
       " ('SOBVHCR12AB017F44D', 126),\n",
       " ('SOBVHCU12AB0179C36', 64),\n",
       " ('SOBVHME12A6D4FACA8', 37),\n",
       " ('SOBVINO12A8AE48926', 66),\n",
       " ('SOBVJCH12A8C137023', 49),\n",
       " ('SOBVKFF12A8C137A79', 188),\n",
       " ('SOBVMDO12A6701F970', 48),\n",
       " ('SOBVMSA12A8C13C546', 24),\n",
       " ('SOBVTVL12A8C1422D7', 74),\n",
       " ('SOBVXBI12A8C13344D', 31),\n",
       " ('SOBVYMC12A6D4F9499', 85),\n",
       " ('SOBVYNO12A8C140601', 70),\n",
       " ('SOBWCVL12AB0185309', 21),\n",
       " ('SOBWDHM12A6D4F60C9', 136),\n",
       " ('SOBWFXM12AB0182808', 179),\n",
       " ('SOBWJZE12AB018165F', 47),\n",
       " ('SOBWKJK12AB017E055', 72),\n",
       " ('SOBWLMV12AF72A7B1E', 71),\n",
       " ('SOBWRTW12AB018825D', 82),\n",
       " ('SOBWSGV12AB018B5E0', 610),\n",
       " ('SOBWWIK12A6D4F9C51', 43),\n",
       " ('SOBWZRT12A81C231DA', 57),\n",
       " ('SOBXHDL12A81C204C0', 660),\n",
       " ('SOBXLTA12AB017DE82', 39),\n",
       " ('SOBXNRH12AF72A0F69', 44),\n",
       " ('SOBXNSJ12AB017B6A4', 60),\n",
       " ('SOBXOWJ12A6D4F85BA', 128),\n",
       " ('SOBXTNN12A6D4F6B48', 39),\n",
       " ('SOBXUVB12AB0188BCF', 64),\n",
       " ('SOBXVNE12A8C131DBA', 195),\n",
       " ('SOBXWKW12A8C13CD67', 51),\n",
       " ('SOBXZDZ12AB017ADCC', 41),\n",
       " ('SOBXZQP12A8C1334A7', 31),\n",
       " ('SOBYCEI12A58A7AA44', 34),\n",
       " ('SOBYDAA12A6D4F8847', 135),\n",
       " ('SOBYDXK12AB0182382', 29),\n",
       " ('SOBYHAJ12A6701BF1D', 266),\n",
       " ('SOBYJRH12A8C141C8B', 52),\n",
       " ('SOBYKVE12AB017E275', 53),\n",
       " ('SOBYPQZ12AB0186DE9', 68),\n",
       " ('SOBYQGA12A6D4FA864', 36),\n",
       " ('SOBYRTY12AB0181EDB', 48),\n",
       " ('SOBYRVR12A6D4FAF83', 64),\n",
       " ('SOBYSRH12A8C13AE98', 53),\n",
       " ('SOBYSSP12AAF3B32CA', 102),\n",
       " ('SOBYTGE12AB018CE3C', 41),\n",
       " ('SOBYVYT12A8C1353C5', 41),\n",
       " ('SOBYXAH12AB01884D9', 46),\n",
       " ('SOBYYIA12A67AD954A', 29),\n",
       " ('SOBYZRW12A58A7ABF1', 249),\n",
       " ('SOBZAVW12A6D4FCE4A', 36),\n",
       " ('SOBZCTQ12AB0183220', 79),\n",
       " ('SOBZCUC12A58A7D9AD', 103),\n",
       " ('SOBZCWJ12A58A7C659', 71),\n",
       " ('SOBZDFV12AB0182373', 33),\n",
       " ('SOBZETO12AB018C7FE', 70),\n",
       " ('SOBZEWE12A8C13871A', 61),\n",
       " ('SOBZFSZ12A8C13F2CA', 166),\n",
       " ('SOBZJVD12A8C13C796', 204),\n",
       " ('SOBZKGI12A8C13D0E1', 36),\n",
       " ('SOBZTDO12AB0185758', 65),\n",
       " ('SOBZVFU12A6702162C', 16),\n",
       " ('SOBZWJS12A8C141D82', 73),\n",
       " ('SOBZXCU12A67AE1818', 182),\n",
       " ('SOBZXQL12A58A78057', 88),\n",
       " ('SOBZYGP12AB0182B29', 37),\n",
       " ('SOBZZDU12A6310D8A3', 186),\n",
       " ('SOBZZER12A6D4F7FA6', 70),\n",
       " ('SOBZZMP12A8C140E31', 37),\n",
       " ('SOCAAWX12A6D4F7901', 109),\n",
       " ('SOCABGC12AF72A09AF', 59),\n",
       " ('SOCACIT12A67AE110A', 32),\n",
       " ('SOCAFDI12A8C13D10E', 204),\n",
       " ('SOCAFQG12A6701DEB5', 44),\n",
       " ('SOCAHRT12A8C13A1A4', 202),\n",
       " ('SOCAIGK12A8C143D86', 37),\n",
       " ('SOCAIKQ12A6701E578', 103),\n",
       " ('SOCAJUZ12A6701E555', 109),\n",
       " ('SOCAKHR12A58A7AE39', 89),\n",
       " ('SOCAKKQ12AB01815E7', 106),\n",
       " ('SOCALRI12A58A7BBC5', 166),\n",
       " ('SOCANXR12A8C13898D', 72),\n",
       " ('SOCAOHJ12A6D4FBC7B', 57),\n",
       " ('SOCAPQV12A67021501', 125),\n",
       " ('SOCAQPK12AB018AA3F', 56),\n",
       " ('SOCATCA12AB0181E75', 54),\n",
       " ('SOCATDE12A67AE0269', 81),\n",
       " ('SOCATVQ12A8AE46CF4', 169),\n",
       " ('SOCAZCI12A6D4F9149', 50),\n",
       " ('SOCBBGJ12AF72A0922', 114),\n",
       " ('SOCBFDJ12A67ADD163', 41),\n",
       " ('SOCBGZW12A58A7CAC2', 119),\n",
       " ('SOCBIAB12A81C219DB', 60),\n",
       " ('SOCBJEC12AB018B710', 53),\n",
       " ('SOCBJHG12AB018221C', 41),\n",
       " ('SOCBMFC12A6701D7BA', 144),\n",
       " ('SOCBNIS12AF72AB9D3', 33),\n",
       " ('SOCBNJP12AC3DFA45A', 33),\n",
       " ('SOCBNYL12A8C13404D', 266),\n",
       " ('SOCBOSF12A58A7B861', 159),\n",
       " ('SOCBQKE12AB018548E', 233),\n",
       " ('SOCBSZW12AB01891C1', 191),\n",
       " ('SOCBVSG12A8C13C219', 44),\n",
       " ('SOCBWRP12A8C1311DB', 272),\n",
       " ('SOCBXKD12A8C145834', 56),\n",
       " ('SOCCASN12B0B8069FA', 59),\n",
       " ('SOCCBPI12A8C1451B6', 108),\n",
       " ('SOCCDAW12A8C133D56', 127),\n",
       " ('SOCCEFN12A6701C548', 67),\n",
       " ('SOCCFCY12AB01867F8', 82),\n",
       " ('SOCCHGF12A8C13FFBF', 92),\n",
       " ('SOCCLHE12A81C22300', 38),\n",
       " ('SOCCOOK12A8C13EF91', 177),\n",
       " ('SOCCRVM12A6310E239', 124),\n",
       " ('SOCCSES12AB017F676', 90),\n",
       " ('SOCCWZW12AB01829DB', 137),\n",
       " ('SOCCXPY12A6D4F4773', 130),\n",
       " ('SOCCYYG12AB0184DE8', 57),\n",
       " ('SOCDGAR12AB018CE44', 40),\n",
       " ('SOCDGOY12A8C1466ED', 50),\n",
       " ('SOCDNMP12AB018440C', 86),\n",
       " ('SOCDOVE12AB01808DE', 260),\n",
       " ('SOCDQPS12A58A78C9D', 36),\n",
       " ('SOCDRSP12A58A76F5E', 41),\n",
       " ('SOCDRUZ12A8AE48614', 55),\n",
       " ('SOCDSBU12A6D4F729A', 41),\n",
       " ('SOCDVMQ12A6D4F71B0', 237),\n",
       " ('SOCDXHL12A8C137A8A', 176),\n",
       " ('SOCDXUG12B0B8064EA', 80),\n",
       " ('SOCEANL12A58A7EF4E', 60),\n",
       " ('SOCEBPI12A58A7D08E', 90),\n",
       " ('SOCECEC12A8C134FAF', 22),\n",
       " ('SOCECZH12AB017FC28', 169),\n",
       " ('SOCEGJM12A8AE481D3', 192),\n",
       " ('SOCEGXN12AB018174F', 68),\n",
       " ('SOCEIGD12A67AE0416', 80),\n",
       " ('SOCELEG12AF72A7052', 118),\n",
       " ('SOCELOG12A6D4FC1E5', 57),\n",
       " ('SOCELOZ12A58A76797', 123),\n",
       " ('SOCEMSF12A8C145464', 115),\n",
       " ('SOCENBL12A6D4F6BB0', 49),\n",
       " ('SOCEPUS12A67ADEAD5', 85),\n",
       " ('SOCESFK12AB018CF42', 31),\n",
       " ('SOCESFW12A58A7DC8C', 40),\n",
       " ('SOCEVGB12A8C140286', 80),\n",
       " ('SOCEVWT12A6D4F992A', 59),\n",
       " ('SOCEWMO12A8151CBDE', 203),\n",
       " ('SOCEWVG12A8C13DCC2', 146),\n",
       " ('SOCEYDM12A58A7C4B7', 60),\n",
       " ('SOCEZHB12A58A7AB4D', 46),\n",
       " ('SOCFBUY12AB01870A3', 29),\n",
       " ('SOCFGIT12A8C13E64F', 60),\n",
       " ('SOCFHXV12AB018DB2A', 69),\n",
       " ('SOCFIUI12A81C23E48', 157),\n",
       " ('SOCFJWH12A8C13A103', 113),\n",
       " ('SOCFMQE12AB01853A3', 61),\n",
       " ('SOCFNLP12A58A7D730', 76),\n",
       " ('SOCFPBP12AB0182D2B', 28),\n",
       " ('SOCFPSZ12A6D4FCA89', 108),\n",
       " ('SOCFQUL12A8C141CA2', 55),\n",
       " ('SOCFRBD12A6D4F752E', 41),\n",
       " ('SOCFTJO12AB018CF2D', 102),\n",
       " ('SOCFYUZ12AF729E4B6', 53),\n",
       " ('SOCGBSR12A81C2143F', 63),\n",
       " ('SOCGBXK12A6D4F780F', 56),\n",
       " ('SOCGFSH12A81C238C6', 215),\n",
       " ('SOCGHMJ12AB017D10D', 64),\n",
       " ('SOCGMIW12AB018030A', 85),\n",
       " ('SOCGMXY12A6701E069', 147),\n",
       " ('SOCGOZK12A8151BD5D', 85),\n",
       " ('SOCGVMO12A67AE24CC', 162),\n",
       " ('SOCGWCK12A67020F39', 315),\n",
       " ('SOCGXPJ12A8C142CD1', 44),\n",
       " ('SOCGXXL12B0B808865', 230),\n",
       " ('SOCGYKU12A8C13B4D9', 152),\n",
       " ('SOCGYWW12A8C13BB00', 65),\n",
       " ('SOCGYXV12AF72A0192', 54),\n",
       " ('SOCHADN12A6310ED94', 276),\n",
       " ('SOCHAXM12AB01876F8', 107),\n",
       " ('SOCHBAJ12AAF3B3A4F', 63),\n",
       " ('SOCHBAR12AB0187BA9', 51),\n",
       " ('SOCHEPE12A8C13B2A1', 46),\n",
       " ('SOCHEQE12A8C1402C1', 130),\n",
       " ('SOCHFOV12A6D4F979F', 29),\n",
       " ('SOCHJTK12A6701C153', 70),\n",
       " ('SOCHKFO12AB01860DB', 62),\n",
       " ('SOCHKWF12A58A7C9B7', 106),\n",
       " ('SOCHNDG12A8C13BA36', 51),\n",
       " ('SOCHNVD12A58A7A8A7', 61),\n",
       " ('SOCHPFL12AF72A3F64', 50),\n",
       " ('SOCHPLU12A8C13462D', 153),\n",
       " ('SOCHPTV12A6BD53113', 232),\n",
       " ('SOCHQLZ12A58A79717', 66),\n",
       " ('SOCHRXB12A8AE48069', 288),\n",
       " ('SOCHSJD12A6D4F926E', 75),\n",
       " ('SOCHSYC12AB017B5B9', 33),\n",
       " ('SOCHTHF12AB017E206', 656),\n",
       " ('SOCHTHV12A6D4F9791', 141),\n",
       " ('SOCHWPT12AB0184F15', 233),\n",
       " ('SOCHXEH12A8C1425D2', 93),\n",
       " ('SOCHXTG12A58A779A0', 75),\n",
       " ('SOCHYDE12A8C13E438', 61),\n",
       " ('SOCHYVZ12A6D4F5908', 575),\n",
       " ('SOCIAFQ12AF72A154F', 53),\n",
       " ('SOCIGMX12A8C144150', 132),\n",
       " ('SOCIHMS12A8C142CC7', 256),\n",
       " ('SOCINEQ12AB0189F08', 103),\n",
       " ('SOCINRJ12A8C132D3F', 78),\n",
       " ('SOCIUSI12AB018DD03', 130),\n",
       " ('SOCJACI12B350584E6', 43),\n",
       " ('SOCJAMC12A8C13F245', 55),\n",
       " ('SOCJBOJ12A8C142D05', 51),\n",
       " ('SOCJCVE12A8C13CDDB', 226),\n",
       " ('SOCJCVW12A8AE47537', 67),\n",
       " ('SOCJHPS12A6D4F8523', 113),\n",
       " ('SOCJHXN12AB0188C8B', 32),\n",
       " ('SOCJNRV12A6D4F70B5', 70),\n",
       " ('SOCJPWM12AF72A781A', 42),\n",
       " ('SOCJQCK12A6D4F7F99', 59),\n",
       " ('SOCJQTG12AC9097645', 20),\n",
       " ('SOCJSPF12A8C1376EF', 55),\n",
       " ('SOCJTXC12A6701E7EA', 67),\n",
       " ('SOCJVDJ12A8C1375E3', 158),\n",
       " ('SOCJWZY12A67021D18', 350),\n",
       " ('SOCJXRD12AB0189B2D', 39),\n",
       " ('SOCJZHU12A67ADE987', 67),\n",
       " ('SOCKAEI12A8C1422C8', 72),\n",
       " ('SOCKCYN12A6D4FB112', 48),\n",
       " ('SOCKFLZ12A81C222D4', 115),\n",
       " ('SOCKFVF12A8C1442A7', 140),\n",
       " ('SOCKHZK12AB018894F', 74),\n",
       " ('SOCKIDE12A6D4F6542', 94),\n",
       " ('SOCKJVP12A6D4F920C', 188),\n",
       " ('SOCKJWI12AB018006A', 65),\n",
       " ('SOCKLYO12AF72A877F', 59),\n",
       " ('SOCKPDE12A8C142F18', 54),\n",
       " ('SOCKPSR12A8C136FC8', 53),\n",
       " ('SOCKRRL12A8C13C4AB', 76),\n",
       " ('SOCKSGZ12A58A7CA4B', 1471),\n",
       " ('SOCKUUJ12A6D4FA41C', 53),\n",
       " ('SOCKUWT12AB01876D7', 30),\n",
       " ('SOCKWAJ12A8C144B65', 54),\n",
       " ('SOCKWJW12AC468A1E5', 63),\n",
       " ('SOCKYBP12A8AE48678', 113),\n",
       " ('SOCKYCG12A58A78E37', 56),\n",
       " ('SOCKZGC1280EC90D76', 48),\n",
       " ('SOCKZIS12A8AE47FE0', 168),\n",
       " ('SOCLANN12AC907598C', 65),\n",
       " ('SOCLCYG12A6D4FDC71', 40),\n",
       " ('SOCLFCD12A6D4FA66D', 24),\n",
       " ('SOCLHSF12A8C13D1F8', 60),\n",
       " ('SOCLMAD12AB017FC09', 514),\n",
       " ('SOCLNOB12A8AE48670', 111),\n",
       " ('SOCLQES12A58A7BB1D', 148),\n",
       " ('SOCLQGL12A58A7A50A', 66),\n",
       " ('SOCLRFZ12A6D4F5975', 99),\n",
       " ('SOCLSLO12A8C137815', 51),\n",
       " ('SOCLUOZ12A8C138A05', 45),\n",
       " ('SOCLVXH12AC468DC14', 64),\n",
       " ('SOCMDYI12A6D4F78A3', 26),\n",
       " ('SOCMEJM12AF72A48D0', 111),\n",
       " ('SOCMESJ12A6D4F839A', 74),\n",
       " ('SOCMFXH12A6D4F8420', 38),\n",
       " ('SOCMGYC12A8C134ED4', 55),\n",
       " ('SOCMHES12AB0186FCF', 332),\n",
       " ('SOCMHFG12AB017FFA7', 62),\n",
       " ('SOCMHGT12A8C138D8A', 62),\n",
       " ('SOCMHYC12A8AE47EFC', 28),\n",
       " ('SOCMIPA12A6310E961', 80),\n",
       " ('SOCMKES12A58A7AC2B', 58),\n",
       " ('SOCMNRG12AB0189D3F', 112),\n",
       " ('SOCMRWF12AB018AC92', 160),\n",
       " ('SOCMSRR12A81C22F45', 64),\n",
       " ('SOCMWUM12AF72A56B1', 78),\n",
       " ('SOCMZOW12AB017B857', 31),\n",
       " ('SOCNAPQ12AAA15EE26', 63),\n",
       " ('SOCNAXF12A6D4F9B34', 491),\n",
       " ('SOCNAXX12AAF3B3823', 43),\n",
       " ('SOCNCFO12A8C13971C', 33),\n",
       " ('SOCNCGL127D9786D66', 303),\n",
       " ('SOCNIFM12A8C13D73B', 108),\n",
       " ('SOCNKUW12A8C13DE89', 67),\n",
       " ('SOCNLEI12A67021565', 368),\n",
       " ('SOCNOXN12A6D4F4CBB', 36),\n",
       " ('SOCNPTC12A8C144911', 158),\n",
       " ('SOCNVQU12A58A7DB65', 103),\n",
       " ...]"
      ]
     },
     "execution_count": 23,
     "metadata": {},
     "output_type": "execute_result"
    }
   ],
   "source": [
    "sorted(song_count.items())"
   ]
  },
  {
   "cell_type": "markdown",
   "metadata": {},
   "source": [
    "## Create a very simple popularity recommender"
   ]
  },
  {
   "cell_type": "code",
   "execution_count": 24,
   "metadata": {},
   "outputs": [
    {
     "data": {
      "text/html": [
       "<pre>Warning: Ignoring columns song_id, listen_count, title, artist;</pre>"
      ],
      "text/plain": [
       "Warning: Ignoring columns song_id, listen_count, title, artist;"
      ]
     },
     "metadata": {},
     "output_type": "display_data"
    },
    {
     "data": {
      "text/html": [
       "<pre> To use one of these as a rating column, specify the column name to be used as target</pre>"
      ],
      "text/plain": [
       " To use one of these as a rating column, specify the column name to be used as target"
      ]
     },
     "metadata": {},
     "output_type": "display_data"
    },
    {
     "data": {
      "text/html": [
       "<pre>    and use a method that allows the use of a target.</pre>"
      ],
      "text/plain": [
       "    and use a method that allows the use of a target."
      ]
     },
     "metadata": {},
     "output_type": "display_data"
    },
    {
     "data": {
      "text/html": [
       "<pre>Preparing data set.</pre>"
      ],
      "text/plain": [
       "Preparing data set."
      ]
     },
     "metadata": {},
     "output_type": "display_data"
    },
    {
     "data": {
      "text/html": [
       "<pre>    Data has 893580 observations with 66085 users and 9952 items.</pre>"
      ],
      "text/plain": [
       "    Data has 893580 observations with 66085 users and 9952 items."
      ]
     },
     "metadata": {},
     "output_type": "display_data"
    },
    {
     "data": {
      "text/html": [
       "<pre>    Data prepared in: 1.46107s</pre>"
      ],
      "text/plain": [
       "    Data prepared in: 1.46107s"
      ]
     },
     "metadata": {},
     "output_type": "display_data"
    },
    {
     "data": {
      "text/html": [
       "<pre>893580 observations to process; with 9952 unique items.</pre>"
      ],
      "text/plain": [
       "893580 observations to process; with 9952 unique items."
      ]
     },
     "metadata": {},
     "output_type": "display_data"
    }
   ],
   "source": [
    "popularity_model = turicreate.popularity_recommender.create(train_data,\n",
    "                                                           user_id = 'user_id',\n",
    "                                                           item_id = 'song')"
   ]
  },
  {
   "cell_type": "markdown",
   "metadata": {},
   "source": [
    "## Use the popularity model to make some predictions"
   ]
  },
  {
   "cell_type": "code",
   "execution_count": 25,
   "metadata": {},
   "outputs": [
    {
     "data": {
      "text/html": [
       "<div style=\"max-height:1000px;max-width:1500px;overflow:auto;\"><table frame=\"box\" rules=\"cols\">\n",
       "    <tr>\n",
       "        <th style=\"padding-left: 1em; padding-right: 1em; text-align: center\">user_id</th>\n",
       "        <th style=\"padding-left: 1em; padding-right: 1em; text-align: center\">song</th>\n",
       "        <th style=\"padding-left: 1em; padding-right: 1em; text-align: center\">score</th>\n",
       "        <th style=\"padding-left: 1em; padding-right: 1em; text-align: center\">rank</th>\n",
       "    </tr>\n",
       "    <tr>\n",
       "        <td style=\"padding-left: 1em; padding-right: 1em; text-align: center; vertical-align: top\">c66c10a9567f0d82ff31441a9<br>fd5063e5cd9dfe8 ...</td>\n",
       "        <td style=\"padding-left: 1em; padding-right: 1em; text-align: center; vertical-align: top\">Sehr kosmisch - Harmonia</td>\n",
       "        <td style=\"padding-left: 1em; padding-right: 1em; text-align: center; vertical-align: top\">4754.0</td>\n",
       "        <td style=\"padding-left: 1em; padding-right: 1em; text-align: center; vertical-align: top\">1</td>\n",
       "    </tr>\n",
       "    <tr>\n",
       "        <td style=\"padding-left: 1em; padding-right: 1em; text-align: center; vertical-align: top\">c66c10a9567f0d82ff31441a9<br>fd5063e5cd9dfe8 ...</td>\n",
       "        <td style=\"padding-left: 1em; padding-right: 1em; text-align: center; vertical-align: top\">Undo - Björk</td>\n",
       "        <td style=\"padding-left: 1em; padding-right: 1em; text-align: center; vertical-align: top\">4227.0</td>\n",
       "        <td style=\"padding-left: 1em; padding-right: 1em; text-align: center; vertical-align: top\">2</td>\n",
       "    </tr>\n",
       "    <tr>\n",
       "        <td style=\"padding-left: 1em; padding-right: 1em; text-align: center; vertical-align: top\">c66c10a9567f0d82ff31441a9<br>fd5063e5cd9dfe8 ...</td>\n",
       "        <td style=\"padding-left: 1em; padding-right: 1em; text-align: center; vertical-align: top\">You&#x27;re The One - Dwight<br>Yoakam ...</td>\n",
       "        <td style=\"padding-left: 1em; padding-right: 1em; text-align: center; vertical-align: top\">3781.0</td>\n",
       "        <td style=\"padding-left: 1em; padding-right: 1em; text-align: center; vertical-align: top\">3</td>\n",
       "    </tr>\n",
       "    <tr>\n",
       "        <td style=\"padding-left: 1em; padding-right: 1em; text-align: center; vertical-align: top\">c66c10a9567f0d82ff31441a9<br>fd5063e5cd9dfe8 ...</td>\n",
       "        <td style=\"padding-left: 1em; padding-right: 1em; text-align: center; vertical-align: top\">Dog Days Are Over (Radio<br>Edit) - Florence + The ...</td>\n",
       "        <td style=\"padding-left: 1em; padding-right: 1em; text-align: center; vertical-align: top\">3633.0</td>\n",
       "        <td style=\"padding-left: 1em; padding-right: 1em; text-align: center; vertical-align: top\">4</td>\n",
       "    </tr>\n",
       "    <tr>\n",
       "        <td style=\"padding-left: 1em; padding-right: 1em; text-align: center; vertical-align: top\">c66c10a9567f0d82ff31441a9<br>fd5063e5cd9dfe8 ...</td>\n",
       "        <td style=\"padding-left: 1em; padding-right: 1em; text-align: center; vertical-align: top\">Revelry - Kings Of Leon</td>\n",
       "        <td style=\"padding-left: 1em; padding-right: 1em; text-align: center; vertical-align: top\">3527.0</td>\n",
       "        <td style=\"padding-left: 1em; padding-right: 1em; text-align: center; vertical-align: top\">5</td>\n",
       "    </tr>\n",
       "    <tr>\n",
       "        <td style=\"padding-left: 1em; padding-right: 1em; text-align: center; vertical-align: top\">c66c10a9567f0d82ff31441a9<br>fd5063e5cd9dfe8 ...</td>\n",
       "        <td style=\"padding-left: 1em; padding-right: 1em; text-align: center; vertical-align: top\">Horn Concerto No. 4 in E<br>flat K495: II. Romance ...</td>\n",
       "        <td style=\"padding-left: 1em; padding-right: 1em; text-align: center; vertical-align: top\">3161.0</td>\n",
       "        <td style=\"padding-left: 1em; padding-right: 1em; text-align: center; vertical-align: top\">6</td>\n",
       "    </tr>\n",
       "    <tr>\n",
       "        <td style=\"padding-left: 1em; padding-right: 1em; text-align: center; vertical-align: top\">c66c10a9567f0d82ff31441a9<br>fd5063e5cd9dfe8 ...</td>\n",
       "        <td style=\"padding-left: 1em; padding-right: 1em; text-align: center; vertical-align: top\">Secrets - OneRepublic</td>\n",
       "        <td style=\"padding-left: 1em; padding-right: 1em; text-align: center; vertical-align: top\">3148.0</td>\n",
       "        <td style=\"padding-left: 1em; padding-right: 1em; text-align: center; vertical-align: top\">7</td>\n",
       "    </tr>\n",
       "    <tr>\n",
       "        <td style=\"padding-left: 1em; padding-right: 1em; text-align: center; vertical-align: top\">c66c10a9567f0d82ff31441a9<br>fd5063e5cd9dfe8 ...</td>\n",
       "        <td style=\"padding-left: 1em; padding-right: 1em; text-align: center; vertical-align: top\">Fireflies - Charttraxx<br>Karaoke ...</td>\n",
       "        <td style=\"padding-left: 1em; padding-right: 1em; text-align: center; vertical-align: top\">2532.0</td>\n",
       "        <td style=\"padding-left: 1em; padding-right: 1em; text-align: center; vertical-align: top\">8</td>\n",
       "    </tr>\n",
       "    <tr>\n",
       "        <td style=\"padding-left: 1em; padding-right: 1em; text-align: center; vertical-align: top\">c66c10a9567f0d82ff31441a9<br>fd5063e5cd9dfe8 ...</td>\n",
       "        <td style=\"padding-left: 1em; padding-right: 1em; text-align: center; vertical-align: top\">Tive Sim - Cartola</td>\n",
       "        <td style=\"padding-left: 1em; padding-right: 1em; text-align: center; vertical-align: top\">2521.0</td>\n",
       "        <td style=\"padding-left: 1em; padding-right: 1em; text-align: center; vertical-align: top\">9</td>\n",
       "    </tr>\n",
       "    <tr>\n",
       "        <td style=\"padding-left: 1em; padding-right: 1em; text-align: center; vertical-align: top\">c66c10a9567f0d82ff31441a9<br>fd5063e5cd9dfe8 ...</td>\n",
       "        <td style=\"padding-left: 1em; padding-right: 1em; text-align: center; vertical-align: top\">Drop The World - Lil<br>Wayne / Eminem ...</td>\n",
       "        <td style=\"padding-left: 1em; padding-right: 1em; text-align: center; vertical-align: top\">2053.0</td>\n",
       "        <td style=\"padding-left: 1em; padding-right: 1em; text-align: center; vertical-align: top\">10</td>\n",
       "    </tr>\n",
       "</table>\n",
       "[10 rows x 4 columns]<br/>\n",
       "</div>"
      ],
      "text/plain": [
       "Columns:\n",
       "\tuser_id\tstr\n",
       "\tsong\tstr\n",
       "\tscore\tfloat\n",
       "\trank\tint\n",
       "\n",
       "Rows: 10\n",
       "\n",
       "Data:\n",
       "+-------------------------------+--------------------------------+--------+------+\n",
       "|            user_id            |              song              | score  | rank |\n",
       "+-------------------------------+--------------------------------+--------+------+\n",
       "| c66c10a9567f0d82ff31441a9f... |    Sehr kosmisch - Harmonia    | 4754.0 |  1   |\n",
       "| c66c10a9567f0d82ff31441a9f... |          Undo - Björk          | 4227.0 |  2   |\n",
       "| c66c10a9567f0d82ff31441a9f... | You're The One - Dwight Yoakam | 3781.0 |  3   |\n",
       "| c66c10a9567f0d82ff31441a9f... | Dog Days Are Over (Radio E...  | 3633.0 |  4   |\n",
       "| c66c10a9567f0d82ff31441a9f... |    Revelry - Kings Of Leon     | 3527.0 |  5   |\n",
       "| c66c10a9567f0d82ff31441a9f... | Horn Concerto No. 4 in E f...  | 3161.0 |  6   |\n",
       "| c66c10a9567f0d82ff31441a9f... |     Secrets - OneRepublic      | 3148.0 |  7   |\n",
       "| c66c10a9567f0d82ff31441a9f... | Fireflies - Charttraxx Karaoke | 2532.0 |  8   |\n",
       "| c66c10a9567f0d82ff31441a9f... |       Tive Sim - Cartola       | 2521.0 |  9   |\n",
       "| c66c10a9567f0d82ff31441a9f... | Drop The World - Lil Wayne...  | 2053.0 |  10  |\n",
       "+-------------------------------+--------------------------------+--------+------+\n",
       "[10 rows x 4 columns]"
      ]
     },
     "execution_count": 25,
     "metadata": {},
     "output_type": "execute_result"
    }
   ],
   "source": [
    "popularity_model.recommend(users=[users[0]])"
   ]
  },
  {
   "cell_type": "code",
   "execution_count": 26,
   "metadata": {},
   "outputs": [
    {
     "data": {
      "text/html": [
       "<div style=\"max-height:1000px;max-width:1500px;overflow:auto;\"><table frame=\"box\" rules=\"cols\">\n",
       "    <tr>\n",
       "        <th style=\"padding-left: 1em; padding-right: 1em; text-align: center\">user_id</th>\n",
       "        <th style=\"padding-left: 1em; padding-right: 1em; text-align: center\">song</th>\n",
       "        <th style=\"padding-left: 1em; padding-right: 1em; text-align: center\">score</th>\n",
       "        <th style=\"padding-left: 1em; padding-right: 1em; text-align: center\">rank</th>\n",
       "    </tr>\n",
       "    <tr>\n",
       "        <td style=\"padding-left: 1em; padding-right: 1em; text-align: center; vertical-align: top\">279292bb36dbfc7f505e36ebf<br>038c81eb1d1d63e ...</td>\n",
       "        <td style=\"padding-left: 1em; padding-right: 1em; text-align: center; vertical-align: top\">Sehr kosmisch - Harmonia</td>\n",
       "        <td style=\"padding-left: 1em; padding-right: 1em; text-align: center; vertical-align: top\">4754.0</td>\n",
       "        <td style=\"padding-left: 1em; padding-right: 1em; text-align: center; vertical-align: top\">1</td>\n",
       "    </tr>\n",
       "    <tr>\n",
       "        <td style=\"padding-left: 1em; padding-right: 1em; text-align: center; vertical-align: top\">279292bb36dbfc7f505e36ebf<br>038c81eb1d1d63e ...</td>\n",
       "        <td style=\"padding-left: 1em; padding-right: 1em; text-align: center; vertical-align: top\">Undo - Björk</td>\n",
       "        <td style=\"padding-left: 1em; padding-right: 1em; text-align: center; vertical-align: top\">4227.0</td>\n",
       "        <td style=\"padding-left: 1em; padding-right: 1em; text-align: center; vertical-align: top\">2</td>\n",
       "    </tr>\n",
       "    <tr>\n",
       "        <td style=\"padding-left: 1em; padding-right: 1em; text-align: center; vertical-align: top\">279292bb36dbfc7f505e36ebf<br>038c81eb1d1d63e ...</td>\n",
       "        <td style=\"padding-left: 1em; padding-right: 1em; text-align: center; vertical-align: top\">You&#x27;re The One - Dwight<br>Yoakam ...</td>\n",
       "        <td style=\"padding-left: 1em; padding-right: 1em; text-align: center; vertical-align: top\">3781.0</td>\n",
       "        <td style=\"padding-left: 1em; padding-right: 1em; text-align: center; vertical-align: top\">3</td>\n",
       "    </tr>\n",
       "    <tr>\n",
       "        <td style=\"padding-left: 1em; padding-right: 1em; text-align: center; vertical-align: top\">279292bb36dbfc7f505e36ebf<br>038c81eb1d1d63e ...</td>\n",
       "        <td style=\"padding-left: 1em; padding-right: 1em; text-align: center; vertical-align: top\">Dog Days Are Over (Radio<br>Edit) - Florence + The ...</td>\n",
       "        <td style=\"padding-left: 1em; padding-right: 1em; text-align: center; vertical-align: top\">3633.0</td>\n",
       "        <td style=\"padding-left: 1em; padding-right: 1em; text-align: center; vertical-align: top\">4</td>\n",
       "    </tr>\n",
       "    <tr>\n",
       "        <td style=\"padding-left: 1em; padding-right: 1em; text-align: center; vertical-align: top\">279292bb36dbfc7f505e36ebf<br>038c81eb1d1d63e ...</td>\n",
       "        <td style=\"padding-left: 1em; padding-right: 1em; text-align: center; vertical-align: top\">Revelry - Kings Of Leon</td>\n",
       "        <td style=\"padding-left: 1em; padding-right: 1em; text-align: center; vertical-align: top\">3527.0</td>\n",
       "        <td style=\"padding-left: 1em; padding-right: 1em; text-align: center; vertical-align: top\">5</td>\n",
       "    </tr>\n",
       "    <tr>\n",
       "        <td style=\"padding-left: 1em; padding-right: 1em; text-align: center; vertical-align: top\">279292bb36dbfc7f505e36ebf<br>038c81eb1d1d63e ...</td>\n",
       "        <td style=\"padding-left: 1em; padding-right: 1em; text-align: center; vertical-align: top\">Horn Concerto No. 4 in E<br>flat K495: II. Romance ...</td>\n",
       "        <td style=\"padding-left: 1em; padding-right: 1em; text-align: center; vertical-align: top\">3161.0</td>\n",
       "        <td style=\"padding-left: 1em; padding-right: 1em; text-align: center; vertical-align: top\">6</td>\n",
       "    </tr>\n",
       "    <tr>\n",
       "        <td style=\"padding-left: 1em; padding-right: 1em; text-align: center; vertical-align: top\">279292bb36dbfc7f505e36ebf<br>038c81eb1d1d63e ...</td>\n",
       "        <td style=\"padding-left: 1em; padding-right: 1em; text-align: center; vertical-align: top\">Secrets - OneRepublic</td>\n",
       "        <td style=\"padding-left: 1em; padding-right: 1em; text-align: center; vertical-align: top\">3148.0</td>\n",
       "        <td style=\"padding-left: 1em; padding-right: 1em; text-align: center; vertical-align: top\">7</td>\n",
       "    </tr>\n",
       "    <tr>\n",
       "        <td style=\"padding-left: 1em; padding-right: 1em; text-align: center; vertical-align: top\">279292bb36dbfc7f505e36ebf<br>038c81eb1d1d63e ...</td>\n",
       "        <td style=\"padding-left: 1em; padding-right: 1em; text-align: center; vertical-align: top\">Hey_ Soul Sister - Train</td>\n",
       "        <td style=\"padding-left: 1em; padding-right: 1em; text-align: center; vertical-align: top\">2538.0</td>\n",
       "        <td style=\"padding-left: 1em; padding-right: 1em; text-align: center; vertical-align: top\">8</td>\n",
       "    </tr>\n",
       "    <tr>\n",
       "        <td style=\"padding-left: 1em; padding-right: 1em; text-align: center; vertical-align: top\">279292bb36dbfc7f505e36ebf<br>038c81eb1d1d63e ...</td>\n",
       "        <td style=\"padding-left: 1em; padding-right: 1em; text-align: center; vertical-align: top\">Fireflies - Charttraxx<br>Karaoke ...</td>\n",
       "        <td style=\"padding-left: 1em; padding-right: 1em; text-align: center; vertical-align: top\">2532.0</td>\n",
       "        <td style=\"padding-left: 1em; padding-right: 1em; text-align: center; vertical-align: top\">9</td>\n",
       "    </tr>\n",
       "    <tr>\n",
       "        <td style=\"padding-left: 1em; padding-right: 1em; text-align: center; vertical-align: top\">279292bb36dbfc7f505e36ebf<br>038c81eb1d1d63e ...</td>\n",
       "        <td style=\"padding-left: 1em; padding-right: 1em; text-align: center; vertical-align: top\">Tive Sim - Cartola</td>\n",
       "        <td style=\"padding-left: 1em; padding-right: 1em; text-align: center; vertical-align: top\">2521.0</td>\n",
       "        <td style=\"padding-left: 1em; padding-right: 1em; text-align: center; vertical-align: top\">10</td>\n",
       "    </tr>\n",
       "</table>\n",
       "[10 rows x 4 columns]<br/>\n",
       "</div>"
      ],
      "text/plain": [
       "Columns:\n",
       "\tuser_id\tstr\n",
       "\tsong\tstr\n",
       "\tscore\tfloat\n",
       "\trank\tint\n",
       "\n",
       "Rows: 10\n",
       "\n",
       "Data:\n",
       "+-------------------------------+--------------------------------+--------+------+\n",
       "|            user_id            |              song              | score  | rank |\n",
       "+-------------------------------+--------------------------------+--------+------+\n",
       "| 279292bb36dbfc7f505e36ebf0... |    Sehr kosmisch - Harmonia    | 4754.0 |  1   |\n",
       "| 279292bb36dbfc7f505e36ebf0... |          Undo - Björk          | 4227.0 |  2   |\n",
       "| 279292bb36dbfc7f505e36ebf0... | You're The One - Dwight Yoakam | 3781.0 |  3   |\n",
       "| 279292bb36dbfc7f505e36ebf0... | Dog Days Are Over (Radio E...  | 3633.0 |  4   |\n",
       "| 279292bb36dbfc7f505e36ebf0... |    Revelry - Kings Of Leon     | 3527.0 |  5   |\n",
       "| 279292bb36dbfc7f505e36ebf0... | Horn Concerto No. 4 in E f...  | 3161.0 |  6   |\n",
       "| 279292bb36dbfc7f505e36ebf0... |     Secrets - OneRepublic      | 3148.0 |  7   |\n",
       "| 279292bb36dbfc7f505e36ebf0... |    Hey_ Soul Sister - Train    | 2538.0 |  8   |\n",
       "| 279292bb36dbfc7f505e36ebf0... | Fireflies - Charttraxx Karaoke | 2532.0 |  9   |\n",
       "| 279292bb36dbfc7f505e36ebf0... |       Tive Sim - Cartola       | 2521.0 |  10  |\n",
       "+-------------------------------+--------------------------------+--------+------+\n",
       "[10 rows x 4 columns]"
      ]
     },
     "execution_count": 26,
     "metadata": {},
     "output_type": "execute_result"
    }
   ],
   "source": [
    "popularity_model.recommend(users=[users[1]])"
   ]
  },
  {
   "cell_type": "markdown",
   "metadata": {},
   "source": [
    "# Build a recommender with personalization"
   ]
  },
  {
   "cell_type": "code",
   "execution_count": 27,
   "metadata": {},
   "outputs": [
    {
     "data": {
      "text/html": [
       "<pre>Warning: Ignoring columns song_id, listen_count, title, artist;</pre>"
      ],
      "text/plain": [
       "Warning: Ignoring columns song_id, listen_count, title, artist;"
      ]
     },
     "metadata": {},
     "output_type": "display_data"
    },
    {
     "data": {
      "text/html": [
       "<pre> To use one of these as a rating column, specify the column name to be used as target</pre>"
      ],
      "text/plain": [
       " To use one of these as a rating column, specify the column name to be used as target"
      ]
     },
     "metadata": {},
     "output_type": "display_data"
    },
    {
     "data": {
      "text/html": [
       "<pre>    and use a method that allows the use of a target.</pre>"
      ],
      "text/plain": [
       "    and use a method that allows the use of a target."
      ]
     },
     "metadata": {},
     "output_type": "display_data"
    },
    {
     "data": {
      "text/html": [
       "<pre>Preparing data set.</pre>"
      ],
      "text/plain": [
       "Preparing data set."
      ]
     },
     "metadata": {},
     "output_type": "display_data"
    },
    {
     "data": {
      "text/html": [
       "<pre>    Data has 893580 observations with 66085 users and 9952 items.</pre>"
      ],
      "text/plain": [
       "    Data has 893580 observations with 66085 users and 9952 items."
      ]
     },
     "metadata": {},
     "output_type": "display_data"
    },
    {
     "data": {
      "text/html": [
       "<pre>    Data prepared in: 1.89948s</pre>"
      ],
      "text/plain": [
       "    Data prepared in: 1.89948s"
      ]
     },
     "metadata": {},
     "output_type": "display_data"
    },
    {
     "data": {
      "text/html": [
       "<pre>Training model from provided data.</pre>"
      ],
      "text/plain": [
       "Training model from provided data."
      ]
     },
     "metadata": {},
     "output_type": "display_data"
    },
    {
     "data": {
      "text/html": [
       "<pre>Gathering per-item and per-user statistics.</pre>"
      ],
      "text/plain": [
       "Gathering per-item and per-user statistics."
      ]
     },
     "metadata": {},
     "output_type": "display_data"
    },
    {
     "data": {
      "text/html": [
       "<pre>+--------------------------------+------------+</pre>"
      ],
      "text/plain": [
       "+--------------------------------+------------+"
      ]
     },
     "metadata": {},
     "output_type": "display_data"
    },
    {
     "data": {
      "text/html": [
       "<pre>| Elapsed Time (Item Statistics) | % Complete |</pre>"
      ],
      "text/plain": [
       "| Elapsed Time (Item Statistics) | % Complete |"
      ]
     },
     "metadata": {},
     "output_type": "display_data"
    },
    {
     "data": {
      "text/html": [
       "<pre>+--------------------------------+------------+</pre>"
      ],
      "text/plain": [
       "+--------------------------------+------------+"
      ]
     },
     "metadata": {},
     "output_type": "display_data"
    },
    {
     "data": {
      "text/html": [
       "<pre>| 2.144ms                        | 3          |</pre>"
      ],
      "text/plain": [
       "| 2.144ms                        | 3          |"
      ]
     },
     "metadata": {},
     "output_type": "display_data"
    },
    {
     "data": {
      "text/html": [
       "<pre>| 31.036ms                       | 100        |</pre>"
      ],
      "text/plain": [
       "| 31.036ms                       | 100        |"
      ]
     },
     "metadata": {},
     "output_type": "display_data"
    },
    {
     "data": {
      "text/html": [
       "<pre>+--------------------------------+------------+</pre>"
      ],
      "text/plain": [
       "+--------------------------------+------------+"
      ]
     },
     "metadata": {},
     "output_type": "display_data"
    },
    {
     "data": {
      "text/html": [
       "<pre>Setting up lookup tables.</pre>"
      ],
      "text/plain": [
       "Setting up lookup tables."
      ]
     },
     "metadata": {},
     "output_type": "display_data"
    },
    {
     "data": {
      "text/html": [
       "<pre>Processing data in one pass using dense lookup tables.</pre>"
      ],
      "text/plain": [
       "Processing data in one pass using dense lookup tables."
      ]
     },
     "metadata": {},
     "output_type": "display_data"
    },
    {
     "data": {
      "text/html": [
       "<pre>+-------------------------------------+------------------+-----------------+</pre>"
      ],
      "text/plain": [
       "+-------------------------------------+------------------+-----------------+"
      ]
     },
     "metadata": {},
     "output_type": "display_data"
    },
    {
     "data": {
      "text/html": [
       "<pre>| Elapsed Time (Constructing Lookups) | Total % Complete | Items Processed |</pre>"
      ],
      "text/plain": [
       "| Elapsed Time (Constructing Lookups) | Total % Complete | Items Processed |"
      ]
     },
     "metadata": {},
     "output_type": "display_data"
    },
    {
     "data": {
      "text/html": [
       "<pre>+-------------------------------------+------------------+-----------------+</pre>"
      ],
      "text/plain": [
       "+-------------------------------------+------------------+-----------------+"
      ]
     },
     "metadata": {},
     "output_type": "display_data"
    },
    {
     "data": {
      "text/html": [
       "<pre>| 646.21ms                            | 0                | 0               |</pre>"
      ],
      "text/plain": [
       "| 646.21ms                            | 0                | 0               |"
      ]
     },
     "metadata": {},
     "output_type": "display_data"
    },
    {
     "data": {
      "text/html": [
       "<pre>| 1.81s                               | 100              | 9952            |</pre>"
      ],
      "text/plain": [
       "| 1.81s                               | 100              | 9952            |"
      ]
     },
     "metadata": {},
     "output_type": "display_data"
    },
    {
     "data": {
      "text/html": [
       "<pre>+-------------------------------------+------------------+-----------------+</pre>"
      ],
      "text/plain": [
       "+-------------------------------------+------------------+-----------------+"
      ]
     },
     "metadata": {},
     "output_type": "display_data"
    },
    {
     "data": {
      "text/html": [
       "<pre>Finalizing lookup tables.</pre>"
      ],
      "text/plain": [
       "Finalizing lookup tables."
      ]
     },
     "metadata": {},
     "output_type": "display_data"
    },
    {
     "data": {
      "text/html": [
       "<pre>Generating candidate set for working with new users.</pre>"
      ],
      "text/plain": [
       "Generating candidate set for working with new users."
      ]
     },
     "metadata": {},
     "output_type": "display_data"
    },
    {
     "data": {
      "text/html": [
       "<pre>Finished training in 2.91943s</pre>"
      ],
      "text/plain": [
       "Finished training in 2.91943s"
      ]
     },
     "metadata": {},
     "output_type": "display_data"
    }
   ],
   "source": [
    "personalized_model = turicreate.item_similarity_recommender.create(train_data,\n",
    "                                                                  user_id = 'user_id',\n",
    "                                                                  item_id = 'song')"
   ]
  },
  {
   "cell_type": "markdown",
   "metadata": {},
   "source": [
    "## Apply personalized model to make song recommendations"
   ]
  },
  {
   "cell_type": "code",
   "execution_count": 28,
   "metadata": {},
   "outputs": [
    {
     "data": {
      "text/html": [
       "<div style=\"max-height:1000px;max-width:1500px;overflow:auto;\"><table frame=\"box\" rules=\"cols\">\n",
       "    <tr>\n",
       "        <th style=\"padding-left: 1em; padding-right: 1em; text-align: center\">user_id</th>\n",
       "        <th style=\"padding-left: 1em; padding-right: 1em; text-align: center\">song</th>\n",
       "        <th style=\"padding-left: 1em; padding-right: 1em; text-align: center\">score</th>\n",
       "        <th style=\"padding-left: 1em; padding-right: 1em; text-align: center\">rank</th>\n",
       "    </tr>\n",
       "    <tr>\n",
       "        <td style=\"padding-left: 1em; padding-right: 1em; text-align: center; vertical-align: top\">c66c10a9567f0d82ff31441a9<br>fd5063e5cd9dfe8 ...</td>\n",
       "        <td style=\"padding-left: 1em; padding-right: 1em; text-align: center; vertical-align: top\">Cuando Pase El Temblor -<br>Soda Stereo ...</td>\n",
       "        <td style=\"padding-left: 1em; padding-right: 1em; text-align: center; vertical-align: top\">0.019450453611520622</td>\n",
       "        <td style=\"padding-left: 1em; padding-right: 1em; text-align: center; vertical-align: top\">1</td>\n",
       "    </tr>\n",
       "    <tr>\n",
       "        <td style=\"padding-left: 1em; padding-right: 1em; text-align: center; vertical-align: top\">c66c10a9567f0d82ff31441a9<br>fd5063e5cd9dfe8 ...</td>\n",
       "        <td style=\"padding-left: 1em; padding-right: 1em; text-align: center; vertical-align: top\">Fireflies - Charttraxx<br>Karaoke ...</td>\n",
       "        <td style=\"padding-left: 1em; padding-right: 1em; text-align: center; vertical-align: top\">0.014473731701190654</td>\n",
       "        <td style=\"padding-left: 1em; padding-right: 1em; text-align: center; vertical-align: top\">2</td>\n",
       "    </tr>\n",
       "    <tr>\n",
       "        <td style=\"padding-left: 1em; padding-right: 1em; text-align: center; vertical-align: top\">c66c10a9567f0d82ff31441a9<br>fd5063e5cd9dfe8 ...</td>\n",
       "        <td style=\"padding-left: 1em; padding-right: 1em; text-align: center; vertical-align: top\">Love Is A Losing Game -<br>Amy Winehouse ...</td>\n",
       "        <td style=\"padding-left: 1em; padding-right: 1em; text-align: center; vertical-align: top\">0.014286596041459303</td>\n",
       "        <td style=\"padding-left: 1em; padding-right: 1em; text-align: center; vertical-align: top\">3</td>\n",
       "    </tr>\n",
       "    <tr>\n",
       "        <td style=\"padding-left: 1em; padding-right: 1em; text-align: center; vertical-align: top\">c66c10a9567f0d82ff31441a9<br>fd5063e5cd9dfe8 ...</td>\n",
       "        <td style=\"padding-left: 1em; padding-right: 1em; text-align: center; vertical-align: top\">Marry Me - Train</td>\n",
       "        <td style=\"padding-left: 1em; padding-right: 1em; text-align: center; vertical-align: top\">0.014133471709031325</td>\n",
       "        <td style=\"padding-left: 1em; padding-right: 1em; text-align: center; vertical-align: top\">4</td>\n",
       "    </tr>\n",
       "    <tr>\n",
       "        <td style=\"padding-left: 1em; padding-right: 1em; text-align: center; vertical-align: top\">c66c10a9567f0d82ff31441a9<br>fd5063e5cd9dfe8 ...</td>\n",
       "        <td style=\"padding-left: 1em; padding-right: 1em; text-align: center; vertical-align: top\">Secrets - OneRepublic</td>\n",
       "        <td style=\"padding-left: 1em; padding-right: 1em; text-align: center; vertical-align: top\">0.013591665488023024</td>\n",
       "        <td style=\"padding-left: 1em; padding-right: 1em; text-align: center; vertical-align: top\">5</td>\n",
       "    </tr>\n",
       "    <tr>\n",
       "        <td style=\"padding-left: 1em; padding-right: 1em; text-align: center; vertical-align: top\">c66c10a9567f0d82ff31441a9<br>fd5063e5cd9dfe8 ...</td>\n",
       "        <td style=\"padding-left: 1em; padding-right: 1em; text-align: center; vertical-align: top\">Sehr kosmisch - Harmonia</td>\n",
       "        <td style=\"padding-left: 1em; padding-right: 1em; text-align: center; vertical-align: top\">0.013398789442502536</td>\n",
       "        <td style=\"padding-left: 1em; padding-right: 1em; text-align: center; vertical-align: top\">6</td>\n",
       "    </tr>\n",
       "    <tr>\n",
       "        <td style=\"padding-left: 1em; padding-right: 1em; text-align: center; vertical-align: top\">c66c10a9567f0d82ff31441a9<br>fd5063e5cd9dfe8 ...</td>\n",
       "        <td style=\"padding-left: 1em; padding-right: 1em; text-align: center; vertical-align: top\">Te Hacen Falta Vitaminas<br>- Soda Stereo ...</td>\n",
       "        <td style=\"padding-left: 1em; padding-right: 1em; text-align: center; vertical-align: top\">0.01293028317964994</td>\n",
       "        <td style=\"padding-left: 1em; padding-right: 1em; text-align: center; vertical-align: top\">7</td>\n",
       "    </tr>\n",
       "    <tr>\n",
       "        <td style=\"padding-left: 1em; padding-right: 1em; text-align: center; vertical-align: top\">c66c10a9567f0d82ff31441a9<br>fd5063e5cd9dfe8 ...</td>\n",
       "        <td style=\"padding-left: 1em; padding-right: 1em; text-align: center; vertical-align: top\">OMG - Usher featuring<br>will.i.am ...</td>\n",
       "        <td style=\"padding-left: 1em; padding-right: 1em; text-align: center; vertical-align: top\">0.012777828253232516</td>\n",
       "        <td style=\"padding-left: 1em; padding-right: 1em; text-align: center; vertical-align: top\">8</td>\n",
       "    </tr>\n",
       "    <tr>\n",
       "        <td style=\"padding-left: 1em; padding-right: 1em; text-align: center; vertical-align: top\">c66c10a9567f0d82ff31441a9<br>fd5063e5cd9dfe8 ...</td>\n",
       "        <td style=\"padding-left: 1em; padding-right: 1em; text-align: center; vertical-align: top\">Y solo se me ocurre<br>amarte (Unplugged) - ...</td>\n",
       "        <td style=\"padding-left: 1em; padding-right: 1em; text-align: center; vertical-align: top\">0.012341127945826603</td>\n",
       "        <td style=\"padding-left: 1em; padding-right: 1em; text-align: center; vertical-align: top\">9</td>\n",
       "    </tr>\n",
       "    <tr>\n",
       "        <td style=\"padding-left: 1em; padding-right: 1em; text-align: center; vertical-align: top\">c66c10a9567f0d82ff31441a9<br>fd5063e5cd9dfe8 ...</td>\n",
       "        <td style=\"padding-left: 1em; padding-right: 1em; text-align: center; vertical-align: top\">No Dejes Que... -<br>Caifanes ...</td>\n",
       "        <td style=\"padding-left: 1em; padding-right: 1em; text-align: center; vertical-align: top\">0.012104249917543851</td>\n",
       "        <td style=\"padding-left: 1em; padding-right: 1em; text-align: center; vertical-align: top\">10</td>\n",
       "    </tr>\n",
       "</table>\n",
       "[10 rows x 4 columns]<br/>\n",
       "</div>"
      ],
      "text/plain": [
       "Columns:\n",
       "\tuser_id\tstr\n",
       "\tsong\tstr\n",
       "\tscore\tfloat\n",
       "\trank\tint\n",
       "\n",
       "Rows: 10\n",
       "\n",
       "Data:\n",
       "+-------------------------------+--------------------------------+\n",
       "|            user_id            |              song              |\n",
       "+-------------------------------+--------------------------------+\n",
       "| c66c10a9567f0d82ff31441a9f... | Cuando Pase El Temblor - S...  |\n",
       "| c66c10a9567f0d82ff31441a9f... | Fireflies - Charttraxx Karaoke |\n",
       "| c66c10a9567f0d82ff31441a9f... | Love Is A Losing Game - Am...  |\n",
       "| c66c10a9567f0d82ff31441a9f... |        Marry Me - Train        |\n",
       "| c66c10a9567f0d82ff31441a9f... |     Secrets - OneRepublic      |\n",
       "| c66c10a9567f0d82ff31441a9f... |    Sehr kosmisch - Harmonia    |\n",
       "| c66c10a9567f0d82ff31441a9f... | Te Hacen Falta Vitaminas -...  |\n",
       "| c66c10a9567f0d82ff31441a9f... | OMG - Usher featuring will...  |\n",
       "| c66c10a9567f0d82ff31441a9f... | Y solo se me ocurre amarte...  |\n",
       "| c66c10a9567f0d82ff31441a9f... |   No Dejes Que... - Caifanes   |\n",
       "+-------------------------------+--------------------------------+\n",
       "+----------------------+------+\n",
       "|        score         | rank |\n",
       "+----------------------+------+\n",
       "| 0.019450453611520622 |  1   |\n",
       "| 0.014473731701190654 |  2   |\n",
       "| 0.014286596041459303 |  3   |\n",
       "| 0.014133471709031325 |  4   |\n",
       "| 0.013591665488023024 |  5   |\n",
       "| 0.013398789442502536 |  6   |\n",
       "| 0.01293028317964994  |  7   |\n",
       "| 0.012777828253232516 |  8   |\n",
       "| 0.012341127945826603 |  9   |\n",
       "| 0.012104249917543851 |  10  |\n",
       "+----------------------+------+\n",
       "[10 rows x 4 columns]"
      ]
     },
     "execution_count": 28,
     "metadata": {},
     "output_type": "execute_result"
    }
   ],
   "source": [
    "personalized_model.recommend(users=[users[0]])"
   ]
  },
  {
   "cell_type": "code",
   "execution_count": 29,
   "metadata": {},
   "outputs": [
    {
     "data": {
      "text/html": [
       "<div style=\"max-height:1000px;max-width:1500px;overflow:auto;\"><table frame=\"box\" rules=\"cols\">\n",
       "    <tr>\n",
       "        <th style=\"padding-left: 1em; padding-right: 1em; text-align: center\">user_id</th>\n",
       "        <th style=\"padding-left: 1em; padding-right: 1em; text-align: center\">song</th>\n",
       "        <th style=\"padding-left: 1em; padding-right: 1em; text-align: center\">score</th>\n",
       "        <th style=\"padding-left: 1em; padding-right: 1em; text-align: center\">rank</th>\n",
       "    </tr>\n",
       "    <tr>\n",
       "        <td style=\"padding-left: 1em; padding-right: 1em; text-align: center; vertical-align: top\">279292bb36dbfc7f505e36ebf<br>038c81eb1d1d63e ...</td>\n",
       "        <td style=\"padding-left: 1em; padding-right: 1em; text-align: center; vertical-align: top\">Riot In Cell Block Number<br>Nine - Dr Feelgood ...</td>\n",
       "        <td style=\"padding-left: 1em; padding-right: 1em; text-align: center; vertical-align: top\">0.03749999403953552</td>\n",
       "        <td style=\"padding-left: 1em; padding-right: 1em; text-align: center; vertical-align: top\">1</td>\n",
       "    </tr>\n",
       "    <tr>\n",
       "        <td style=\"padding-left: 1em; padding-right: 1em; text-align: center; vertical-align: top\">279292bb36dbfc7f505e36ebf<br>038c81eb1d1d63e ...</td>\n",
       "        <td style=\"padding-left: 1em; padding-right: 1em; text-align: center; vertical-align: top\">Sei Lá Mangueira -<br>Elizeth Cardoso ...</td>\n",
       "        <td style=\"padding-left: 1em; padding-right: 1em; text-align: center; vertical-align: top\">0.03316326439380646</td>\n",
       "        <td style=\"padding-left: 1em; padding-right: 1em; text-align: center; vertical-align: top\">2</td>\n",
       "    </tr>\n",
       "    <tr>\n",
       "        <td style=\"padding-left: 1em; padding-right: 1em; text-align: center; vertical-align: top\">279292bb36dbfc7f505e36ebf<br>038c81eb1d1d63e ...</td>\n",
       "        <td style=\"padding-left: 1em; padding-right: 1em; text-align: center; vertical-align: top\">The Stallion - Ween</td>\n",
       "        <td style=\"padding-left: 1em; padding-right: 1em; text-align: center; vertical-align: top\">0.032258063554763794</td>\n",
       "        <td style=\"padding-left: 1em; padding-right: 1em; text-align: center; vertical-align: top\">3</td>\n",
       "    </tr>\n",
       "    <tr>\n",
       "        <td style=\"padding-left: 1em; padding-right: 1em; text-align: center; vertical-align: top\">279292bb36dbfc7f505e36ebf<br>038c81eb1d1d63e ...</td>\n",
       "        <td style=\"padding-left: 1em; padding-right: 1em; text-align: center; vertical-align: top\">Rain - Subhumans</td>\n",
       "        <td style=\"padding-left: 1em; padding-right: 1em; text-align: center; vertical-align: top\">0.031415924429893494</td>\n",
       "        <td style=\"padding-left: 1em; padding-right: 1em; text-align: center; vertical-align: top\">4</td>\n",
       "    </tr>\n",
       "    <tr>\n",
       "        <td style=\"padding-left: 1em; padding-right: 1em; text-align: center; vertical-align: top\">279292bb36dbfc7f505e36ebf<br>038c81eb1d1d63e ...</td>\n",
       "        <td style=\"padding-left: 1em; padding-right: 1em; text-align: center; vertical-align: top\">West One (Shine On Me) -<br>The Ruts ...</td>\n",
       "        <td style=\"padding-left: 1em; padding-right: 1em; text-align: center; vertical-align: top\">0.030677199363708496</td>\n",
       "        <td style=\"padding-left: 1em; padding-right: 1em; text-align: center; vertical-align: top\">5</td>\n",
       "    </tr>\n",
       "    <tr>\n",
       "        <td style=\"padding-left: 1em; padding-right: 1em; text-align: center; vertical-align: top\">279292bb36dbfc7f505e36ebf<br>038c81eb1d1d63e ...</td>\n",
       "        <td style=\"padding-left: 1em; padding-right: 1em; text-align: center; vertical-align: top\">Back Against The Wall -<br>Cage The Elephant ...</td>\n",
       "        <td style=\"padding-left: 1em; padding-right: 1em; text-align: center; vertical-align: top\">0.030120477080345154</td>\n",
       "        <td style=\"padding-left: 1em; padding-right: 1em; text-align: center; vertical-align: top\">6</td>\n",
       "    </tr>\n",
       "    <tr>\n",
       "        <td style=\"padding-left: 1em; padding-right: 1em; text-align: center; vertical-align: top\">279292bb36dbfc7f505e36ebf<br>038c81eb1d1d63e ...</td>\n",
       "        <td style=\"padding-left: 1em; padding-right: 1em; text-align: center; vertical-align: top\">Life Less Frightening -<br>Rise Against ...</td>\n",
       "        <td style=\"padding-left: 1em; padding-right: 1em; text-align: center; vertical-align: top\">0.0284431129693985</td>\n",
       "        <td style=\"padding-left: 1em; padding-right: 1em; text-align: center; vertical-align: top\">7</td>\n",
       "    </tr>\n",
       "    <tr>\n",
       "        <td style=\"padding-left: 1em; padding-right: 1em; text-align: center; vertical-align: top\">279292bb36dbfc7f505e36ebf<br>038c81eb1d1d63e ...</td>\n",
       "        <td style=\"padding-left: 1em; padding-right: 1em; text-align: center; vertical-align: top\">A Beggar On A Beach Of<br>Gold - Mike And The ...</td>\n",
       "        <td style=\"padding-left: 1em; padding-right: 1em; text-align: center; vertical-align: top\">0.023002490401268005</td>\n",
       "        <td style=\"padding-left: 1em; padding-right: 1em; text-align: center; vertical-align: top\">8</td>\n",
       "    </tr>\n",
       "    <tr>\n",
       "        <td style=\"padding-left: 1em; padding-right: 1em; text-align: center; vertical-align: top\">279292bb36dbfc7f505e36ebf<br>038c81eb1d1d63e ...</td>\n",
       "        <td style=\"padding-left: 1em; padding-right: 1em; text-align: center; vertical-align: top\">Audience Of One - Rise<br>Against ...</td>\n",
       "        <td style=\"padding-left: 1em; padding-right: 1em; text-align: center; vertical-align: top\">0.01939384639263153</td>\n",
       "        <td style=\"padding-left: 1em; padding-right: 1em; text-align: center; vertical-align: top\">9</td>\n",
       "    </tr>\n",
       "    <tr>\n",
       "        <td style=\"padding-left: 1em; padding-right: 1em; text-align: center; vertical-align: top\">279292bb36dbfc7f505e36ebf<br>038c81eb1d1d63e ...</td>\n",
       "        <td style=\"padding-left: 1em; padding-right: 1em; text-align: center; vertical-align: top\">Blame It On The Boogie -<br>The Jacksons ...</td>\n",
       "        <td style=\"padding-left: 1em; padding-right: 1em; text-align: center; vertical-align: top\">0.018987342715263367</td>\n",
       "        <td style=\"padding-left: 1em; padding-right: 1em; text-align: center; vertical-align: top\">10</td>\n",
       "    </tr>\n",
       "</table>\n",
       "[10 rows x 4 columns]<br/>\n",
       "</div>"
      ],
      "text/plain": [
       "Columns:\n",
       "\tuser_id\tstr\n",
       "\tsong\tstr\n",
       "\tscore\tfloat\n",
       "\trank\tint\n",
       "\n",
       "Rows: 10\n",
       "\n",
       "Data:\n",
       "+-------------------------------+--------------------------------+\n",
       "|            user_id            |              song              |\n",
       "+-------------------------------+--------------------------------+\n",
       "| 279292bb36dbfc7f505e36ebf0... | Riot In Cell Block Number ...  |\n",
       "| 279292bb36dbfc7f505e36ebf0... | Sei Lá Mangueira - Elizeth...  |\n",
       "| 279292bb36dbfc7f505e36ebf0... |      The Stallion - Ween       |\n",
       "| 279292bb36dbfc7f505e36ebf0... |        Rain - Subhumans        |\n",
       "| 279292bb36dbfc7f505e36ebf0... | West One (Shine On Me) - T...  |\n",
       "| 279292bb36dbfc7f505e36ebf0... | Back Against The Wall - Ca...  |\n",
       "| 279292bb36dbfc7f505e36ebf0... | Life Less Frightening - Ri...  |\n",
       "| 279292bb36dbfc7f505e36ebf0... | A Beggar On A Beach Of Gol...  |\n",
       "| 279292bb36dbfc7f505e36ebf0... | Audience Of One - Rise Against |\n",
       "| 279292bb36dbfc7f505e36ebf0... | Blame It On The Boogie - T...  |\n",
       "+-------------------------------+--------------------------------+\n",
       "+----------------------+------+\n",
       "|        score         | rank |\n",
       "+----------------------+------+\n",
       "| 0.03749999403953552  |  1   |\n",
       "| 0.03316326439380646  |  2   |\n",
       "| 0.032258063554763794 |  3   |\n",
       "| 0.031415924429893494 |  4   |\n",
       "| 0.030677199363708496 |  5   |\n",
       "| 0.030120477080345154 |  6   |\n",
       "|  0.0284431129693985  |  7   |\n",
       "| 0.023002490401268005 |  8   |\n",
       "| 0.01939384639263153  |  9   |\n",
       "| 0.018987342715263367 |  10  |\n",
       "+----------------------+------+\n",
       "[10 rows x 4 columns]"
      ]
     },
     "execution_count": 29,
     "metadata": {},
     "output_type": "execute_result"
    }
   ],
   "source": [
    "personalized_model.recommend(users=[users[1]])"
   ]
  },
  {
   "cell_type": "markdown",
   "metadata": {},
   "source": [
    "# Apply model to find similar songs in the data set"
   ]
  },
  {
   "cell_type": "code",
   "execution_count": 30,
   "metadata": {},
   "outputs": [
    {
     "data": {
      "text/html": [
       "<div style=\"max-height:1000px;max-width:1500px;overflow:auto;\"><table frame=\"box\" rules=\"cols\">\n",
       "    <tr>\n",
       "        <th style=\"padding-left: 1em; padding-right: 1em; text-align: center\">song</th>\n",
       "        <th style=\"padding-left: 1em; padding-right: 1em; text-align: center\">similar</th>\n",
       "        <th style=\"padding-left: 1em; padding-right: 1em; text-align: center\">score</th>\n",
       "        <th style=\"padding-left: 1em; padding-right: 1em; text-align: center\">rank</th>\n",
       "    </tr>\n",
       "    <tr>\n",
       "        <td style=\"padding-left: 1em; padding-right: 1em; text-align: center; vertical-align: top\">With Or Without You - U2</td>\n",
       "        <td style=\"padding-left: 1em; padding-right: 1em; text-align: center; vertical-align: top\">I Still Haven&#x27;t Found<br>What I&#x27;m Looking For  ...</td>\n",
       "        <td style=\"padding-left: 1em; padding-right: 1em; text-align: center; vertical-align: top\">0.04285717010498047</td>\n",
       "        <td style=\"padding-left: 1em; padding-right: 1em; text-align: center; vertical-align: top\">1</td>\n",
       "    </tr>\n",
       "    <tr>\n",
       "        <td style=\"padding-left: 1em; padding-right: 1em; text-align: center; vertical-align: top\">With Or Without You - U2</td>\n",
       "        <td style=\"padding-left: 1em; padding-right: 1em; text-align: center; vertical-align: top\">Hold Me_ Thrill Me_ Kiss<br>Me_ Kill Me - U2 ...</td>\n",
       "        <td style=\"padding-left: 1em; padding-right: 1em; text-align: center; vertical-align: top\">0.033734917640686035</td>\n",
       "        <td style=\"padding-left: 1em; padding-right: 1em; text-align: center; vertical-align: top\">2</td>\n",
       "    </tr>\n",
       "    <tr>\n",
       "        <td style=\"padding-left: 1em; padding-right: 1em; text-align: center; vertical-align: top\">With Or Without You - U2</td>\n",
       "        <td style=\"padding-left: 1em; padding-right: 1em; text-align: center; vertical-align: top\">Window In The Skies - U2</td>\n",
       "        <td style=\"padding-left: 1em; padding-right: 1em; text-align: center; vertical-align: top\">0.03283584117889404</td>\n",
       "        <td style=\"padding-left: 1em; padding-right: 1em; text-align: center; vertical-align: top\">3</td>\n",
       "    </tr>\n",
       "    <tr>\n",
       "        <td style=\"padding-left: 1em; padding-right: 1em; text-align: center; vertical-align: top\">With Or Without You - U2</td>\n",
       "        <td style=\"padding-left: 1em; padding-right: 1em; text-align: center; vertical-align: top\">Vertigo - U2</td>\n",
       "        <td style=\"padding-left: 1em; padding-right: 1em; text-align: center; vertical-align: top\">0.03007519245147705</td>\n",
       "        <td style=\"padding-left: 1em; padding-right: 1em; text-align: center; vertical-align: top\">4</td>\n",
       "    </tr>\n",
       "    <tr>\n",
       "        <td style=\"padding-left: 1em; padding-right: 1em; text-align: center; vertical-align: top\">With Or Without You - U2</td>\n",
       "        <td style=\"padding-left: 1em; padding-right: 1em; text-align: center; vertical-align: top\">Sunday Bloody Sunday - U2</td>\n",
       "        <td style=\"padding-left: 1em; padding-right: 1em; text-align: center; vertical-align: top\">0.02713179588317871</td>\n",
       "        <td style=\"padding-left: 1em; padding-right: 1em; text-align: center; vertical-align: top\">5</td>\n",
       "    </tr>\n",
       "    <tr>\n",
       "        <td style=\"padding-left: 1em; padding-right: 1em; text-align: center; vertical-align: top\">With Or Without You - U2</td>\n",
       "        <td style=\"padding-left: 1em; padding-right: 1em; text-align: center; vertical-align: top\">Bad - U2</td>\n",
       "        <td style=\"padding-left: 1em; padding-right: 1em; text-align: center; vertical-align: top\">0.02517986297607422</td>\n",
       "        <td style=\"padding-left: 1em; padding-right: 1em; text-align: center; vertical-align: top\">6</td>\n",
       "    </tr>\n",
       "    <tr>\n",
       "        <td style=\"padding-left: 1em; padding-right: 1em; text-align: center; vertical-align: top\">With Or Without You - U2</td>\n",
       "        <td style=\"padding-left: 1em; padding-right: 1em; text-align: center; vertical-align: top\">A Day Without Me - U2</td>\n",
       "        <td style=\"padding-left: 1em; padding-right: 1em; text-align: center; vertical-align: top\">0.023715436458587646</td>\n",
       "        <td style=\"padding-left: 1em; padding-right: 1em; text-align: center; vertical-align: top\">7</td>\n",
       "    </tr>\n",
       "    <tr>\n",
       "        <td style=\"padding-left: 1em; padding-right: 1em; text-align: center; vertical-align: top\">With Or Without You - U2</td>\n",
       "        <td style=\"padding-left: 1em; padding-right: 1em; text-align: center; vertical-align: top\">Another Time Another<br>Place - U2 ...</td>\n",
       "        <td style=\"padding-left: 1em; padding-right: 1em; text-align: center; vertical-align: top\">0.020325183868408203</td>\n",
       "        <td style=\"padding-left: 1em; padding-right: 1em; text-align: center; vertical-align: top\">8</td>\n",
       "    </tr>\n",
       "    <tr>\n",
       "        <td style=\"padding-left: 1em; padding-right: 1em; text-align: center; vertical-align: top\">With Or Without You - U2</td>\n",
       "        <td style=\"padding-left: 1em; padding-right: 1em; text-align: center; vertical-align: top\">Walk On - U2</td>\n",
       "        <td style=\"padding-left: 1em; padding-right: 1em; text-align: center; vertical-align: top\">0.020202040672302246</td>\n",
       "        <td style=\"padding-left: 1em; padding-right: 1em; text-align: center; vertical-align: top\">9</td>\n",
       "    </tr>\n",
       "    <tr>\n",
       "        <td style=\"padding-left: 1em; padding-right: 1em; text-align: center; vertical-align: top\">With Or Without You - U2</td>\n",
       "        <td style=\"padding-left: 1em; padding-right: 1em; text-align: center; vertical-align: top\">Get On Your Boots - U2</td>\n",
       "        <td style=\"padding-left: 1em; padding-right: 1em; text-align: center; vertical-align: top\">0.019685029983520508</td>\n",
       "        <td style=\"padding-left: 1em; padding-right: 1em; text-align: center; vertical-align: top\">10</td>\n",
       "    </tr>\n",
       "</table>\n",
       "[10 rows x 4 columns]<br/>\n",
       "</div>"
      ],
      "text/plain": [
       "Columns:\n",
       "\tsong\tstr\n",
       "\tsimilar\tstr\n",
       "\tscore\tfloat\n",
       "\trank\tint\n",
       "\n",
       "Rows: 10\n",
       "\n",
       "Data:\n",
       "+--------------------------+-------------------------------+\n",
       "|           song           |            similar            |\n",
       "+--------------------------+-------------------------------+\n",
       "| With Or Without You - U2 | I Still Haven't Found What... |\n",
       "| With Or Without You - U2 | Hold Me_ Thrill Me_ Kiss M... |\n",
       "| With Or Without You - U2 |    Window In The Skies - U2   |\n",
       "| With Or Without You - U2 |          Vertigo - U2         |\n",
       "| With Or Without You - U2 |   Sunday Bloody Sunday - U2   |\n",
       "| With Or Without You - U2 |            Bad - U2           |\n",
       "| With Or Without You - U2 |     A Day Without Me - U2     |\n",
       "| With Or Without You - U2 | Another Time Another Place... |\n",
       "| With Or Without You - U2 |          Walk On - U2         |\n",
       "| With Or Without You - U2 |     Get On Your Boots - U2    |\n",
       "+--------------------------+-------------------------------+\n",
       "+----------------------+------+\n",
       "|        score         | rank |\n",
       "+----------------------+------+\n",
       "| 0.04285717010498047  |  1   |\n",
       "| 0.033734917640686035 |  2   |\n",
       "| 0.03283584117889404  |  3   |\n",
       "| 0.03007519245147705  |  4   |\n",
       "| 0.02713179588317871  |  5   |\n",
       "| 0.02517986297607422  |  6   |\n",
       "| 0.023715436458587646 |  7   |\n",
       "| 0.020325183868408203 |  8   |\n",
       "| 0.020202040672302246 |  9   |\n",
       "| 0.019685029983520508 |  10  |\n",
       "+----------------------+------+\n",
       "[10 rows x 4 columns]"
      ]
     },
     "execution_count": 30,
     "metadata": {},
     "output_type": "execute_result"
    }
   ],
   "source": [
    "personalized_model.get_similar_items(['With Or Without You - U2'])"
   ]
  },
  {
   "cell_type": "code",
   "execution_count": 31,
   "metadata": {},
   "outputs": [
    {
     "data": {
      "text/html": [
       "<div style=\"max-height:1000px;max-width:1500px;overflow:auto;\"><table frame=\"box\" rules=\"cols\">\n",
       "    <tr>\n",
       "        <th style=\"padding-left: 1em; padding-right: 1em; text-align: center\">song</th>\n",
       "        <th style=\"padding-left: 1em; padding-right: 1em; text-align: center\">similar</th>\n",
       "        <th style=\"padding-left: 1em; padding-right: 1em; text-align: center\">score</th>\n",
       "        <th style=\"padding-left: 1em; padding-right: 1em; text-align: center\">rank</th>\n",
       "    </tr>\n",
       "    <tr>\n",
       "        <td style=\"padding-left: 1em; padding-right: 1em; text-align: center; vertical-align: top\">Chan Chan (Live) - Buena<br>Vista Social Club ...</td>\n",
       "        <td style=\"padding-left: 1em; padding-right: 1em; text-align: center; vertical-align: top\">Murmullo - Buena Vista<br>Social Club ...</td>\n",
       "        <td style=\"padding-left: 1em; padding-right: 1em; text-align: center; vertical-align: top\">0.1881188154220581</td>\n",
       "        <td style=\"padding-left: 1em; padding-right: 1em; text-align: center; vertical-align: top\">1</td>\n",
       "    </tr>\n",
       "    <tr>\n",
       "        <td style=\"padding-left: 1em; padding-right: 1em; text-align: center; vertical-align: top\">Chan Chan (Live) - Buena<br>Vista Social Club ...</td>\n",
       "        <td style=\"padding-left: 1em; padding-right: 1em; text-align: center; vertical-align: top\">La Bayamesa - Buena Vista<br>Social Club ...</td>\n",
       "        <td style=\"padding-left: 1em; padding-right: 1em; text-align: center; vertical-align: top\">0.1871921420097351</td>\n",
       "        <td style=\"padding-left: 1em; padding-right: 1em; text-align: center; vertical-align: top\">2</td>\n",
       "    </tr>\n",
       "    <tr>\n",
       "        <td style=\"padding-left: 1em; padding-right: 1em; text-align: center; vertical-align: top\">Chan Chan (Live) - Buena<br>Vista Social Club ...</td>\n",
       "        <td style=\"padding-left: 1em; padding-right: 1em; text-align: center; vertical-align: top\">Amor de Loca Juventud -<br>Buena Vista Social Club ...</td>\n",
       "        <td style=\"padding-left: 1em; padding-right: 1em; text-align: center; vertical-align: top\">0.18483412265777588</td>\n",
       "        <td style=\"padding-left: 1em; padding-right: 1em; text-align: center; vertical-align: top\">3</td>\n",
       "    </tr>\n",
       "    <tr>\n",
       "        <td style=\"padding-left: 1em; padding-right: 1em; text-align: center; vertical-align: top\">Chan Chan (Live) - Buena<br>Vista Social Club ...</td>\n",
       "        <td style=\"padding-left: 1em; padding-right: 1em; text-align: center; vertical-align: top\">Diferente - Gotan Project</td>\n",
       "        <td style=\"padding-left: 1em; padding-right: 1em; text-align: center; vertical-align: top\">0.021459221839904785</td>\n",
       "        <td style=\"padding-left: 1em; padding-right: 1em; text-align: center; vertical-align: top\">4</td>\n",
       "    </tr>\n",
       "    <tr>\n",
       "        <td style=\"padding-left: 1em; padding-right: 1em; text-align: center; vertical-align: top\">Chan Chan (Live) - Buena<br>Vista Social Club ...</td>\n",
       "        <td style=\"padding-left: 1em; padding-right: 1em; text-align: center; vertical-align: top\">Mistica - Orishas</td>\n",
       "        <td style=\"padding-left: 1em; padding-right: 1em; text-align: center; vertical-align: top\">0.020576119422912598</td>\n",
       "        <td style=\"padding-left: 1em; padding-right: 1em; text-align: center; vertical-align: top\">5</td>\n",
       "    </tr>\n",
       "    <tr>\n",
       "        <td style=\"padding-left: 1em; padding-right: 1em; text-align: center; vertical-align: top\">Chan Chan (Live) - Buena<br>Vista Social Club ...</td>\n",
       "        <td style=\"padding-left: 1em; padding-right: 1em; text-align: center; vertical-align: top\">Hotel California - Gipsy<br>Kings ...</td>\n",
       "        <td style=\"padding-left: 1em; padding-right: 1em; text-align: center; vertical-align: top\">0.019304990768432617</td>\n",
       "        <td style=\"padding-left: 1em; padding-right: 1em; text-align: center; vertical-align: top\">6</td>\n",
       "    </tr>\n",
       "    <tr>\n",
       "        <td style=\"padding-left: 1em; padding-right: 1em; text-align: center; vertical-align: top\">Chan Chan (Live) - Buena<br>Vista Social Club ...</td>\n",
       "        <td style=\"padding-left: 1em; padding-right: 1em; text-align: center; vertical-align: top\">Nací Orishas - Orishas</td>\n",
       "        <td style=\"padding-left: 1em; padding-right: 1em; text-align: center; vertical-align: top\">0.019157111644744873</td>\n",
       "        <td style=\"padding-left: 1em; padding-right: 1em; text-align: center; vertical-align: top\">7</td>\n",
       "    </tr>\n",
       "    <tr>\n",
       "        <td style=\"padding-left: 1em; padding-right: 1em; text-align: center; vertical-align: top\">Chan Chan (Live) - Buena<br>Vista Social Club ...</td>\n",
       "        <td style=\"padding-left: 1em; padding-right: 1em; text-align: center; vertical-align: top\">Gitana - Willie Colon</td>\n",
       "        <td style=\"padding-left: 1em; padding-right: 1em; text-align: center; vertical-align: top\">0.018796980381011963</td>\n",
       "        <td style=\"padding-left: 1em; padding-right: 1em; text-align: center; vertical-align: top\">8</td>\n",
       "    </tr>\n",
       "    <tr>\n",
       "        <td style=\"padding-left: 1em; padding-right: 1em; text-align: center; vertical-align: top\">Chan Chan (Live) - Buena<br>Vista Social Club ...</td>\n",
       "        <td style=\"padding-left: 1em; padding-right: 1em; text-align: center; vertical-align: top\">Le Moulin - Yann Tiersen</td>\n",
       "        <td style=\"padding-left: 1em; padding-right: 1em; text-align: center; vertical-align: top\">0.018796980381011963</td>\n",
       "        <td style=\"padding-left: 1em; padding-right: 1em; text-align: center; vertical-align: top\">9</td>\n",
       "    </tr>\n",
       "    <tr>\n",
       "        <td style=\"padding-left: 1em; padding-right: 1em; text-align: center; vertical-align: top\">Chan Chan (Live) - Buena<br>Vista Social Club ...</td>\n",
       "        <td style=\"padding-left: 1em; padding-right: 1em; text-align: center; vertical-align: top\">Criminal - Gotan Project</td>\n",
       "        <td style=\"padding-left: 1em; padding-right: 1em; text-align: center; vertical-align: top\">0.018779337406158447</td>\n",
       "        <td style=\"padding-left: 1em; padding-right: 1em; text-align: center; vertical-align: top\">10</td>\n",
       "    </tr>\n",
       "</table>\n",
       "[10 rows x 4 columns]<br/>\n",
       "</div>"
      ],
      "text/plain": [
       "Columns:\n",
       "\tsong\tstr\n",
       "\tsimilar\tstr\n",
       "\tscore\tfloat\n",
       "\trank\tint\n",
       "\n",
       "Rows: 10\n",
       "\n",
       "Data:\n",
       "+-------------------------------+--------------------------------+\n",
       "|              song             |            similar             |\n",
       "+-------------------------------+--------------------------------+\n",
       "| Chan Chan (Live) - Buena V... | Murmullo - Buena Vista Soc...  |\n",
       "| Chan Chan (Live) - Buena V... | La Bayamesa - Buena Vista ...  |\n",
       "| Chan Chan (Live) - Buena V... | Amor de Loca Juventud - Bu...  |\n",
       "| Chan Chan (Live) - Buena V... |   Diferente - Gotan Project    |\n",
       "| Chan Chan (Live) - Buena V... |       Mistica - Orishas        |\n",
       "| Chan Chan (Live) - Buena V... | Hotel California - Gipsy Kings |\n",
       "| Chan Chan (Live) - Buena V... |     Nací Orishas - Orishas     |\n",
       "| Chan Chan (Live) - Buena V... |     Gitana - Willie Colon      |\n",
       "| Chan Chan (Live) - Buena V... |    Le Moulin - Yann Tiersen    |\n",
       "| Chan Chan (Live) - Buena V... |    Criminal - Gotan Project    |\n",
       "+-------------------------------+--------------------------------+\n",
       "+----------------------+------+\n",
       "|        score         | rank |\n",
       "+----------------------+------+\n",
       "|  0.1881188154220581  |  1   |\n",
       "|  0.1871921420097351  |  2   |\n",
       "| 0.18483412265777588  |  3   |\n",
       "| 0.021459221839904785 |  4   |\n",
       "| 0.020576119422912598 |  5   |\n",
       "| 0.019304990768432617 |  6   |\n",
       "| 0.019157111644744873 |  7   |\n",
       "| 0.018796980381011963 |  8   |\n",
       "| 0.018796980381011963 |  9   |\n",
       "| 0.018779337406158447 |  10  |\n",
       "+----------------------+------+\n",
       "[10 rows x 4 columns]"
      ]
     },
     "execution_count": 31,
     "metadata": {},
     "output_type": "execute_result"
    }
   ],
   "source": [
    "personalized_model.get_similar_items(['Chan Chan (Live) - Buena Vista Social Club'])"
   ]
  },
  {
   "cell_type": "markdown",
   "metadata": {},
   "source": [
    "# Compare the models quantitatively\n",
    "We now formally compare the popularity and the personalized models using precision-recall curves. "
   ]
  },
  {
   "cell_type": "code",
   "execution_count": 32,
   "metadata": {},
   "outputs": [
    {
     "name": "stdout",
     "output_type": "stream",
     "text": [
      "compare_models: using 2931 users to estimate model performance\n",
      "PROGRESS: Evaluate model M0\n"
     ]
    },
    {
     "data": {
      "text/html": [
       "<pre>recommendations finished on 1000/2931 queries. users per second: 11639.5</pre>"
      ],
      "text/plain": [
       "recommendations finished on 1000/2931 queries. users per second: 11639.5"
      ]
     },
     "metadata": {},
     "output_type": "display_data"
    },
    {
     "data": {
      "text/html": [
       "<pre>recommendations finished on 2000/2931 queries. users per second: 12024.1</pre>"
      ],
      "text/plain": [
       "recommendations finished on 2000/2931 queries. users per second: 12024.1"
      ]
     },
     "metadata": {},
     "output_type": "display_data"
    },
    {
     "name": "stderr",
     "output_type": "stream",
     "text": [
      "WARNING:root:Model trained without a target. Skipping RMSE computation.\n"
     ]
    },
    {
     "name": "stdout",
     "output_type": "stream",
     "text": [
      "\n",
      "Precision and recall summary statistics by cutoff\n",
      "+--------+----------------------+----------------------+\n",
      "| cutoff |    mean_precision    |     mean_recall      |\n",
      "+--------+----------------------+----------------------+\n",
      "|   1    | 0.020470829068577272 | 0.006502593657148416 |\n",
      "|   2    | 0.01842374616171958  | 0.011366187927088652 |\n",
      "|   3    | 0.017172751051973186 | 0.014832702268730931 |\n",
      "|   4    | 0.015864892528147382 | 0.018088948846369548 |\n",
      "|   5    | 0.014602524735585135 | 0.020396668042522704 |\n",
      "|   6    | 0.01444330717616285  | 0.02434893757821088  |\n",
      "|   7    | 0.013988399863527819 | 0.027889488918148086 |\n",
      "|   8    | 0.013476629136813372 | 0.030102944176639175 |\n",
      "|   9    | 0.01338185678001441  | 0.03326509155577737  |\n",
      "|   10   | 0.013101330603889487 | 0.03598830753385517  |\n",
      "+--------+----------------------+----------------------+\n",
      "[10 rows x 3 columns]\n",
      "\n",
      "PROGRESS: Evaluate model M1\n"
     ]
    },
    {
     "data": {
      "text/html": [
       "<pre>recommendations finished on 1000/2931 queries. users per second: 11773</pre>"
      ],
      "text/plain": [
       "recommendations finished on 1000/2931 queries. users per second: 11773"
      ]
     },
     "metadata": {},
     "output_type": "display_data"
    },
    {
     "data": {
      "text/html": [
       "<pre>recommendations finished on 2000/2931 queries. users per second: 10870.6</pre>"
      ],
      "text/plain": [
       "recommendations finished on 2000/2931 queries. users per second: 10870.6"
      ]
     },
     "metadata": {},
     "output_type": "display_data"
    },
    {
     "name": "stderr",
     "output_type": "stream",
     "text": [
      "WARNING:root:Model trained without a target. Skipping RMSE computation.\n"
     ]
    },
    {
     "name": "stdout",
     "output_type": "stream",
     "text": [
      "\n",
      "Precision and recall summary statistics by cutoff\n",
      "+--------+----------------------+----------------------+\n",
      "| cutoff |    mean_precision    |     mean_recall      |\n",
      "+--------+----------------------+----------------------+\n",
      "|   1    | 0.05185943364039577  | 0.015441715492892574 |\n",
      "|   2    |  0.0446946434663937  | 0.02510200478470696  |\n",
      "|   3    | 0.038780848402138045 | 0.03251581240322283  |\n",
      "|   4    | 0.03488570453770046  | 0.038412285239306725 |\n",
      "|   5    | 0.03159331286250431  | 0.042333582531667906 |\n",
      "|   6    | 0.028545433867849447 | 0.045131266291480635 |\n",
      "|   7    | 0.026563337719939586 | 0.04914396480264388  |\n",
      "|   8    | 0.02482088024564995  | 0.05253047650542984  |\n",
      "|   9    | 0.023313999772546373 |  0.055618319895218   |\n",
      "|   10   | 0.02217673149095874  | 0.05901889975434442  |\n",
      "+--------+----------------------+----------------------+\n",
      "[10 rows x 3 columns]\n",
      "\n"
     ]
    }
   ],
   "source": [
    "model_performance = turicreate.recommender.util.compare_models(test_data, [popularity_model, personalized_model], user_sample=.05)"
   ]
  },
  {
   "cell_type": "markdown",
   "metadata": {},
   "source": [
    "The table shows that the personalized model provides much better performance."
   ]
  },
  {
   "cell_type": "code",
   "execution_count": null,
   "metadata": {},
   "outputs": [],
   "source": []
  }
 ],
 "metadata": {
  "kernelspec": {
   "display_name": "Python 3",
   "language": "python",
   "name": "python3"
  },
  "language_info": {
   "codemirror_mode": {
    "name": "ipython",
    "version": 3
   },
   "file_extension": ".py",
   "mimetype": "text/x-python",
   "name": "python",
   "nbconvert_exporter": "python",
   "pygments_lexer": "ipython3",
   "version": "3.7.3"
  }
 },
 "nbformat": 4,
 "nbformat_minor": 2
}
